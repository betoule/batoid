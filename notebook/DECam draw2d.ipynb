{
 "cells": [
  {
   "cell_type": "code",
   "execution_count": null,
   "metadata": {},
   "outputs": [],
   "source": [
    "import batoid\n",
    "import numpy as np\n",
    "import matplotlib.pyplot as plt\n",
    "%matplotlib inline"
   ]
  },
  {
   "cell_type": "code",
   "execution_count": null,
   "metadata": {},
   "outputs": [],
   "source": [
    "telescope = batoid.Optic.fromYaml(\"DECam.yaml\")\n",
    "\n",
    "fig, ax = plt.subplots(figsize=(8, 16))\n",
    "\n",
    "telescope.draw2d(\n",
    "    ax, only=batoid.Lens, fc='c', alpha=0.2, \n",
    "#     labelpos=1.62, fontdict=dict(fontsize=18, weight='bold', color='c')\n",
    ")\n",
    "telescope.draw2d(ax, only=batoid.Detector, c='b', lw=2)\n",
    "telescope.draw2d(ax, only=batoid.Baffle, c='r', lw=1, ls=':',\n",
    ")\n",
    "telescope.draw2d(ax, only=batoid.Mirror, c='b', lw=2)\n",
    "\n",
    "# Fill the (x, z) plane with rays entering the pupil.\n",
    "z_pupil = telescope.backDist\n",
    "r_pupil = 0.5 * telescope.pupilSize\n",
    "x_pupil = np.linspace(-r_pupil, r_pupil, 22)\n",
    "\n",
    "# Trace and draw 500nm rays from 5 angles covering the field of view.\n",
    "wlen = 500e-9\n",
    "fov = np.deg2rad(2.2)\n",
    "thetas = np.linspace(-0.5 * fov, +0.5 * fov, 5)\n",
    "for theta in thetas:\n",
    "    v = [np.sin(theta), 0., -np.cos(theta)]\n",
    "    rays = batoid.RayVector([\n",
    "        batoid.Ray([x, 0, z_pupil], v, t=0, wavelength=wlen) for x in x_pupil])\n",
    "    traceFull = telescope.traceFull(rays)\n",
    "    batoid.drawTrace2d(ax, traceFull, c='k', lw=1, alpha=0.3)\n",
    "\n",
    "# ax.set_xlim(-0.6, 0.7)\n",
    "ax.set_xlim(-2.1, 2.1)\n",
    "ax.set_ylim(0.0, 12.0)\n",
    "ax.set_aspect(1.0)\n",
    "ax.axis('off')\n",
    "plt.show()"
   ]
  },
  {
   "cell_type": "code",
   "execution_count": null,
   "metadata": {},
   "outputs": [],
   "source": [
    "telescope = batoid.Optic.fromYaml(\"DECam.yaml\")\n",
    "\n",
    "fig, ax = plt.subplots(figsize=(8, 16))\n",
    "\n",
    "telescope.draw2d(\n",
    "    ax, only=batoid.Lens, fc='c', alpha=0.2, \n",
    "    labelpos=0.62, fontdict=dict(fontsize=18, weight='bold', color='c')\n",
    ")\n",
    "telescope.draw2d(ax, only=batoid.Detector, c='b', lw=2)\n",
    "telescope.draw2d(ax, only=batoid.Baffle, c='r', lw=1, ls=':',\n",
    "#     labelpos=0.62, fontdict=dict(fontsize=18, weight='bold', color='r')\n",
    ")\n",
    "telescope.draw2d(ax, only=batoid.Mirror, c='b', lw=2)\n",
    "\n",
    "# Fill the (x, z) plane with rays entering the pupil.\n",
    "z_pupil = telescope.backDist\n",
    "r_pupil = 0.5 * telescope.pupilSize\n",
    "x_pupil = np.linspace(-r_pupil, r_pupil, 12)\n",
    "\n",
    "# Trace and draw 500nm rays from 5 angles covering the field of view.\n",
    "wlen = 500e-9\n",
    "fov = np.deg2rad(2.2)\n",
    "thetas = np.linspace(-0.5 * fov, +0.5 * fov, 5)\n",
    "for theta in thetas:\n",
    "    v = [np.sin(theta), 0., -np.cos(theta)]\n",
    "    rays = batoid.RayVector([\n",
    "        batoid.Ray([x, 0, z_pupil], v, t=0, wavelength=wlen) for x in x_pupil])\n",
    "    traceFull = telescope.traceFull(rays)\n",
    "    batoid.drawTrace2d(ax, traceFull, c='k', lw=1, alpha=0.3)\n",
    "\n",
    "ax.set_xlim(-0.6, 0.7)\n",
    "# ax.set_xlim(-2.2, 2.2)\n",
    "ax.set_ylim(8.5, 10.9)\n",
    "ax.set_aspect(1.0)\n",
    "ax.axis('off')\n",
    "plt.show()"
   ]
  },
  {
   "cell_type": "code",
   "execution_count": null,
   "metadata": {},
   "outputs": [],
   "source": [
    "rays = batoid.RayVector.asPolar(\n",
    "    telescope, \n",
    "    wavelength=500e-9,\n",
    "    theta_x=np.deg2rad(0.41181), theta_y=np.deg2rad(0.778),\n",
    "#     nrad=200, naz=1200\n",
    "#     nrad=400, naz=2400\n",
    "#     nrad=500, naz=3000\n",
    "    nrad=1000, naz=6000\n",
    ")\n",
    "pupilRays = telescope.trace(\n",
    "    rays.copy(), \n",
    "    path=['MASK']\n",
    ")\n",
    "outRays = telescope.trace(rays.copy())\n",
    "plt.figure(figsize=(12, 12))\n",
    "# plt.scatter(rays.x[~outRays.vignetted], rays.y[~outRays.vignetted], s=0.1, alpha=0.2, c='b')\n",
    "plt.scatter(pupilRays.x[~outRays.vignetted], pupilRays.y[~outRays.vignetted], s=0.1, c='b', \n",
    "            alpha=0.2)\n",
    "plt.axis('equal')\n",
    "plt.show()\n",
    "outRays.trimVignetted()\n",
    "print(np.mean(outRays.x), np.mean(outRays.y))"
   ]
  },
  {
   "cell_type": "code",
   "execution_count": null,
   "metadata": {},
   "outputs": [],
   "source": [
    "for name in telescope.path:\n",
    "    print(f\"{name:20s} {telescope[name].coordSys.origin[2]*1e3:.3f}\")"
   ]
  },
  {
   "cell_type": "code",
   "execution_count": null,
   "metadata": {},
   "outputs": [],
   "source": []
  }
 ],
 "metadata": {
  "kernelspec": {
   "display_name": "Python 3",
   "language": "python",
   "name": "python3"
  },
  "language_info": {
   "codemirror_mode": {
    "name": "ipython",
    "version": 3
   },
   "file_extension": ".py",
   "mimetype": "text/x-python",
   "name": "python",
   "nbconvert_exporter": "python",
   "pygments_lexer": "ipython3",
   "version": "3.7.6"
  }
 },
 "nbformat": 4,
 "nbformat_minor": 4
}
