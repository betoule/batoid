{
 "cells": [
  {
   "cell_type": "code",
   "execution_count": null,
   "metadata": {},
   "outputs": [],
   "source": [
    "import batoid\n",
    "import os\n",
    "import yaml\n",
    "import numpy as np\n",
    "from ipywidgets import interact\n",
    "import ipywidgets as widgets\n",
    "import matplotlib.pyplot as plt\n",
    "from mpl_toolkits.mplot3d import Axes3D\n",
    "%matplotlib inline"
   ]
  },
  {
   "cell_type": "code",
   "execution_count": null,
   "metadata": {},
   "outputs": [],
   "source": [
    "DECAM_fn = os.path.join(batoid.datadir, \"decam\", \"DECam2.yaml\")\n",
    "config = yaml.load(open(DECAM_fn))\n",
    "fiducial_telescope = batoid.parse.parse_optic(config['opticalSystem'])"
   ]
  },
  {
   "cell_type": "code",
   "execution_count": null,
   "metadata": {
    "scrolled": false
   },
   "outputs": [],
   "source": [
    "fig1 = plt.figure(figsize=(12, 11))\n",
    "ax1 = fig1.add_subplot(111)\n",
    "fiducial_telescope.draw2d(ax1, c='k')\n",
    "\n",
    "fig2 = plt.figure(figsize=(12, 11))\n",
    "ax2 = fig2.add_subplot(111, projection='3d')\n",
    "fiducial_telescope.draw3d(ax2, c='k')\n",
    "\n",
    "p0_left = batoid.Vec3(-1.8, 0, 0)\n",
    "p0_right = batoid.Vec3(1.8, 0, 0)\n",
    "p0_lmid = batoid.Vec3(-0.9, 0, 0)\n",
    "p0_rmid = batoid.Vec3(0.9, 0, 0)\n",
    "v_left = batoid.Vec3(-1*np.pi/180, 0, -1).UnitVec3()/1.000277\n",
    "v_mid = batoid.Vec3(0, 0, -1).UnitVec3()/1.000277\n",
    "v_right = batoid.Vec3(1*np.pi/180, 0, -1).UnitVec3()/1.000277\n",
    "\n",
    "for v, c in zip([v_left, v_mid, v_right], ['#377eb8', '#ff7f00', '#4daf4a']):\n",
    "    rays = batoid.RayVector()\n",
    "    for p0 in [p0_left, p0_lmid, p0_rmid, p0_right]:\n",
    "        ray = batoid.Ray(p0, v, t=0, w=500e-9)\n",
    "        p0 = ray.positionAtTime(-10)        \n",
    "        rays.append(batoid.Ray(p0, v, t=0, w=500e-9))\n",
    "    traceFull = fiducial_telescope.traceFull(rays)\n",
    "    batoid.drawTrace2d(ax1, traceFull, c=c)\n",
    "    batoid.drawTrace3d(ax2, traceFull, c=c)    "
   ]
  },
  {
   "cell_type": "code",
   "execution_count": null,
   "metadata": {},
   "outputs": [],
   "source": [
    "fig1 = plt.figure(figsize=(12, 11))\n",
    "ax1 = fig1.add_subplot(111)\n",
    "fiducial_telescope.itemDict['BlancoDECam.DECam'].draw2d(ax1, c='k')\n",
    "ax1.set_xlim(ax1.get_xlim())\n",
    "ax1.set_ylim(ax1.get_ylim())\n",
    "\n",
    "fig2 = plt.figure(figsize=(12, 11))\n",
    "ax2 = fig2.add_subplot(111, projection='3d')\n",
    "fiducial_telescope.itemDict['BlancoDECam.DECam'].draw3d(ax2, c='k')\n",
    "ax2.set_xlim(ax2.get_xlim())\n",
    "ax2.set_ylim(ax2.get_ylim())\n",
    "ax2.set_zlim(ax2.get_zlim())\n",
    "\n",
    "p0_left = batoid.Vec3(-1.8, 0, 0)\n",
    "p0_right = batoid.Vec3(1.8, 0, 0)\n",
    "p0_lmid = batoid.Vec3(-0.9, 0, 0)\n",
    "p0_rmid = batoid.Vec3(0.9, 0, 0)\n",
    "v_left = batoid.Vec3(-1*np.pi/180, 0, -1).UnitVec3()/1.000277\n",
    "v_mid = batoid.Vec3(0, 0, -1).UnitVec3()/1.000277\n",
    "v_right = batoid.Vec3(1*np.pi/180, 0, -1).UnitVec3()/1.000277\n",
    "\n",
    "for v, c in zip([v_left, v_mid, v_right], ['#377eb8', '#ff7f00', '#4daf4a']):\n",
    "    rays = batoid.RayVector()\n",
    "    for p0 in [p0_left, p0_lmid, p0_rmid, p0_right]:\n",
    "        ray = batoid.Ray(p0, v, t=0, w=500e-9)\n",
    "        p0 = ray.positionAtTime(-10)        \n",
    "        rays.append(batoid.Ray(p0, v, t=0, w=500e-9))\n",
    "    traceFull = fiducial_telescope.traceFull(rays)\n",
    "    batoid.drawTrace2d(ax1, traceFull, c=c)\n",
    "    batoid.drawTrace3d(ax2, traceFull, c=c)    "
   ]
  },
  {
   "cell_type": "code",
   "execution_count": null,
   "metadata": {},
   "outputs": [],
   "source": []
  }
 ],
 "metadata": {
  "kernelspec": {
   "display_name": "Python 3",
   "language": "python",
   "name": "python3"
  },
  "language_info": {
   "codemirror_mode": {
    "name": "ipython",
    "version": 3
   },
   "file_extension": ".py",
   "mimetype": "text/x-python",
   "name": "python",
   "nbconvert_exporter": "python",
   "pygments_lexer": "ipython3",
   "version": "3.6.2"
  }
 },
 "nbformat": 4,
 "nbformat_minor": 2
}
