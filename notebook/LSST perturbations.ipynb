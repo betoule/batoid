{
 "cells": [
  {
   "cell_type": "code",
   "execution_count": null,
   "metadata": {
    "collapsed": true
   },
   "outputs": [],
   "source": [
    "import jtrace\n",
    "import re\n",
    "import numpy as np\n",
    "from ipywidgets import interact\n",
    "import ipywidgets as widgets\n",
    "import matplotlib.pyplot as plt\n",
    "%matplotlib inline"
   ]
  },
  {
   "cell_type": "code",
   "execution_count": null,
   "metadata": {
    "collapsed": true
   },
   "outputs": [],
   "source": [
    "# Use r-band so we can compare with phosim paper.\n",
    "rbandstr=\"\"\"\n",
    "#\n",
    "# Column 0: Name\n",
    "# Column 1: Type\n",
    "# Column 2: Curvature R (mm)\n",
    "# Column 3: Thickness dz (mm)\n",
    "# Column 4: Outer Radius (mm)\n",
    "# Column 5: Inner Radius (mm)\n",
    "# Column 6: Conic Constant Kappa\n",
    "# Column 7 - 14: Aspheric Coefficient a_3 - a_10 (a_n r^n in meters)\n",
    "# Column 15: Coating file\n",
    "# Column 16: Medium file\n",
    "#\n",
    "# (0)   (1)      (2)            (3)             (4)      (5)      (6)   (7)     (8)     (9)    (10)            (11)    (12)            (13) (14)    (15)                (16)                                                         \n",
    "M1\tmirror\t19835.0\t\t0.0\t\t4180.0\t2558.0\t-1.215\t0.0\t0.0\t0.0\t1.381e-27\t0.0\t0.0\t\t0.0 0.0\tm1_protAl_Ideal.txt      air\n",
    "M2\tmirror\t6788.0\t\t6156.2006       1710.0\t900.0\t-0.222\t0.0\t0.0\t0.0\t-1.274e-23\t0.0\t-9.68e-31\t0.0 0.0\tm2_protAl_Ideal.txt\tair\n",
    "M3\tmirror\t8344.5\t\t-6390.0006      2508.0\t550.0\t0.155\t0.0\t0.0\t0.0\t-4.5e-25\t0.0\t-8.15e-33\t0.0 0.0\tm3_protAl_Ideal.txt\tair\n",
    "none\tnone\t0.0\t\t3630.5\t\t0.0\t0.0\t0.0\t0.0\t0.0\t0.0\t0.0\t\t0.0\t0.0\t\t0.0 0.0\tnone\t\tair\n",
    "L1\tlens\t2824.0\t\t0.7725882045598\t775.0\t0.0\t0.0\t0.0\t0.0\t0.0\t0.0\t\t0.0\t0.0\t\t0.0 0.0\tlenses.txt      silica_dispersion.txt\n",
    "L1E\tlens\t5021.0\t\t82.23\t\t775.0\t0.0\t0.0\t0.0\t0.0\t0.0\t0.0\t\t0.0\t0.0\t\t0.0 0.0\tlenses.txt      air\n",
    "L2\tlens\t0.0\t\t412.64202\t551.0\t0.0\t0.0\t0.0\t0.0\t0.0\t0.0\t\t0.0\t0.0\t\t0.0 0.0\tlenses.txt      silica_dispersion.txt\n",
    "L2E\tlens\t2529.0\t\t30.0\t\t551.0\t0.0\t-1.57\t0.0\t0.0\t0.0\t1.656e-21\t0.0\t0.0\t\t0.0 0.0\tlenses.txt\tair\n",
    "F\tfilter\t5632.0\t\t349.58\t\t375.0\t0.0\t0.0\t0.0\t0.0\t0.0\t0.0\t\t0.0\t0.0\t\t0.0 0.0\tfilter_2.txt\tsilica_dispersion.txt\n",
    "FE\tfilter\t5606.0\t\t17.90\t\t375.0\t0.0\t0.0\t0.0\t0.0\t0.0\t0.0\t\t0.0\t0.0\t\t0.0 0.0\tnone            air\n",
    "L3\tlens\t3169.0\t\t51.10\t\t361.0\t0.0\t-0.962\t0.0\t0.0\t0.0\t0.0\t\t0.0\t0.0\t\t0.0 0.0\tlenses.txt      silica_dispersion.txt\n",
    "L3E\tlens\t-13360.0\t60.0\t\t361.0\t0.0\t0.0\t0.0\t0.0\t0.0\t0.0\t\t0.0\t0.0\t\t0.0 0.0\tlenses.txt      air\n",
    "D\tdet\t0.0\t\t28.5\t\t400.0\t0.0\t0.0\t0.0\t0.0\t0.0\t0.0\t\t0.0\t0.0\t\t0.0 0.0\tdetectorar.txt  air\n",
    "\"\"\"\n",
    "re.sub(\"\\s+\",\" \", rbandstr)\n",
    "None"
   ]
  },
  {
   "cell_type": "code",
   "execution_count": null,
   "metadata": {
    "collapsed": true
   },
   "outputs": [],
   "source": [
    "air = jtrace.ConstMedium(1.000277)\n",
    "w, n = np.genfromtxt(\"silica_dispersion.txt\").T\n",
    "w *= 1000  # microns -> nanometers\n",
    "silica = jtrace.TableMedium(jtrace.Table(w, n, jtrace.Table.Interpolant.linear))"
   ]
  },
  {
   "cell_type": "code",
   "execution_count": null,
   "metadata": {
    "collapsed": false
   },
   "outputs": [],
   "source": [
    "def rays(theta_x, theta_y, wavelength):\n",
    "    # Point towards (0,0,0), but at an angle.  Need to determine pupil locations.\n",
    "    rs = np.linspace(telescope[0]['inner'], telescope[0]['outer'], 40)\n",
    "    # The above works if theta is 0.\n",
    "    # If theta is not zero, then need to shift the rays depending on how far away their origins are.\n",
    "    # We'll set the z-origin of the rays to be 25 meters above the M1 vertex.\n",
    "    z = 25\n",
    "    dx = z * np.tan(theta_x)\n",
    "    dy = z * np.tan(theta_y)\n",
    "    rays_ = []\n",
    "    for r in rs:        \n",
    "        phis = np.linspace(0, 2*np.pi, int(256*r/telescope[0]['outer']), endpoint=False)\n",
    "        for phi in phis:\n",
    "            rays_.append(\n",
    "                jtrace.Ray(jtrace.Vec3(r*np.cos(phi)+dx, r*np.sin(phi)+dy, z),\n",
    "                           jtrace.Vec3(-np.tan(theta_x), -np.tan(theta_y), -1).UnitVec3()/air.getN(wavelength),\n",
    "                           0, wavelength))\n",
    "    return rays_"
   ]
  },
  {
   "cell_type": "code",
   "execution_count": null,
   "metadata": {
    "collapsed": false
   },
   "outputs": [],
   "source": [
    "def traceMany(rays, telescope):\n",
    "    rs = jtrace.RayVector(rays)\n",
    "    for optic in telescope:\n",
    "        isecs = optic['surface'].intersect(rs)\n",
    "        if optic['typ'] == 'mirror':\n",
    "            rs = jtrace._jtrace.reflectMany(isecs, rs)\n",
    "        elif optic['typ'] in ['lens', 'filter']:\n",
    "            rs = jtrace._jtrace.refractMany(isecs, rs, optic['m0'], optic['m1'])\n",
    "    return rs, isecs\n",
    "\n",
    "def perturb(M1M3_dx=0, M1M3_dy=0, \n",
    "            M2_dx=0, M2_dy=0, M2_dz=0,\n",
    "            cam_dx=0, cam_dy=0, cam_dz=0):\n",
    "    telescope = []\n",
    "    z = 0.0\n",
    "    m0 = air\n",
    "    m1 = silica\n",
    "    for line in rbandstr.split('\\n'):\n",
    "        if len(line) == 0 : continue\n",
    "        if line[0] == '#': continue\n",
    "        name, typ, R, dz, outer, inner, kappa, a3, a4, a5, a6, a7, a8, a9, a10, coating, medium = line.split()\n",
    "        z += float(dz)/1000\n",
    "        if typ == 'none': continue\n",
    "        m0 = m1\n",
    "        if medium == 'air': \n",
    "            m1 = air\n",
    "        else:\n",
    "            m1 = silica\n",
    "        if float(R) == 0:\n",
    "            surface = jtrace.Plane(z, float(inner)/1000, float(outer)/1000)\n",
    "        else:\n",
    "            # Notice the manipulation of the raw aspheric coefficients below.  There's a negative sign missing, \n",
    "            # and also the coefficients are for mm instead of m, so there are factors of 1000^4, ^6, and ^8 missing\n",
    "            # as well.\n",
    "            surface = jtrace.Asphere(float(R)/1000,\n",
    "                                     float(kappa), \n",
    "                                     [-float(a4)*10**(4*3), -float(a6)*10**(6*3), -float(a8)*10**(8*3)],\n",
    "                                     z, float(inner)/1000, float(outer)/1000)\n",
    "        if name in ['M1', 'M3']:\n",
    "            surface = surface.shift(M1M3_dx, M1M3_dy, 0)\n",
    "        elif name == 'M2':\n",
    "            surface = surface.shift(M2_dx, M2_dy, M2_dz) \n",
    "        elif name[0] in ['L', 'F', 'D']:\n",
    "            surface = surface.shift(cam_dx, cam_dy, cam_dz)\n",
    "        telescope.append(dict(name=name, surface=surface, outer=float(outer)/1000, inner=float(inner)/1000, m0=m0, m1=m1, typ=typ))\n",
    "    return telescope\n",
    "telescope = perturb()"
   ]
  },
  {
   "cell_type": "code",
   "execution_count": null,
   "metadata": {
    "collapsed": false
   },
   "outputs": [],
   "source": [
    "@interact(wavelen=widgets.FloatSlider(min=300.0,max=1200.0,step=10.0,value=620.0),\n",
    "          theta_x=widgets.FloatSlider(min=-1.75,max=1.75,step=0.01,value=-1.40),\n",
    "          theta_y=widgets.FloatSlider(min=-1.75,max=1.75,step=0.01,value=0.0),\n",
    "          M1M3_dx=widgets.FloatSlider(min=-1.0, max=1.0, step=0.01, value=0.00),\n",
    "          M1M3_dy=widgets.FloatSlider(min=-1.0, max=1.0, step=0.01, value=0.0),\n",
    "          M2_dx=widgets.FloatSlider(min=-1.0, max=1.0, step=0.01, value=0.0),\n",
    "          M2_dy=widgets.FloatSlider(min=-1.0, max=1.0, step=0.01, value=0.0),\n",
    "          M2_dz=widgets.FloatSlider(min=-1.0, max=1.0, step=0.01, value=0.0),\n",
    "          cam_dx=widgets.FloatSlider(min=-1.0, max=1.0, step=0.01, value=0.0),\n",
    "          cam_dy=widgets.FloatSlider(min=-1.0, max=1.0, step=0.01, value=0.0),\n",
    "          cam_dz=widgets.FloatSlider(min=-1, max=1, step=0.01, value=0.0),\n",
    "          logscale=widgets.FloatSlider(min=1, max=3, step=0.1, value=1))\n",
    "def spot(wavelen, theta_x, theta_y, M1M3_dx, M1M3_dy, M2_dx, M2_dy, M2_dz, cam_dx, cam_dy, cam_dz, logscale):\n",
    "    \"\"\"Display a spot diagram for LSST.\n",
    "\n",
    "    @param wavelen  Wavelength in nm\n",
    "    @param theta_x  Field angle in degrees\n",
    "    @param theta_y  Field angle in degrees\n",
    "    @param M1M3_dx  M1M3 x decenter in mm\n",
    "    @param M1M3_dy  M1M3 y decenter in mm\n",
    "    @param M2_dx    M2 x decenter in mm\n",
    "    @param M2_dy    M2 y decenter in mm\n",
    "    @param cam_dx   Camera x decenter in mm\n",
    "    @param cam_dy   Camera y decenter in mm\n",
    "    @param cam_dz   Camera z despace in mm\n",
    "    @param logscale Logarithmic axes zoom level\n",
    "    \"\"\"\n",
    "    telescope = perturb(M1M3_dx*1e-3, M1M3_dy*1e-3, \n",
    "                        M2_dx*1e-3, M2_dy*1e-3, M2_dz*1e-3,\n",
    "                        cam_dx*1e-3, cam_dy*1e-3, cam_dz*1e-3)\n",
    "    rs, isecs = traceMany(rays(theta_x*np.pi/180, theta_y*np.pi/180, wavelen), telescope)\n",
    "    spots = [(isec.x0, isec.y0) for isec, ray in zip(isecs, rs) if not ray.isVignetted]\n",
    "    spots = np.array(spots)\n",
    "    spots -= np.mean(spots, axis=0)\n",
    "    spots *= 1e6 # meters -> microns\n",
    "    plt.figure(figsize=(4.5,4))\n",
    "    plt.scatter(spots[:,0], spots[:,1], s=1, alpha=0.2)\n",
    "    plt.xlim(-10**logscale, 10**logscale)\n",
    "    plt.ylim(-10**logscale, 10**logscale)\n",
    "    plt.title(r\"$\\theta_x = {:4.2f}\\,,\\theta_y = {:4.2f}$\".format(theta_x, theta_y))\n",
    "    plt.xlabel(\"microns\")\n",
    "    plt.ylabel(\"microns\")"
   ]
  },
  {
   "cell_type": "code",
   "execution_count": null,
   "metadata": {
    "collapsed": true
   },
   "outputs": [],
   "source": [
    "#  http://stackoverflow.com/a/18968498\n",
    "def planeFit(points):\n",
    "    \"\"\"\n",
    "    p, n = planeFit(points)\n",
    "\n",
    "    Given an array, points, of shape (d,...)\n",
    "    representing points in d-dimensional space,\n",
    "    fit an d-dimensional plane to the points.\n",
    "    Return a point, p, on the plane (the point-cloud centroid),\n",
    "    and the normal, n.\n",
    "    \"\"\"\n",
    "    from numpy.linalg import svd\n",
    "    points = np.reshape(points, (np.shape(points)[0], -1)) # Collapse trialing dimensions\n",
    "    ctr = points.mean(axis=1)\n",
    "    x = points - ctr[:,np.newaxis]\n",
    "    M = np.dot(x, x.T) # Could also use np.cov(x) here.\n",
    "    return ctr, svd(M)[0][:,-1]"
   ]
  },
  {
   "cell_type": "code",
   "execution_count": null,
   "metadata": {
    "collapsed": false
   },
   "outputs": [],
   "source": [
    "@interact(wavelen=widgets.FloatSlider(min=300.0,max=1200.0,step=10.0,value=620.0),\n",
    "          theta_x=widgets.FloatSlider(min=-1.75,max=1.75,step=0.01,value=-1.4),\n",
    "          theta_y=widgets.FloatSlider(min=-1.75,max=1.75,step=0.01,value=0.0),\n",
    "          M1M3_dx=widgets.FloatSlider(min=-1.0, max=1.0, step=0.01, value=0.00),\n",
    "          M1M3_dy=widgets.FloatSlider(min=-1.0, max=1.0, step=0.01, value=0.0),\n",
    "          M2_dx=widgets.FloatSlider(min=-1.0, max=1.0, step=0.01, value=0.0),\n",
    "          M2_dy=widgets.FloatSlider(min=-1.0, max=1.0, step=0.01, value=0.0),\n",
    "          M2_dz=widgets.FloatSlider(min=-1.0, max=1.0, step=0.01, value=0.0),\n",
    "          cam_dx=widgets.FloatSlider(min=-1.0, max=1.0, step=0.01, value=0.0),\n",
    "          cam_dy=widgets.FloatSlider(min=-1.0, max=1.0, step=0.01, value=0.0),\n",
    "          cam_dz=widgets.FloatSlider(min=-1, max=1, step=0.01, value=0.0),\n",
    "          logscale=widgets.FloatSlider(min=-6, max=-4, step=0.1, value=-5.5))\n",
    "def opd(wavelen, theta_x, theta_y, M1M3_dx, M1M3_dy, M2_dx, M2_dy, M2_dz, cam_dx, cam_dy, cam_dz, logscale):\n",
    "    \"\"\"Display optical path differences\n",
    "\n",
    "    @param wavelen  Wavelength in nm\n",
    "    @param theta_x  Field angle in degrees\n",
    "    @param theta_y  Field angle in degrees\n",
    "    @param M1M3_dx  M1M3 x decenter in mm\n",
    "    @param M1M3_dy  M1M3 y decenter in mm\n",
    "    @param M2_dx    M2 x decenter in mm\n",
    "    @param M2_dy    M2 y decenter in mm\n",
    "    @param cam_dx   Camera x decenter in mm\n",
    "    @param cam_dy   Camera y decenter in mm\n",
    "    @param cam_dz   Camera z despace in mm\n",
    "    @param logscale Logarithmic colorbar zoom level\n",
    "    \"\"\"\n",
    "    telescope = perturb(M1M3_dx*1e-3, M1M3_dy*1e-3, \n",
    "                        M2_dx*1e-3, M2_dy*1e-3, M2_dz*1e-3,\n",
    "                        cam_dx*1e-3, cam_dy*1e-3, cam_dz*1e-3)\n",
    "    rs, isecs = traceMany(rays(theta_x*np.pi/180, theta_y*np.pi/180, wavelen), telescope)\n",
    "    theta_opd = [(r.v.x, r.v.y, isec.t) for r, isec in zip(rs, isecs) if not r.isVignetted]\n",
    "    theta_opd = np.array(theta_opd)\n",
    "    opd = theta_opd[:,2]\n",
    "    opd[:] -= np.mean(opd)    \n",
    "    x = theta_opd[:,0]\n",
    "    y = theta_opd[:,1]\n",
    "    p, n = planeFit(theta_opd[::10,:].T)\n",
    "    const = np.dot(p, n)\n",
    "    opd[:] -= (const-n[0]*x-n[1]*y)/n[2]\n",
    "    plt.figure(figsize=(5.3,4))\n",
    "    plt.scatter(x, y, c=opd, s=5, vmin=-10**logscale, vmax=10**logscale)\n",
    "    plt.xlim(-0.6, 0.6)\n",
    "    plt.ylim(-0.6, 0.6)\n",
    "    plt.axhline(0.0, c='k')\n",
    "    plt.axvline(0.0, c='k')\n",
    "    plt.xlabel(\"vx\")\n",
    "    plt.ylabel(\"vy\")\n",
    "    plt.colorbar()"
   ]
  },
  {
   "cell_type": "code",
   "execution_count": null,
   "metadata": {
    "collapsed": true
   },
   "outputs": [],
   "source": [
    "\n",
    "\n",
    "\n",
    "\n",
    "\n",
    "\n",
    "\n",
    "\n",
    "\n",
    "\n",
    "\n",
    "\n",
    "\n",
    "\n",
    "\n",
    "\n",
    "\n",
    "\n",
    "\n",
    "\n",
    "\n",
    "\n",
    "\n",
    "\n"
   ]
  }
 ],
 "metadata": {
  "anaconda-cloud": {},
  "kernelspec": {
   "display_name": "Python [default]",
   "language": "python",
   "name": "python3"
  },
  "language_info": {
   "codemirror_mode": {
    "name": "ipython",
    "version": 3
   },
   "file_extension": ".py",
   "mimetype": "text/x-python",
   "name": "python",
   "nbconvert_exporter": "python",
   "pygments_lexer": "ipython3",
   "version": "3.5.2"
  },
  "widgets": {
   "state": {
    "139fd6c877bf4976b0391a30867385fc": {
     "views": [
      {
       "cell_index": 7
      }
     ]
    },
    "8c4bfeee105b4ccdab6e56c7812f9a15": {
     "views": [
      {
       "cell_index": 5
      }
     ]
    }
   },
   "version": "1.2.0"
  }
 },
 "nbformat": 4,
 "nbformat_minor": 1
}
