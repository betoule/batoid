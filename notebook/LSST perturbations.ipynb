{
 "cells": [
  {
   "cell_type": "code",
   "execution_count": null,
   "metadata": {
    "ExecuteTime": {
     "end_time": "2018-05-02T21:11:27.317178Z",
     "start_time": "2018-05-02T21:11:26.851204Z"
    }
   },
   "outputs": [],
   "source": [
    "import batoid\n",
    "import os\n",
    "import yaml\n",
    "import numpy as np\n",
    "from IPython.display import display\n",
    "from ipywidgets import interact, interactive_output\n",
    "import ipywidgets as widgets\n",
    "import matplotlib.pyplot as plt\n",
    "%matplotlib inline"
   ]
  },
  {
   "cell_type": "code",
   "execution_count": null,
   "metadata": {
    "ExecuteTime": {
     "end_time": "2018-05-02T21:11:27.422450Z",
     "start_time": "2018-05-02T21:11:27.319013Z"
    }
   },
   "outputs": [],
   "source": [
    "try:\n",
    "    import galsim\n",
    "except:\n",
    "    has_galsim = False\n",
    "else:\n",
    "    has_galsim = True"
   ]
  },
  {
   "cell_type": "code",
   "execution_count": null,
   "metadata": {
    "ExecuteTime": {
     "end_time": "2018-05-02T21:11:27.477220Z",
     "start_time": "2018-05-02T21:11:27.425500Z"
    }
   },
   "outputs": [],
   "source": [
    "LSST_r_fn = os.path.join(batoid.datadir, \"LSST\", \"LSST_r.yaml\")\n",
    "config = yaml.load(open(LSST_r_fn))\n",
    "fiducial_telescope = batoid.parse.parse_optic(config['opticalSystem'])"
   ]
  },
  {
   "cell_type": "code",
   "execution_count": null,
   "metadata": {
    "ExecuteTime": {
     "end_time": "2018-05-02T21:11:35.314502Z",
     "start_time": "2018-05-02T21:11:35.274290Z"
    }
   },
   "outputs": [],
   "source": [
    "def spotPlot(telescope, wavelength, theta_x, theta_y, logscale, ax):\n",
    "    dirCos = batoid.utils.gnomicToDirCos(np.deg2rad(theta_x), np.deg2rad(theta_y))\n",
    "    rays = batoid.circularGrid(\n",
    "        telescope.dist, telescope.pupilSize/2, telescope.pupilSize/2*telescope.pupilObscuration, \n",
    "        dirCos[0], dirCos[1], -dirCos[2],\n",
    "        48, 192, wavelength*1e-9, telescope.inMedium\n",
    "    )\n",
    "\n",
    "    rs, _ = telescope.trace(rays)\n",
    "    rs = rs.trimVignetted()\n",
    "    spots = np.vstack([rs.x, rs.y])\n",
    "    spots -= np.mean(spots, axis=1)[:,None]\n",
    "    spots *= 1e6 # meters -> microns\n",
    "\n",
    "    ax.scatter(spots[0], spots[1], s=1, alpha=0.5)\n",
    "    ax.set_xlim(-1.5*10**logscale, 1.5*10**logscale)\n",
    "    ax.set_ylim(-1.5*10**logscale, 1.5*10**logscale)\n",
    "    ax.set_title(r\"$\\theta_x = {:4.2f}\\,,\\theta_y = {:4.2f}$\".format(theta_x, theta_y))\n",
    "    ax.set_xlabel(\"microns\")\n",
    "    ax.set_ylabel(\"microns\")"
   ]
  },
  {
   "cell_type": "code",
   "execution_count": null,
   "metadata": {
    "ExecuteTime": {
     "end_time": "2018-05-02T21:11:43.034278Z",
     "start_time": "2018-05-02T21:11:43.009813Z"
    }
   },
   "outputs": [],
   "source": [
    "def wavefrontPlot(telescope, wavelength, theta_x, theta_y, ax):\n",
    "    nx = 128\n",
    "    wf = batoid.wavefront(\n",
    "        telescope, np.deg2rad(theta_x), np.deg2rad(theta_y), wavelength*1e-9, \n",
    "        nx=nx\n",
    "    )    \n",
    "    wfplot = ax.imshow(\n",
    "        wf.array,\n",
    "        extent=np.r_[-1,1,-1,1]*telescope.pupilSize/2\n",
    "    )\n",
    "    ax.set_xlabel(\"meters\")\n",
    "    ax.set_ylabel(\"meters\")\n",
    "    plt.colorbar(wfplot, ax=ax)"
   ]
  },
  {
   "cell_type": "code",
   "execution_count": null,
   "metadata": {
    "ExecuteTime": {
     "end_time": "2018-05-02T21:11:49.276104Z",
     "start_time": "2018-05-02T21:11:49.241715Z"
    }
   },
   "outputs": [],
   "source": [
    "def fftPSFPlot(telescope, wavelength, theta_x, theta_y, ax):\n",
    "    nx=32\n",
    "    fft = batoid.fftPSF(\n",
    "        telescope, np.deg2rad(theta_x), np.deg2rad(theta_y), wavelength*1e-9, nx=nx\n",
    "    )\n",
    "    # We should be very close to primitive vectors that are a multiple of\n",
    "    # [1,0] and [0,1].  If the multiplier is negative though, then this will\n",
    "    # make it look like our PSF is upside-down.  So we check for this here and \n",
    "    # invert if necessary.  This will make it easier to compare with the spot \n",
    "    # diagram, for instance\n",
    "    if fft.primitiveVectors[0,0] < 0:\n",
    "        fft.array = fft.array[::-1,::-1]\n",
    "\n",
    "    scale = np.sqrt(np.abs(np.linalg.det(fft.primitiveVectors)))\n",
    "    nxout = fft.array.shape[0]\n",
    "    fft.array /= np.sum(fft.array)\n",
    "    fftplot = ax.imshow(\n",
    "        fft.array,\n",
    "        extent=np.r_[-1,1,-1,1]*scale*nxout/2*1e6\n",
    "    )\n",
    "    ax.set_title(\"FFT PSF\")\n",
    "    ax.set_xlabel(\"micron\")\n",
    "    ax.set_ylabel(\"micron\")    \n",
    "    plt.colorbar(fftplot, ax=ax)"
   ]
  },
  {
   "cell_type": "code",
   "execution_count": null,
   "metadata": {
    "ExecuteTime": {
     "end_time": "2018-05-02T21:12:01.238409Z",
     "start_time": "2018-05-02T21:12:01.201875Z"
    }
   },
   "outputs": [],
   "source": [
    "def huygensPSFPlot(telescope, wavelength, theta_x, theta_y, ax):\n",
    "    nx=32\n",
    "    huygensPSF = batoid.huygensPSF(telescope, np.deg2rad(theta_x), np.deg2rad(theta_y),\n",
    "                                   wavelength*1e-9, nx=nx)\n",
    "    # We should be very close to primitive vectors that are a multiple of\n",
    "    # [1,0] and [0,1].  If the multiplier is negative though, then this will\n",
    "    # make it look like our PSF is upside-down.  So we check for this here and \n",
    "    # invert if necessary.  This will make it easier to compare with the spot \n",
    "    # diagram, for instance\n",
    "    if huygensPSF.primitiveVectors[0,0] < 0:\n",
    "        huygensPSF.array = huygensPSF.array[::-1,::-1]\n",
    "\n",
    "    huygensPSF.array /= np.sum(huygensPSF.array)    \n",
    "    scale = np.sqrt(np.abs(np.linalg.det(huygensPSF.primitiveVectors)))\n",
    "    nxout = huygensPSF.array.shape[0]\n",
    "    \n",
    "    huygensplot = plt.imshow(\n",
    "        huygensPSF.array,\n",
    "        extent=np.r_[-1,1,-1,1]*scale*nxout/2*1e6\n",
    "    )\n",
    "    ax.set_title(\"Huygens PSF\")\n",
    "    ax.set_xlabel(\"micron\")\n",
    "    ax.set_ylabel(\"micron\")    \n",
    "    plt.colorbar(huygensplot, ax=ax)"
   ]
  },
  {
   "cell_type": "code",
   "execution_count": null,
   "metadata": {
    "ExecuteTime": {
     "end_time": "2018-05-02T21:12:03.536699Z",
     "start_time": "2018-05-02T21:12:01.938555Z"
    },
    "scrolled": false
   },
   "outputs": [],
   "source": [
    "what = dict(\n",
    "    do_spot = widgets.Checkbox(value=True, description='Spot'),\n",
    "    do_wavefront = widgets.Checkbox(value=True, description='Wavefront'),\n",
    "    do_fftPSF = widgets.Checkbox(value=True, description='FFT PSF'),\n",
    "    do_huygensPSF = widgets.Checkbox(value=True, description='Huygens PSF')\n",
    ")\n",
    "where = dict(\n",
    "    wavelength=widgets.FloatSlider(min=300.0,max=1100.0,step=25.0,value=625.0, description=\"$\\lambda$ (nm)\"),\n",
    "    theta_x=widgets.FloatSlider(min=-1.7,max=1.7,step=0.1,value=-1.40, description=\"$\\\\theta_x (deg)$\"),\n",
    "    theta_y=widgets.FloatSlider(min=-1.7,max=1.7,step=0.1,value=0.0, description=\"$\\\\theta_y (deg)$\"),\n",
    "    logscale=widgets.FloatSlider(min=1, max=3, step=0.1, value=1, description=\"scale\")\n",
    ")\n",
    "perturb = dict(\n",
    "    optic=widgets.Dropdown(\n",
    "        options=fiducial_telescope.itemDict.keys(), \n",
    "        value='LSST.LSSTCamera'\n",
    "    ),\n",
    "    dx=widgets.FloatSlider(min=-0.2, max=0.2, step=0.05, value=0.0, description=\"dx ($mm$)\"),\n",
    "    dy=widgets.FloatSlider(min=-0.2, max=0.2, step=0.05, value=0.0, description=\"dy ($mm$)\"),\n",
    "    dz=widgets.FloatSlider(min=-100, max=100, step=1, value=0.0, description=\"dz ($\\mu m$)\"),\n",
    "    dthx=widgets.FloatSlider(min=-1, max=1, step=0.1, value=0.0, description=\"d$\\phi_x$ (arcmin)\"),\n",
    "    dthy=widgets.FloatSlider(min=-1, max=1, step=0.1, value=0.0, description=\"d$\\phi_y$ (arcmin)\"),\n",
    ")\n",
    "\n",
    "def f(do_spot, do_wavefront, do_fftPSF, do_huygensPSF,\n",
    "    wavelength, theta_x, theta_y, optic, dx, dy, dz, dthx, dthy, logscale, **kwargs):\n",
    "\n",
    "    telescope = (fiducial_telescope\n",
    "            .withGloballyShiftedOptic(optic, [dx*1e-3, dy*1e-3, dz*1e-6])\n",
    "            .withLocallyRotatedOptic(optic, batoid.RotX(dthx*np.pi/180/60).dot(batoid.RotY(dthy*np.pi/180/60)))\n",
    "    )\n",
    "    nplot = sum([do_spot, do_wavefront, do_fftPSF, do_huygensPSF])\n",
    "    \n",
    "    if nplot > 0:\n",
    "        fig, axes = plt.subplots(ncols=nplot, figsize=(4*nplot, 4), squeeze=False)\n",
    "\n",
    "        iax = 0\n",
    "        if do_spot:\n",
    "            ax = axes.ravel()[iax]\n",
    "            spotPlot(telescope, wavelength, theta_x, theta_y, logscale, ax)\n",
    "            iax += 1\n",
    "\n",
    "        if do_wavefront:\n",
    "            ax = axes.ravel()[iax]\n",
    "            wavefrontPlot(telescope, wavelength, theta_x, theta_y, ax)\n",
    "            iax += 1\n",
    "\n",
    "        if do_fftPSF:\n",
    "            ax = axes.ravel()[iax]\n",
    "            fftPSFPlot(telescope, wavelength, theta_x, theta_y, ax)\n",
    "            iax += 1\n",
    "\n",
    "        if do_huygensPSF:\n",
    "            ax = axes.ravel()[iax]\n",
    "            huygensPSFPlot(telescope, wavelength, theta_x, theta_y, ax)\n",
    "\n",
    "        fig.tight_layout()\n",
    "    \n",
    "all_widgets = {}\n",
    "for d in [what, where, perturb]:\n",
    "    for k in d:\n",
    "        all_widgets[k] = d[k]\n",
    "\n",
    "output = interactive_output(f, all_widgets)\n",
    "display(widgets.VBox([widgets.HBox([\n",
    "    widgets.VBox([v for v in what.values()]), \n",
    "    widgets.VBox([v for v in where.values()]), \n",
    "    widgets.VBox([v for v in perturb.values()])]),\n",
    "    output])\n",
    ")"
   ]
  },
  {
   "cell_type": "code",
   "execution_count": null,
   "metadata": {
    "ExecuteTime": {
     "end_time": "2018-05-02T21:12:56.586083Z",
     "start_time": "2018-05-02T21:12:56.409577Z"
    },
    "scrolled": false
   },
   "outputs": [],
   "source": [
    "if has_galsim:\n",
    "    @interact(wavelen=widgets.FloatSlider(min=300.0,max=1100.0,step=25.0,value=625.0,\n",
    "                                          description=\"$\\lambda$ (nm)\"),\n",
    "              theta_x=widgets.FloatSlider(min=-1.7,max=1.7,step=0.1,value=-1.40,\n",
    "                                          description=\"$\\\\theta_x (deg)$\"),\n",
    "              theta_y=widgets.FloatSlider(min=-1.7,max=1.7,step=0.1,value=0.0,\n",
    "                                          description=\"$\\\\theta_y (deg)$\"),\n",
    "              optic=widgets.Dropdown(\n",
    "                  options=fiducial_telescope.itemDict.keys(), \n",
    "                  value='LSST.LSSTCamera'\n",
    "              ),\n",
    "              dx=widgets.FloatSlider(min=-0.2, max=0.2, step=0.05, value=0.0,\n",
    "                                     description=\"dx ($mm$)\"),\n",
    "              dy=widgets.FloatSlider(min=-0.2, max=0.2, step=0.05, value=0.0,\n",
    "                                     description=\"dy ($mm$)\"),\n",
    "              dz=widgets.FloatSlider(min=-100, max=100, step=1, value=0.0,\n",
    "                                     description=\"dz ($\\mu m$)\"),\n",
    "              dthx=widgets.FloatSlider(min=-1, max=1, step=0.1, value=0.0,\n",
    "                                       description=\"d$\\phi_x$ (arcmin)\"),\n",
    "              dthy=widgets.FloatSlider(min=-1, max=1, step=0.1, value=0.0,\n",
    "                                       description=\"d$\\phi_y$ (arcmin)\"))\n",
    "    def zernike(wavelen, theta_x, theta_y, optic, dx, dy, dz, dthx, dthy):\n",
    "        telescope = (fiducial_telescope\n",
    "                .withGloballyShiftedOptic(optic, [dx*1e-3, dy*1e-3, dz*1e-6])\n",
    "                .withLocallyRotatedOptic(\n",
    "                        optic, \n",
    "                        batoid.RotX(dthx*np.pi/180/60).dot(batoid.RotY(dthy*np.pi/180/60))\n",
    "                )\n",
    "        )\n",
    "\n",
    "        z = batoid.zernike(telescope, np.deg2rad(theta_x), np.deg2rad(theta_y), wavelen*1e-9,\n",
    "                           jmax=22, eps=0.61, nx=128)\n",
    "        for i in range(1, len(z)//2+1):\n",
    "            print(\"{:6d}   {:6.3f}      {:6d}  {:6.3f}\".format(i, z[i], i+11, z[i+11]))"
   ]
  },
  {
   "cell_type": "code",
   "execution_count": null,
   "metadata": {
    "ExecuteTime": {
     "end_time": "2018-05-02T21:13:04.342931Z",
     "start_time": "2018-05-02T21:13:01.473339Z"
    }
   },
   "outputs": [],
   "source": [
    "if has_galsim:\n",
    "    @interact(wavelen=widgets.FloatSlider(min=300.0,max=1100.0,step=25.0,value=625.0,\n",
    "                                          description=\"$\\lambda$ (nm)\"),\n",
    "              zindex=widgets.IntSlider(min=4,max=22,value=9),\n",
    "              optic=widgets.Dropdown(\n",
    "                  options=fiducial_telescope.itemDict.keys(), \n",
    "                  value='LSST.LSSTCamera'\n",
    "              ),\n",
    "              dx=widgets.FloatSlider(min=-0.2, max=0.2, step=0.05, value=0.0,\n",
    "                                     description=\"dx ($mm$)\"),\n",
    "              dy=widgets.FloatSlider(min=-0.2, max=0.2, step=0.05, value=0.0,\n",
    "                                     description=\"dy ($mm$)\"),\n",
    "              dz=widgets.FloatSlider(min=-100, max=100, step=1, value=0.0,\n",
    "                                     description=\"dz ($\\mu m$)\"),\n",
    "              dthx=widgets.FloatSlider(min=-1, max=1, step=0.1, value=0.0,\n",
    "                                       description=\"d$\\phi_x$ (arcmin)\"),\n",
    "              dthy=widgets.FloatSlider(min=-1, max=1, step=0.1, value=0.0,\n",
    "                                       description=\"d$\\phi_y$ (arcmin)\"))\n",
    "    def zFoV(wavelen, zindex, optic, dx, dy, dz, dthx, dthy):\n",
    "        telescope = (fiducial_telescope\n",
    "                .withGloballyShiftedOptic(optic, [dx*1e-3, dy*1e-3, dz*1e-6])\n",
    "                .withLocallyRotatedOptic(\n",
    "                        optic,\n",
    "                        batoid.RotX(dthx*np.pi/180/60).dot(batoid.RotY(dthy*np.pi/180/60))\n",
    "                )\n",
    "        )\n",
    "\n",
    "        thxs = np.linspace(-1.7, 1.7, 20)\n",
    "        thys = np.linspace(-1.7, 1.7, 20)\n",
    "\n",
    "        img = np.zeros((20, 20), dtype=float)\n",
    "        for ix, thx in enumerate(thxs):\n",
    "            for iy, thy in enumerate(thys):\n",
    "                if np.hypot(thx, thy) > 1.75: \n",
    "                    continue\n",
    "                z = batoid.zernike(telescope, np.deg2rad(thx), np.deg2rad(thy), wavelen*1e-9,\n",
    "                                   jmax=22, eps=0.61)\n",
    "                img[ix, iy] = z[zindex]\n",
    "\n",
    "        plt.imshow(img, vmin=-0.5, vmax=0.5, cmap='Spectral_r', extent=np.r_[-1,1,-1,1]*1.7)\n",
    "        plt.title(\"$Z_{{{}}}$\".format(zindex))\n",
    "        plt.colorbar()"
   ]
  },
  {
   "cell_type": "code",
   "execution_count": null,
   "metadata": {},
   "outputs": [],
   "source": []
  }
 ],
 "metadata": {
  "anaconda-cloud": {},
  "kernelspec": {
   "display_name": "Python 3",
   "language": "python",
   "name": "python3"
  },
  "language_info": {
   "codemirror_mode": {
    "name": "ipython",
    "version": 3
   },
   "file_extension": ".py",
   "mimetype": "text/x-python",
   "name": "python",
   "nbconvert_exporter": "python",
   "pygments_lexer": "ipython3",
   "version": "3.6.2"
  },
  "widgets": {
   "state": {
    "bf032f0236b24ec8b012732196da0aeb": {
     "views": [
      {
       "cell_index": 7
      }
     ]
    },
    "e58d73c5a90d4ac2b12b81970dba2174": {
     "views": [
      {
       "cell_index": 5
      }
     ]
    }
   },
   "version": "1.2.0"
  }
 },
 "nbformat": 4,
 "nbformat_minor": 1
}
