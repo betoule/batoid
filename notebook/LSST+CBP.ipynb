{
 "cells": [
  {
   "cell_type": "code",
   "execution_count": 3,
   "id": "8e5c173f-115e-4056-b7ff-3941485bf7bc",
   "metadata": {
    "execution": {
     "iopub.execute_input": "2023-01-23T13:32:35.557479Z",
     "iopub.status.busy": "2023-01-23T13:32:35.468859Z",
     "iopub.status.idle": "2023-01-23T13:33:46.461777Z",
     "shell.execute_reply": "2023-01-23T13:33:46.461061Z",
     "shell.execute_reply.started": "2023-01-23T13:32:35.557455Z"
    }
   },
   "outputs": [
    {
     "name": "stdout",
     "output_type": "stream",
     "text": [
      "Defaulting to user installation because normal site-packages is not writeable\n",
      "Collecting batoid\n",
      "  Downloading batoid-0.4.0-cp310-cp310-manylinux_2_17_x86_64.manylinux2014_x86_64.whl (10.7 MB)\n",
      "\u001b[2K     \u001b[90m━━━━━━━━━━━━━━━━━━━━━━━━━━━━━━━━━━━━━━━━\u001b[0m \u001b[32m10.7/10.7 MB\u001b[0m \u001b[31m14.0 MB/s\u001b[0m eta \u001b[36m0:00:00\u001b[0m00:01\u001b[0m00:01\u001b[0m\n",
      "\u001b[?25hRequirement already satisfied: astropy in /opt/lsst/software/stack/conda/miniconda3-py38_4.9.2/envs/lsst-scipipe-5.1.0/lib/python3.10/site-packages (from batoid) (5.2)\n",
      "Requirement already satisfied: scipy in /opt/lsst/software/stack/conda/miniconda3-py38_4.9.2/envs/lsst-scipipe-5.1.0/lib/python3.10/site-packages (from batoid) (1.9.3)\n",
      "Requirement already satisfied: pyyaml in /opt/lsst/software/stack/conda/miniconda3-py38_4.9.2/envs/lsst-scipipe-5.1.0/lib/python3.10/site-packages (from batoid) (6.0)\n",
      "Requirement already satisfied: matplotlib in /opt/lsst/software/stack/conda/miniconda3-py38_4.9.2/envs/lsst-scipipe-5.1.0/lib/python3.10/site-packages (from batoid) (3.6.2)\n",
      "Requirement already satisfied: pybind11 in /opt/lsst/software/stack/conda/miniconda3-py38_4.9.2/envs/lsst-scipipe-5.1.0/lib/python3.10/site-packages (from batoid) (2.10.1)\n",
      "Requirement already satisfied: numpy in /opt/lsst/software/stack/conda/miniconda3-py38_4.9.2/envs/lsst-scipipe-5.1.0/lib/python3.10/site-packages (from batoid) (1.21.6)\n",
      "Requirement already satisfied: galsim in /opt/lsst/software/stack/conda/miniconda3-py38_4.9.2/envs/lsst-scipipe-5.1.0/lib/python3.10/site-packages (from batoid) (2.4.6)\n",
      "Requirement already satisfied: pyerfa>=2.0 in /opt/lsst/software/stack/conda/miniconda3-py38_4.9.2/envs/lsst-scipipe-5.1.0/lib/python3.10/site-packages (from astropy->batoid) (2.0.0.1)\n",
      "Requirement already satisfied: packaging>=19.0 in /opt/lsst/software/stack/conda/miniconda3-py38_4.9.2/envs/lsst-scipipe-5.1.0/lib/python3.10/site-packages (from astropy->batoid) (22.0)\n",
      "Requirement already satisfied: LSSTDESC.Coord in /opt/lsst/software/stack/conda/miniconda3-py38_4.9.2/envs/lsst-scipipe-5.1.0/lib/python3.10/site-packages (from galsim->batoid) (1.2.3)\n",
      "Requirement already satisfied: setuptools>=38 in /opt/lsst/software/stack/conda/miniconda3-py38_4.9.2/envs/lsst-scipipe-5.1.0/lib/python3.10/site-packages (from galsim->batoid) (65.5.1)\n",
      "Requirement already satisfied: fonttools>=4.22.0 in /opt/lsst/software/stack/conda/miniconda3-py38_4.9.2/envs/lsst-scipipe-5.1.0/lib/python3.10/site-packages (from matplotlib->batoid) (4.38.0)\n",
      "Requirement already satisfied: pyparsing>=2.2.1 in /opt/lsst/software/stack/conda/miniconda3-py38_4.9.2/envs/lsst-scipipe-5.1.0/lib/python3.10/site-packages (from matplotlib->batoid) (3.0.9)\n",
      "Requirement already satisfied: pillow>=6.2.0 in /opt/lsst/software/stack/conda/miniconda3-py38_4.9.2/envs/lsst-scipipe-5.1.0/lib/python3.10/site-packages (from matplotlib->batoid) (9.2.0)\n",
      "Requirement already satisfied: kiwisolver>=1.0.1 in /opt/lsst/software/stack/conda/miniconda3-py38_4.9.2/envs/lsst-scipipe-5.1.0/lib/python3.10/site-packages (from matplotlib->batoid) (1.4.4)\n",
      "Requirement already satisfied: contourpy>=1.0.1 in /opt/lsst/software/stack/conda/miniconda3-py38_4.9.2/envs/lsst-scipipe-5.1.0/lib/python3.10/site-packages (from matplotlib->batoid) (1.0.6)\n",
      "Requirement already satisfied: cycler>=0.10 in /opt/lsst/software/stack/conda/miniconda3-py38_4.9.2/envs/lsst-scipipe-5.1.0/lib/python3.10/site-packages (from matplotlib->batoid) (0.11.0)\n",
      "Requirement already satisfied: python-dateutil>=2.7 in /opt/lsst/software/stack/conda/miniconda3-py38_4.9.2/envs/lsst-scipipe-5.1.0/lib/python3.10/site-packages (from matplotlib->batoid) (2.8.2)\n",
      "Requirement already satisfied: six>=1.5 in /opt/lsst/software/stack/conda/miniconda3-py38_4.9.2/envs/lsst-scipipe-5.1.0/lib/python3.10/site-packages (from python-dateutil>=2.7->matplotlib->batoid) (1.16.0)\n",
      "Requirement already satisfied: cffi in /opt/lsst/software/stack/conda/miniconda3-py38_4.9.2/envs/lsst-scipipe-5.1.0/lib/python3.10/site-packages (from LSSTDESC.Coord->galsim->batoid) (1.15.1)\n",
      "Requirement already satisfied: future in /opt/lsst/software/stack/conda/miniconda3-py38_4.9.2/envs/lsst-scipipe-5.1.0/lib/python3.10/site-packages (from LSSTDESC.Coord->galsim->batoid) (0.18.2)\n",
      "Requirement already satisfied: pycparser in /opt/lsst/software/stack/conda/miniconda3-py38_4.9.2/envs/lsst-scipipe-5.1.0/lib/python3.10/site-packages (from cffi->LSSTDESC.Coord->galsim->batoid) (2.21)\n",
      "Installing collected packages: batoid\n",
      "Successfully installed batoid-0.4.0\n"
     ]
    }
   ],
   "source": [
    "!pip install batoid"
   ]
  },
  {
   "cell_type": "code",
   "execution_count": 1,
   "id": "884c47b0-1a10-4c48-989f-ea7996ed94e4",
   "metadata": {
    "execution": {
     "iopub.execute_input": "2023-01-23T15:59:13.639419Z",
     "iopub.status.busy": "2023-01-23T15:59:13.639140Z",
     "iopub.status.idle": "2023-01-23T15:59:14.433506Z",
     "shell.execute_reply": "2023-01-23T15:59:14.432964Z",
     "shell.execute_reply.started": "2023-01-23T15:59:13.639401Z"
    },
    "tags": []
   },
   "outputs": [],
   "source": [
    "import ipyvolume as ipv\n",
    "import batoid\n",
    "import numpy as np"
   ]
  },
  {
   "cell_type": "code",
   "execution_count": 2,
   "id": "01cfd4df-5060-4bff-9c98-445a184493af",
   "metadata": {
    "execution": {
     "iopub.execute_input": "2023-01-23T15:59:15.670654Z",
     "iopub.status.busy": "2023-01-23T15:59:15.670405Z",
     "iopub.status.idle": "2023-01-23T15:59:15.696851Z",
     "shell.execute_reply": "2023-01-23T15:59:15.696429Z",
     "shell.execute_reply.started": "2023-01-23T15:59:15.670636Z"
    },
    "tags": []
   },
   "outputs": [],
   "source": [
    "az = -120  # degrees\n",
    "alt = 42  # degrees\n",
    "rotTelPos = 0  # degrees\n",
    "\n",
    "# By default, batoid will load the LSST optics in the Optical Coordinate System described here:\n",
    "# https://sitcomtn-003.lsst.io/#the-optical-coordinate-system.  I.e., the origin is at the \n",
    "# theoretical vertex of M1, +z points towards the sky, +x is parallel to the elevation bearing.\n",
    "\n",
    "# For LSST + CBP, it's more convenient to make the global coordinate system fixed to the ground,\n",
    "# something like the Terrestrial Coordinate System described in \n",
    "# https://docushare.lsst.org/docushare/dsweb/Get/Document-18499.\n",
    "\n",
    "# We shift around the telescope to realize this change.  We also \"point\" the telescope according \n",
    "# to the above azimuth and altitude.\n",
    "\n",
    "elevBearingHeight = 5.425  # Height of elevation bearing above azimuth ring\n",
    "\n",
    "lsst = batoid.Optic.fromYaml(\"LSST_r.yaml\")\n",
    "lsst = lsst.withGlobalShift([0, 0, 3.53])  # Height of M1 vertex above azimuth ring\n",
    "lsst = lsst.withLocallyRotatedOptic(\"LSSTCamera\", batoid.RotZ(np.deg2rad(rotTelPos)))  # Camera rotator\n",
    "lsst = lsst.withLocalRotation(batoid.RotZ(np.deg2rad(90-az)))  # Point in Az\n",
    "lsst = lsst.withLocalRotation(batoid.RotX(np.deg2rad(90-alt)), rotCenter=[0, 0, elevBearingHeight], coordSys=batoid.globalCoordSys)  # Point in Alt"
   ]
  },
  {
   "cell_type": "code",
   "execution_count": 3,
   "id": "e3844ebf-0a83-49b3-9b3a-29884e559c23",
   "metadata": {
    "execution": {
     "iopub.execute_input": "2023-01-23T15:59:16.793675Z",
     "iopub.status.busy": "2023-01-23T15:59:16.793426Z",
     "iopub.status.idle": "2023-01-23T15:59:16.817866Z",
     "shell.execute_reply": "2023-01-23T15:59:16.817365Z",
     "shell.execute_reply.started": "2023-01-23T15:59:16.793657Z"
    },
    "tags": []
   },
   "outputs": [],
   "source": [
    "# Load Collimated Beam Projector and place it in the right position in the dome.\n",
    "# The rotations below orient the CBP with respect to its default description such that\n",
    "# it's aiming roughly at the LSST M1 mirror.  These were found through trial-and-error.\n",
    "# The GlobalShift though should be pretty accurate.\n",
    "cbp = batoid.Optic.fromYaml(\"CBP.yaml\")\n",
    "cbp = cbp.withLocalRotation(batoid.RotX(np.deg2rad(180)))\n",
    "cbp = cbp.withLocalRotation(batoid.RotZ(np.deg2rad(150)))\n",
    "cbp = cbp.withGlobalShift([-np.sin(np.deg2rad(30))*12.4, np.cos(np.deg2rad(30))*12.4, 12.135])\n",
    "# cbp = cbp.withGlobalRotation(batoid.RotZ(np.deg2rad(daz)))  # optional 10 cm dome error\n",
    "cbp = cbp.withLocalRotation(batoid.RotX(np.deg2rad(48)))"
   ]
  },
  {
   "cell_type": "code",
   "execution_count": 4,
   "id": "8a0caa47-a5d2-4674-bc88-ca93141d0115",
   "metadata": {
    "execution": {
     "iopub.execute_input": "2023-01-23T15:59:17.487415Z",
     "iopub.status.busy": "2023-01-23T15:59:17.487118Z",
     "iopub.status.idle": "2023-01-23T15:59:17.494326Z",
     "shell.execute_reply": "2023-01-23T15:59:17.493858Z",
     "shell.execute_reply.started": "2023-01-23T15:59:17.487396Z"
    },
    "tags": []
   },
   "outputs": [],
   "source": [
    "# Launch some rays, starting at the positions of some holes in the CBP focal plane.\n",
    "\n",
    "nx = 20  # number of rays in ray-fan\n",
    "\n",
    "# CBP focal plane hole positions in meters.\n",
    "holes = [\n",
    "    (0.0, 0.0),\n",
    "    (-1.e-2, 0.0),\n",
    "    (1.e-2, 0.0),\n",
    "    (0.0, -1.e-2),\n",
    "    (0.0, 1.e-2)\n",
    "]\n",
    "rvs = []\n",
    "for hole in holes:\n",
    "    # Set ray positions\n",
    "    x = np.full(2*nx, hole[0])\n",
    "    y = np.full(2*nx, hole[1])\n",
    "    z = np.zeros_like(x)\n",
    "    # Set ray angles.  We just sample uniformly between -0.3, 0.3 radians\n",
    "    thx = np.concatenate([np.linspace(-0.3, 0.3, nx), np.zeros(nx)])\n",
    "    thy = np.concatenate([np.zeros(nx), np.linspace(-0.3, 0.3, nx)])\n",
    "    # Turn angles into velocities\n",
    "    vx, vy, vz = batoid.utils.fieldToDirCos(thx, thy)\n",
    "    # wavelength\n",
    "    w = np.full_like(x, 500e-9)\n",
    "    rvs.append(\n",
    "        batoid.RayVector(x, y, z, vx, vy, vz, wavelength=w, coordSys=cbp['Detector'].coordSys)\n",
    "    )\n",
    "rvs = batoid.concatenateRayVectors(rvs)"
   ]
  },
  {
   "cell_type": "code",
   "execution_count": 5,
   "id": "30ecd684-9409-48a4-a887-fda76b00de52",
   "metadata": {
    "execution": {
     "iopub.execute_input": "2023-01-23T15:59:17.988761Z",
     "iopub.status.busy": "2023-01-23T15:59:17.988296Z",
     "iopub.status.idle": "2023-01-23T15:59:23.559014Z",
     "shell.execute_reply": "2023-01-23T15:59:23.558409Z",
     "shell.execute_reply.started": "2023-01-23T15:59:17.988743Z"
    },
    "tags": []
   },
   "outputs": [],
   "source": [
    "# Trace!\n",
    "# Start by tracing CBP optics in reverse; from focal plane to the Schmidt plate \"entrance\".\n",
    "tf_cbp = cbp.traceFull(rvs, reverse=True)\n",
    "# Then take the results of that and push them through the LSST optics.\n",
    "tf_lsst = lsst.traceFull(tf_cbp['Schmidt_plate_entrance']['out'])"
   ]
  },
  {
   "cell_type": "code",
   "execution_count": 6,
   "id": "83073113-093e-432b-95a9-3e8028b7799d",
   "metadata": {
    "execution": {
     "iopub.execute_input": "2023-01-23T15:59:25.041342Z",
     "iopub.status.busy": "2023-01-23T15:59:25.041132Z",
     "iopub.status.idle": "2023-01-23T15:59:27.260258Z",
     "shell.execute_reply": "2023-01-23T15:59:27.259656Z",
     "shell.execute_reply.started": "2023-01-23T15:59:25.041324Z"
    },
    "tags": []
   },
   "outputs": [
    {
     "data": {
      "application/vnd.jupyter.widget-view+json": {
       "model_id": "cf5842de32f9486891b477afdd0c58bf",
       "version_major": 2,
       "version_minor": 0
      },
      "text/plain": [
       "VBox(children=(Figure(camera=PerspectiveCamera(fov=45.0, position=(0.0, 0.0, 2.0), projectionMatrix=(1.0, 0.0,…"
      ]
     },
     "metadata": {},
     "output_type": "display_data"
    }
   ],
   "source": [
    "# Visualize\n",
    "fig = ipv.figure(height=600, width=800)\n",
    "ipv.style.set_style_dark()\n",
    "ipv.style.box_off()\n",
    "# ipv.style.axes_off()\n",
    "lsst.draw3d(ipv, color='cyan')\n",
    "cbp.draw3d(ipv, color='red')\n",
    "batoid.drawTrace3d(ipv, tf_cbp, color='yellow')\n",
    "batoid.drawTrace3d(ipv, tf_lsst, color='yellow')\n",
    "\n",
    "ipv.xlim(-10, 10)\n",
    "ipv.ylim(-10, 10)\n",
    "ipv.zlim(0, 20)\n",
    "ipv.show()"
   ]
  },
  {
   "cell_type": "code",
   "execution_count": 7,
   "id": "8887dbd5-c08e-428c-8926-ff56cb430259",
   "metadata": {
    "execution": {
     "iopub.execute_input": "2023-01-23T15:59:27.261909Z",
     "iopub.status.busy": "2023-01-23T15:59:27.261686Z",
     "iopub.status.idle": "2023-01-23T15:59:27.266582Z",
     "shell.execute_reply": "2023-01-23T15:59:27.266074Z",
     "shell.execute_reply.started": "2023-01-23T15:59:27.261892Z"
    },
    "tags": []
   },
   "outputs": [],
   "source": [
    "import matplotlib.pyplot as plt"
   ]
  },
  {
   "cell_type": "code",
   "execution_count": 8,
   "id": "84f308c2-38e2-42c4-99cb-5ac041ad3375",
   "metadata": {
    "execution": {
     "iopub.execute_input": "2023-01-23T15:59:27.267441Z",
     "iopub.status.busy": "2023-01-23T15:59:27.267235Z",
     "iopub.status.idle": "2023-01-23T15:59:27.374238Z",
     "shell.execute_reply": "2023-01-23T15:59:27.373635Z",
     "shell.execute_reply.started": "2023-01-23T15:59:27.267425Z"
    },
    "tags": []
   },
   "outputs": [
    {
     "data": {
      "image/png": "[encoded data removed]",
      "text/plain": [
       "<Figure size 640x480 with 1 Axes>"
      ]
     },
     "metadata": {},
     "output_type": "display_data"
    }
   ],
   "source": [
    "# Where did the rays impact the LSST Focal Plane?\n",
    "\n",
    "# Just plot rays for one hole at a time\n",
    "ihole = 0\n",
    "\n",
    "optic = 'Detector'\n",
    "\n",
    "w = ~tf_lsst[optic]['out'][ihole*40:(ihole+1)*40].vignetted\n",
    "x = tf_lsst[optic]['out'][ihole*40:(ihole+1)*40].x\n",
    "y = tf_lsst[optic]['out'][ihole*40:(ihole+1)*40].y\n",
    "\n",
    "mx = np.mean(x)\n",
    "my = np.mean(y)\n",
    "\n",
    "\n",
    "plt.figure()\n",
    "plt.scatter(x[w], y[w])\n",
    "plt.show()"
   ]
  },
  {
   "cell_type": "code",
   "execution_count": 10,
   "id": "da622e9d-8deb-45f6-8bbd-541c17004083",
   "metadata": {
    "execution": {
     "iopub.execute_input": "2023-01-23T16:18:18.244680Z",
     "iopub.status.busy": "2023-01-23T16:18:18.244151Z",
     "iopub.status.idle": "2023-01-23T16:18:18.320083Z",
     "shell.execute_reply": "2023-01-23T16:18:18.319578Z",
     "shell.execute_reply.started": "2023-01-23T16:18:18.244658Z"
    },
    "tags": []
   },
   "outputs": [
    {
     "data": {
      "application/vnd.jupyter.widget-view+json": {
       "model_id": "f1e1939f1f8047249d51b03c52639dad",
       "version_major": 2,
       "version_minor": 0
      },
      "image/png": "[encoded data removed]",
      "text/html": [
       "\n",
       "            <div style=\"display: inline-block;\">\n",
       "                <div class=\"jupyter-widgets widget-label\" style=\"text-align: center;\">\n",
       "                    Figure\n",
       "                </div>\n",
       "                <img src='data:image/png;base64,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' width=640.0/>\n",
       "            </div>\n",
       "        "
      ],
      "text/plain": [
       "Canvas(toolbar=Toolbar(toolitems=[('Home', 'Reset original view', 'home', 'home'), ('Back', 'Back to previous …"
      ]
     },
     "metadata": {},
     "output_type": "display_data"
    }
   ],
   "source": [
    "%matplotlib widget\n",
    "# Show all spots.  Zoom in to see individual rays\n",
    "optic = 'Detector'\n",
    "\n",
    "w = ~tf_lsst[optic]['out'].vignetted\n",
    "x = tf_lsst[optic]['out'].x\n",
    "y = tf_lsst[optic]['out'].y\n",
    "\n",
    "plt.figure()\n",
    "plt.scatter(x[w], y[w])\n",
    "plt.show()"
   ]
  },
  {
   "cell_type": "code",
   "execution_count": null,
   "id": "25fec1d3-d0c9-4916-8e1d-53c89ee23113",
   "metadata": {},
   "outputs": [],
   "source": []
  }
 ],
 "metadata": {
  "kernelspec": {
   "display_name": "LSST",
   "language": "python",
   "name": "lsst"
  },
  "language_info": {
   "codemirror_mode": {
    "name": "ipython",
    "version": 3
   },
   "file_extension": ".py",
   "mimetype": "text/x-python",
   "name": "python",
   "nbconvert_exporter": "python",
   "pygments_lexer": "ipython3",
   "version": "3.10.8"
  }
 },
 "nbformat": 4,
 "nbformat_minor": 5
}
