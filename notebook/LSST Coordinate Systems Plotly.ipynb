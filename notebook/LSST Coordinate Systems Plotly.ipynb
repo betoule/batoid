{
 "cells": [
  {
   "cell_type": "code",
   "execution_count": null,
   "metadata": {
    "tags": []
   },
   "outputs": [],
   "source": [
    "# Plot optics, rays, celestial coords, and various official Rubin coordinate systems in 3D.\n",
    "# Some notes: \n",
    "#   - \"telescope parked position\" is\n",
    "#     • altitude = 90 degrees\n",
    "#     • azimuth = 90 degrees  (i.e., telescope would point East if tipped off zenith)\n",
    "#     • rotation = 0 degrees  \n",
    "#   - batoid.globalCoordSys = ipvolume coordinate system = Observatory Mount Coordinate System (MCS)"
   ]
  },
  {
   "cell_type": "code",
   "execution_count": null,
   "metadata": {
    "ExecuteTime": {
     "end_time": "2020-01-30T00:53:26.511401Z",
     "start_time": "2020-01-30T00:53:25.980074Z"
    },
    "tags": []
   },
   "outputs": [],
   "source": [
    "import batoid\n",
    "import numpy as np\n",
    "import plotly.graph_objects as go"
   ]
  },
  {
   "cell_type": "code",
   "execution_count": null,
   "metadata": {
    "ExecuteTime": {
     "end_time": "2020-01-30T00:53:26.564593Z",
     "start_time": "2020-01-30T00:53:26.512889Z"
    },
    "tags": []
   },
   "outputs": [],
   "source": [
    "fiducial_telescope = batoid.Optic.fromYaml(\"LSST_r.yaml\")\n",
    "dist = 3000  # \"distance\" in m to Celestial sphere for plotting purposes"
   ]
  },
  {
   "cell_type": "code",
   "execution_count": null,
   "metadata": {
    "ExecuteTime": {
     "end_time": "2020-01-30T00:53:26.588138Z",
     "start_time": "2020-01-30T00:53:26.566431Z"
    },
    "tags": []
   },
   "outputs": [],
   "source": [
    "def xfan(telescope, theta_x, theta_y, nx, **kwargs):\n",
    "    return batoid.RayVector.asGrid(telescope, wavelength=625e-9, theta_x=theta_x, theta_y=theta_y, nx=nx, ny=1, **kwargs)\n",
    "def yfan(telescope, theta_x, theta_y, ny, **kwargs):\n",
    "    return batoid.RayVector.asGrid(telescope, wavelength=625e-9, theta_x=theta_x, theta_y=theta_y, nx=1, ny=ny, **kwargs)\n",
    "def xyfan(telescope, theta_x, theta_y, n, **kwargs):\n",
    "    rays1 = xfan(telescope, theta_x, theta_y, n, **kwargs)\n",
    "    rays2 = yfan(telescope, theta_x, theta_y, n, **kwargs)\n",
    "    return batoid.concatenateRayVectors([rays1, rays2])"
   ]
  },
  {
   "cell_type": "code",
   "execution_count": null,
   "metadata": {
    "ExecuteTime": {
     "end_time": "2020-01-30T00:53:26.611145Z",
     "start_time": "2020-01-30T00:53:26.589704Z"
    },
    "tags": []
   },
   "outputs": [],
   "source": [
    "def plotline(fig, ctf, x, y, z):\n",
    "    x, y, z = np.broadcast_arrays(x, y, z)\n",
    "    x, y, z = ctf.applyForwardArray(x, y, z)\n",
    "    ax.add_scatter3d(\n",
    "        x=x, y=y, z=z,\n",
    "        mode='lines',\n",
    "        line=dict(color='red', width=1)\n",
    "    )"
   ]
  },
  {
   "cell_type": "code",
   "execution_count": null,
   "metadata": {
    "ExecuteTime": {
     "end_time": "2020-01-30T00:53:26.637603Z",
     "start_time": "2020-01-30T00:53:26.612469Z"
    },
    "tags": []
   },
   "outputs": [],
   "source": [
    "def draw3dFP(fig, coordSys):\n",
    "    # Just has to be approximately right...\n",
    "    raftsize = 0.31527*2/5\n",
    "    ctf = batoid.CoordTransform(coordSys, batoid.globalCoordSys)\n",
    "    \n",
    "    # top hline\n",
    "    plotlineipv(fig, ctf, np.array([-1.5, 1.5])*raftsize, 2.5*raftsize, 0)\n",
    "    # middle hlines\n",
    "    plotline(fig, ctf, np.array([-2.5, 2.5])*raftsize, 1.5*raftsize, 0)\n",
    "    plotline(fig, ctf, np.array([-2.5, 2.5])*raftsize, 0.5*raftsize, 0)\n",
    "    plotline(fig, ctf, np.array([-2.5, 2.5])*raftsize, -0.5*raftsize, 0)\n",
    "    plotline(fig, ctf, np.array([-2.5, 2.5])*raftsize, -1.5*raftsize, 0)\n",
    "    # bottom hline\n",
    "    plotline(fig, ctf, np.array([-1.5, 1.5])*raftsize, -2.5*raftsize, 0)\n",
    "    # left vline\n",
    "    plotline(fig, ctf, -2.5*raftsize, np.array([-1.5, 1.5])*raftsize, 0)\n",
    "    # middle vlines\n",
    "    plotline(fig, ctf, -1.5*raftsize, np.array([-2.5, 2.5])*raftsize, 0)\n",
    "    plotline(fig, ctf, -0.5*raftsize, np.array([-2.5, 2.5])*raftsize, 0)\n",
    "    plotline(fig, ctf, 0.5*raftsize, np.array([-2.5, 2.5])*raftsize, 0)\n",
    "    plotline(fig, ctf, 1.5*raftsize, np.array([-2.5, 2.5])*raftsize, 0)\n",
    "    # right vline\n",
    "    plotline(fig, ctf, 2.5*raftsize, np.array([-1.5, 1.5])*raftsize, 0)"
   ]
  },
  {
   "cell_type": "code",
   "execution_count": null,
   "metadata": {
    "tags": []
   },
   "outputs": [],
   "source": [
    "def drawSkyFP(fig, alt, az, rot):\n",
    "    ctf = batoid.CoordTransform(\n",
    "        batoid.globalCoordSys,\n",
    "        batoid.CoordSys(\n",
    "            (0, 0, 0),\n",
    "            batoid.RotX(-rot)@batoid.RotY(alt)@batoid.RotZ(az)\n",
    "        )\n",
    "    )\n",
    "    f = dist*np.deg2rad(0.7)\n",
    "\n",
    "    # top hline\n",
    "    plotline(fig, ctf, dist, np.array([-1.5, 1.5])*f, 2.5*f*np.ones(2))\n",
    "    # middle hlines\n",
    "    plotline(fig, ctf, dist, np.array([-2.5, 2.5])*f, 1.5*f*np.ones(2))\n",
    "    plotline(fig, ctf, dist, np.array([-2.5, 2.5])*f, 0.5*f*np.ones(2))\n",
    "    plotline(fig, ctf, dist, np.array([-2.5, 2.5])*f, -0.5*f*np.ones(2))\n",
    "    plotline(fig, ctf, dist, np.array([-2.5, 2.5])*f, -1.5*f*np.ones(2))    \n",
    "    # bottom hline\n",
    "    plotline(fig, ctf, dist, np.array([-1.5, 1.5])*f, -2.5*f*np.ones(2))\n",
    "    # left vline\n",
    "    plotline(fig, ctf, dist, -2.5*f*np.ones(2), np.array([-1.5, 1.5])*f)\n",
    "    # middle vlines\n",
    "    plotline(fig, ctf, dist, -1.5*f*np.ones(2), np.array([-2.5, 2.5])*f)\n",
    "    plotline(fig, ctf, dist, -0.5*f*np.ones(2), np.array([-2.5, 2.5])*f)\n",
    "    plotline(fig, ctf, dist, 0.5*f*np.ones(2), np.array([-2.5, 2.5])*f)\n",
    "    plotline(fig, ctf, dist, 1.5*f*np.ones(2), np.array([-2.5, 2.5])*f)\n",
    "    # right vline\n",
    "    plotline(fig, ctf, dist, 2.5*f*np.ones(2), np.array([-1.5, 1.5])*f)"
   ]
  },
  {
   "cell_type": "code",
   "execution_count": null,
   "metadata": {
    "tags": []
   },
   "outputs": [],
   "source": [
    "def drawAzimuthRing(fig):\n",
    "    th = np.linspace(0, 2*np.pi, 100)\n",
    "    x_, y_ = np.cos(th), np.sin(th)\n",
    "    for d in [-0.1, 0.1]:\n",
    "        for r in [4.5, 5.0]:\n",
    "            x = x_*r\n",
    "            y = y_*r\n",
    "            z = d\n",
    "            fig.scatter_3d(\n",
    "                x=x, y=y, z=z, \n",
    "                mode='lines',\n",
    "                line=dict(color='red', width=1)\n",
    "            )"
   ]
  },
  {
   "cell_type": "code",
   "execution_count": null,
   "metadata": {
    "tags": []
   },
   "outputs": [],
   "source": [
    "def drawElevationBearings(ipv, az):\n",
    "    th = np.linspace(0, 2*np.pi, 100)\n",
    "    x_, y_ = np.cos(th), np.sin(th)\n",
    "    for d in [4.4, 4.5]:\n",
    "        for r in [1.5, 1.75]:\n",
    "            x = -d\n",
    "            y = x_*r\n",
    "            z = y_*r            \n",
    "            z += 5.425  # height of elevation axis above azimuth ring\n",
    "            x, y = np.cos(np.pi/2-az)*x-np.sin(np.pi/2-az)*y, np.sin(np.pi/2-az)*x+np.cos(np.pi/2-az)*y\n",
    "            \n",
    "            ipv.plot(x, y, z, color='black')\n",
    "            ipv.plot(-x, -y, z, color='black')"
   ]
  },
  {
   "cell_type": "code",
   "execution_count": null,
   "metadata": {
    "tags": []
   },
   "outputs": [],
   "source": [
    "def drawAltAzGrid(ipv):\n",
    "    th = np.linspace(0, 2*np.pi, 100)\n",
    "    for alt in np.arange(0, 81, 10):\n",
    "        x = np.cos(th)*np.cos(np.deg2rad(alt))\n",
    "        y = np.sin(th)*np.cos(np.deg2rad(alt))\n",
    "        z = np.full_like(th, np.sin(np.deg2rad(alt)))\n",
    "        ipv.plot(x*dist, y*dist, z*dist, color='green')\n",
    "    th = np.linspace(0, np.pi/2, 50)\n",
    "    for az in np.linspace(0, 2*np.pi, 12, endpoint=False):\n",
    "        x = np.cos(az)*np.cos(th)\n",
    "        y = np.sin(az)*np.cos(th)\n",
    "        z = np.sin(th)\n",
    "        if az == 0:\n",
    "            ipv.plot(x*dist, y*dist, z*dist, color='red')\n",
    "        else:\n",
    "            ipv.plot(x*dist, y*dist, z*dist, color='green')"
   ]
  },
  {
   "cell_type": "code",
   "execution_count": null,
   "metadata": {
    "tags": []
   },
   "outputs": [],
   "source": [
    "def filter_xyz_horizon(x, y, z):\n",
    "    w = z>0\n",
    "    if np.any(w) and not np.all(w):\n",
    "        indices = np.where(np.diff(w.astype(int))==1)[0]\n",
    "        if len(indices) != 1:\n",
    "            idx = 0\n",
    "        else:\n",
    "            idx = indices[0]+1\n",
    "        w = np.roll(w, -idx)\n",
    "        x = np.roll(x, -idx)\n",
    "        y = np.roll(y, -idx)\n",
    "        z = np.roll(z, -idx)\n",
    "    return w, x, y, z"
   ]
  },
  {
   "cell_type": "code",
   "execution_count": null,
   "metadata": {
    "tags": []
   },
   "outputs": [],
   "source": [
    "def drawEqGrid(ipv, lat):\n",
    "    # Need to rotate around +y axis by 90-lat\n",
    "    ctf = batoid.CoordTransform(\n",
    "        batoid.globalCoordSys,\n",
    "        batoid.CoordSys(\n",
    "            (0,0,0), \n",
    "            batoid.RotY(-(np.pi/2-lat))\n",
    "        )\n",
    "    )\n",
    "    th = np.linspace(0, 2*np.pi, 100)\n",
    "    for alt in np.arange(-90, 91, 10):\n",
    "        x = np.cos(th)*np.cos(np.deg2rad(alt))\n",
    "        y = np.sin(th)*np.cos(np.deg2rad(alt))\n",
    "        z = np.full_like(th, np.sin(np.deg2rad(alt)))\n",
    "        x, y, z = ctf.applyForwardArray(x, y, z)\n",
    "        w, x, y, z = filter_xyz_horizon(x, y, z)\n",
    "        if np.any(w):\n",
    "            ipv.plot(x[w]*dist, y[w]*dist, z[w]*dist, color='blue')\n",
    "    for az in np.linspace(0, 2*np.pi, 12, endpoint=False):\n",
    "        x = np.cos(az)*np.cos(th)\n",
    "        y = np.sin(az)*np.cos(th)\n",
    "        z = np.sin(th)\n",
    "        x, y, z = ctf.applyForwardArray(x, y, z)\n",
    "        w, x, y, z = filter_xyz_horizon(x, y, z)\n",
    "        if np.any(w):\n",
    "            ipv.plot(x[w]*dist, y[w]*dist, z[w]*dist, color='blue')"
   ]
  },
  {
   "cell_type": "code",
   "execution_count": null,
   "metadata": {
    "tags": []
   },
   "outputs": [],
   "source": [
    "def getAzCS(az):\n",
    "    \"\"\"Return Azimuth Coordinate System (AzCS).  (LTS-136)\n",
    "\n",
    "    AzCS is defined by:\n",
    "        • +z towards zenith\n",
    "        • Telescope at horizon points towards +y\n",
    "        • +x completes RHR\n",
    "        • Origin at center of azimuth ring.\n",
    "        \n",
    "    Parameters\n",
    "    ----------\n",
    "    az : float\n",
    "        Azimuth in radians\n",
    "    \n",
    "    Returns\n",
    "    -------\n",
    "    batoid.CoordSys\n",
    "    \"\"\"\n",
    "    return batoid.CoordSys(\n",
    "        origin = [0, 0, 0],\n",
    "        rot = batoid.RotZ(np.pi/2-az)\n",
    "    )"
   ]
  },
  {
   "cell_type": "code",
   "execution_count": null,
   "metadata": {
    "tags": []
   },
   "outputs": [],
   "source": [
    "def getOpCS(alt, az):\n",
    "    \"\"\"Return Optical Coordinate System (OpCS).  (LTS-136)\n",
    "\n",
    "    OpCS is defined by:\n",
    "        • +x same as +x in AzCS\n",
    "        • +z along boresight, towards sky\n",
    "        • +y completes RHR        \n",
    "        • Origin at M1 vertex\n",
    "        \n",
    "    Parameters\n",
    "    ----------\n",
    "    alt : float\n",
    "        Altitude in radians\n",
    "    az : float\n",
    "        Azimuth in radians\n",
    "    \n",
    "    Returns\n",
    "    -------\n",
    "    batoid.CoordSys\n",
    "    \"\"\"\n",
    "    # Must be a better way to do this than using the complete telescope,\n",
    "    # but this works for now.\n",
    "    telescope = fiducial_telescope\n",
    "    telescope = telescope.withGlobalShift([0, 0, 3.53])  # Height of M1 vertex above azimuth ring\n",
    "    telescope = telescope.withLocalRotation(batoid.RotZ(np.pi/2-az))\n",
    "    telescope = telescope.withLocalRotation(batoid.RotX(np.pi/2-alt), rotOrigin=[0, 0, 5.425], coordSys=batoid.globalCoordSys)\n",
    "    return telescope['M1'].coordSys"
   ]
  },
  {
   "cell_type": "code",
   "execution_count": null,
   "metadata": {
    "tags": []
   },
   "outputs": [],
   "source": [
    "def getMCS():\n",
    "    \"\"\"Draw axes for Observatory Mount Coordinate System (OCS).  (LCA-280)\n",
    "    \n",
    "    MCS is the same as ipv axes, or batoid.globalCoordSys\n",
    "    \n",
    "    Defined by:\n",
    "        • +Z towards zenith\n",
    "        • +X towards North\n",
    "        • +Y from RHR (towards West)\n",
    "        • Origin at center of azimuth ring.\n",
    "        \n",
    "    Returns\n",
    "    -------\n",
    "    batoid.CoordSys\n",
    "    \"\"\"\n",
    "    return batoid.globalCoordSys"
   ]
  },
  {
   "cell_type": "code",
   "execution_count": null,
   "metadata": {
    "tags": []
   },
   "outputs": [],
   "source": [
    "def getTCS(alt, az):\n",
    "    \"\"\"Draw axes for Telescope Coordinate System (TCS).  (LCA-280)\n",
    "        \n",
    "    Defined by:\n",
    "        • +Z towards sky along optic axis.  Follows telescope.\n",
    "        • +X towards North when telescope parked.  Follows telescope.\n",
    "        • +Y from RHR (towards West when parked).  Follows telescope.\n",
    "        • Origin at M1 vertex\n",
    "\n",
    "    Parameters\n",
    "    ----------\n",
    "    alt : float\n",
    "        Altitude in radians\n",
    "    az : float\n",
    "        Azimuth in radians\n",
    "\n",
    "    Returns\n",
    "    -------\n",
    "    batoid.CoordSys\n",
    "    \"\"\"\n",
    "    return getOpCS(alt, az)"
   ]
  },
  {
   "cell_type": "code",
   "execution_count": null,
   "metadata": {
    "tags": []
   },
   "outputs": [],
   "source": [
    "def drawCoordSys(ipv, coordSys, length=2):\n",
    "    p0 = coordSys.origin\n",
    "    px = p0 + coordSys.rot @ (np.array([1, 0, 0]) * length)\n",
    "    py = p0 + coordSys.rot @ (np.array([0, 1, 0]) * length)\n",
    "    pz = p0 + coordSys.rot @ (np.array([0, 0, 1]) * length)\n",
    "    ipv.plot(*np.vstack([p0, px]).T, color='blue')\n",
    "    ipv.plot(*np.vstack([p0, py]).T, color='red')\n",
    "    ipv.plot(*np.vstack([p0, pz]).T, color='black')"
   ]
  },
  {
   "cell_type": "code",
   "execution_count": null,
   "metadata": {
    "tags": []
   },
   "outputs": [],
   "source": [
    "def show_coord_sys(rot, alt, az, thx, thy, doAzCS=False, doOpCS=False, doMCS=False, doTCS=False, doCCS=False):\n",
    "    lat = np.deg2rad(-30.2446)\n",
    "    telescope = fiducial_telescope\n",
    "    telescope = telescope.withGlobalShift([0, 0, 3.53])  # Height of M1 vertex above azimuth ring\n",
    "    telescope = telescope.withLocallyRotatedOptic(\"LSSTCamera\", batoid.RotZ(rot))\n",
    "    telescope = telescope.withLocalRotation(batoid.RotZ(np.pi/2-az))\n",
    "    telescope = telescope.withLocalRotation(batoid.RotX(np.pi/2-alt), rotOrigin=[0, 0, 5.425], coordSys=batoid.globalCoordSys)\n",
    "\n",
    "    # rays = xyfan(telescope, thx, thy, 30, backDist=dist/10)\n",
    "    rays = xyfan(telescope, thx, thy, 30)\n",
    "    traceFull = telescope.traceFull(rays)\n",
    "\n",
    "    fig = go.Figure(\n",
    "        layout=dict(\n",
    "            showlegend=False,\n",
    "            width=800,\n",
    "            height=800\n",
    "        ),\n",
    "    )\n",
    "    \n",
    "    # drawAzimuthRing(ipv)\n",
    "    # drawElevationBearings(ipv, az)    \n",
    "    telescope.draw3d(fig, plotly=True, mode='lines', line=dict(color='black'))\n",
    "\n",
    "    batoid.drawTrace3d(fig, traceFull, plotly=True, mode='lines', line=dict(color='blue'))\n",
    "\n",
    "    # extent rays all the way back to the Celestial sphere\n",
    "    w = ~traceFull['M1']['out'].vignetted\n",
    "    rays = rays.toCoordSys(batoid.globalCoordSys)\n",
    "    p0 = rays[w].r\n",
    "    p1 = rays[w].positionAtTime(-dist)\n",
    "    for _p0, _p1 in zip(p0, p1):\n",
    "        fig.add_scatter3d(\n",
    "            x=[_p0[0], _p1[0]],\n",
    "            y=[_p0[1], _p1[1]],\n",
    "            z=[_p0[2], _p1[2]],\n",
    "            mode='lines',\n",
    "            line=dict(color='blue')\n",
    "        )\n",
    "    camera = dict(\n",
    "        up=dict(x=0, y=0, z=1),\n",
    "        center=dict(x=0, y=0, z=0),\n",
    "        eye=dict(x=1, y=1, z=1)\n",
    "    )\n",
    "    fig.update_layout(\n",
    "        scene_camera=camera,\n",
    "        scene = dict(\n",
    "            xaxis = dict(visible=False, range=[-300, 300]),\n",
    "            yaxis = dict(visible=False, range=[-300, 300]),\n",
    "            zaxis = dict(visible=False, range=[-300, 300]),\n",
    "            xaxis_showspikes=False,\n",
    "            yaxis_showspikes=False,\n",
    "            zaxis_showspikes=False,\n",
    "            aspectmode='cube',\n",
    "            aspectratio=dict(x=1, y=1, z=1)\n",
    "        ),\n",
    "        margin=dict(\n",
    "            l=0,\n",
    "            r=0,\n",
    "            b=0,\n",
    "            t=0,\n",
    "            pad=4\n",
    "        ),\n",
    "    )\n",
    "#     draw3dFP(ipv, telescope['Detector'].coordSys)\n",
    "#     drawSkyFP(ipv, alt, az, rot)\n",
    "    \n",
    "#     drawAltAzGrid(ipv)\n",
    "#     drawEqGrid(ipv, lat)\n",
    "\n",
    "#     if doAzCS:\n",
    "#         AzCS = getAzCS(az)\n",
    "#         AzCS = batoid.CoordSys(\n",
    "#             origin = [0, 0, 0],\n",
    "#             rot = batoid.RotZ(np.pi/2-az)\n",
    "#         )\n",
    "#         drawCoordSys(ipv, AzCS)\n",
    "#     if doOpCS:\n",
    "#         OpCS = getOpCS(alt, az)\n",
    "#         drawCoordSys(ipv, OpCS)                         \n",
    "#     if doMCS:\n",
    "#         MCS = getMCS()\n",
    "#         drawCoordSys(ipv, MCS)\n",
    "#     if doTCS:\n",
    "#         TCS = getTCS(alt, az)\n",
    "#         drawCoordSys(ipv, TCS)\n",
    "#     if doCCS:\n",
    "#         drawCoordSys(ipv, telescope['LSSTCamera'].coordSys)            \n",
    "            \n",
    "#     ipv.show()\n",
    "#     ipv.xlim(-8, 8)\n",
    "#     ipv.ylim(-8, 8)\n",
    "#     ipv.zlim(0, 16)\n",
    "#     ipvfig.camera.position = (-1.5254697593501128, -1.2928322819658806, 0.03907305996705254)\n",
    "#     ipvfig.camera.rotation = (-1.2237988550857888, -1.3392070664612021, -2.763432436269493, 'XYZ')\n",
    "    fig.show()"
   ]
  },
  {
   "cell_type": "code",
   "execution_count": null,
   "metadata": {
    "tags": []
   },
   "outputs": [],
   "source": [
    "# rot = 0\n",
    "rot = 0.7485759992183523 \n",
    "alt = 0.8010022880203016 \n",
    "az = 1.8888812762063498 \n",
    "# az = 0\n",
    "\n",
    "thx = np.deg2rad(0.0)\n",
    "thy = np.deg2rad(0.0)\n",
    "show_coord_sys(rot, alt, az, thx, thy, doCCS=True)"
   ]
  },
  {
   "cell_type": "code",
   "execution_count": null,
   "metadata": {},
   "outputs": [],
   "source": []
  }
 ],
 "metadata": {
  "kernelspec": {
   "display_name": "Python 3 (ipykernel)",
   "language": "python",
   "name": "python3"
  },
  "language_info": {
   "codemirror_mode": {
    "name": "ipython",
    "version": 3
   },
   "file_extension": ".py",
   "mimetype": "text/x-python",
   "name": "python",
   "nbconvert_exporter": "python",
   "pygments_lexer": "ipython3",
   "version": "3.8.13"
  }
 },
 "nbformat": 4,
 "nbformat_minor": 4
}
