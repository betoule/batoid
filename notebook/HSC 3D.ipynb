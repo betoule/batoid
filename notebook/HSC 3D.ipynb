{
 "cells": [
  {
   "cell_type": "code",
   "execution_count": null,
   "metadata": {},
   "outputs": [],
   "source": [
    "import batoid\n",
    "import yaml\n",
    "import os\n",
    "import numpy as np\n",
    "from ipywidgets import interact\n",
    "import ipywidgets as widgets\n",
    "import matplotlib.pyplot as plt\n",
    "from mpl_toolkits.mplot3d import Axes3D\n",
    "%matplotlib inline"
   ]
  },
  {
   "cell_type": "code",
   "execution_count": null,
   "metadata": {},
   "outputs": [],
   "source": [
    "filename = os.path.join(batoid.datadir, 'HSC', 'HSC3.yaml')\n",
    "config = yaml.load(open(filename))\n",
    "telescope = batoid.parse.parse_optic(config['opticalSystem'])"
   ]
  },
  {
   "cell_type": "code",
   "execution_count": null,
   "metadata": {},
   "outputs": [],
   "source": [
    "# Sanity check optic shifting\n",
    "@interact(optic=widgets.Dropdown(\n",
    "              options=['SubaruHSC.HSC.G1',\n",
    "                       'SubaruHSC.HSC.G2',                       \n",
    "                       'SubaruHSC.HSC.ADC',\n",
    "                       'SubaruHSC.HSC.ADC.ADC1',\n",
    "                       'SubaruHSC.HSC.ADC.ADC2',\n",
    "                       'SubaruHSC.HSC.G3',\n",
    "                       'SubaruHSC.HSC.G4',\n",
    "                       'SubaruHSC.HSC.G5',\n",
    "                       'SubaruHSC.HSC.F',\n",
    "                       'SubaruHSC.HSC.W',\n",
    "                       'SubaruHSC.HSC.D'],\n",
    "              default='SubaruHSC.HSC.ADC'\n",
    "          ),\n",
    "          dx=widgets.FloatSlider(min=-1, max=1, step=0.01, value=0.2),\n",
    "          dy=widgets.FloatSlider(min=-1, max=1, step=0.01, value=0.0),\n",
    "          dz=widgets.FloatSlider(min=-1, max=1, step=0.01, value=0.0),\n",
    "          dthx=widgets.FloatSlider(min=-90, max=90, step=5, value=0.0),\n",
    "          dthy=widgets.FloatSlider(min=-90, max=90, step=5, value=0.0),\n",
    "          dthz=widgets.FloatSlider(min=-90, max=90, step=5, value=0.0)\n",
    "         )\n",
    "def shiftOptic(optic, dx, dy, dz, dthx, dthy, dthz):\n",
    "#     rot = batoid.RotX(np.pi/180*dthx) * batoid.RotY(np.pi/180*dthy) * batoid.RotZ(np.pi/180*dthz)\n",
    "    rot = batoid.RotZ(np.pi/180*dthz) * batoid.RotX(np.pi/180*dthx) * batoid.RotY(np.pi/180*dthy)\n",
    "    perturbedTelescope = telescope.withGloballyShiftedOptic(optic, batoid.Vec3(dx, dy, dz))\n",
    "    perturbedTelescope = perturbedTelescope.withLocallyRotatedOptic(optic, rot)\n",
    "    fig = plt.figure(figsize=(12, 12))\n",
    "    ax = fig.add_subplot(111, projection='3d')\n",
    "    perturbedTelescope.itemDict['SubaruHSC.HSC'].draw3d(ax, c='k')\n",
    "    #And redraw the perturbed optic in red\n",
    "    perturbedTelescope.itemDict[optic].draw3d(ax, c='r')\n",
    "    ax.set_xlim(-0.5, 0.5)\n",
    "    ax.set_ylim(-0.5, 0.5)    \n",
    "    ax.set_zlim(13.5, 15.25)\n",
    "    ax.set_xlabel(\"x\")\n",
    "    ax.set_ylabel(\"y\")\n",
    "    ax.set_zlabel(\"z\")    \n",
    "    plt.show()"
   ]
  },
  {
   "cell_type": "code",
   "execution_count": null,
   "metadata": {},
   "outputs": [],
   "source": []
  }
 ],
 "metadata": {
  "kernelspec": {
   "display_name": "Python 3",
   "language": "python",
   "name": "python3"
  },
  "language_info": {
   "codemirror_mode": {
    "name": "ipython",
    "version": 3
   },
   "file_extension": ".py",
   "mimetype": "text/x-python",
   "name": "python",
   "nbconvert_exporter": "python",
   "pygments_lexer": "ipython3",
   "version": "3.6.2"
  }
 },
 "nbformat": 4,
 "nbformat_minor": 2
}
