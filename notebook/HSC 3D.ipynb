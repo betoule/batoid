{
 "cells": [
  {
   "cell_type": "code",
   "execution_count": null,
   "metadata": {},
   "outputs": [],
   "source": [
    "import batoid\n",
    "import yaml\n",
    "import os\n",
    "import numpy as np\n",
    "import matplotlib.pyplot as plt\n",
    "from mpl_toolkits.mplot3d import Axes3D\n",
    "%matplotlib inline"
   ]
  },
  {
   "cell_type": "code",
   "execution_count": null,
   "metadata": {},
   "outputs": [],
   "source": [
    "filename = os.path.join(batoid.datadir, 'HSC', 'HSC3.yaml')\n",
    "config = yaml.load(open(filename))\n",
    "telescope = batoid.parse.parse_optic(config['opticalSystem'])"
   ]
  },
  {
   "cell_type": "code",
   "execution_count": null,
   "metadata": {},
   "outputs": [],
   "source": [
    "fig = plt.figure(figsize=(12, 12))\n",
    "ax = fig.add_subplot(111, projection='3d')\n",
    "telescope.draw(ax)\n",
    "plt.show()"
   ]
  },
  {
   "cell_type": "code",
   "execution_count": null,
   "metadata": {},
   "outputs": [],
   "source": [
    "print([item.name for item in telescope.items])"
   ]
  },
  {
   "cell_type": "code",
   "execution_count": null,
   "metadata": {},
   "outputs": [],
   "source": [
    "# Skip to camera\n",
    "fig = plt.figure(figsize=(12, 12))\n",
    "ax = fig.add_subplot(111, projection='3d')\n",
    "telescope.items[4].draw(ax)\n",
    "plt.show()"
   ]
  },
  {
   "cell_type": "code",
   "execution_count": null,
   "metadata": {},
   "outputs": [],
   "source": [
    "# Trace some rays and add them to the plots\n",
    "zdist = 16  # starting height above coordinate origin (which is primary mirror vertex in this case)\n",
    "outer = 4.1 # radius of PM\n",
    "inner = 0.5 # camera shadow\n",
    "xcos = 0.005 # x direction cosine\n",
    "ycos = 0.003 # y direction cosine\n",
    "nradii = 10 # number of radii between outer and inner to generate\n",
    "naz = 10 # number rays around outermost radius\n",
    "wavelength = 500e-9 # meters\n",
    "nInit = 1.0 # initial refractive index\n",
    "rays = batoid.circularGrid(zdist, outer, inner, xcos, ycos, nradii, naz, wavelength, nInit)\n",
    "tf = telescope.traceFull(rays)"
   ]
  },
  {
   "cell_type": "code",
   "execution_count": null,
   "metadata": {},
   "outputs": [],
   "source": [
    "# tf contains the results from the full raytrace.  The following extracts just the xyz coords of each ray.\n",
    "# Note that these are initially returned in the coordSys of each optical element, so we have to transform\n",
    "# them into the global coordinate system to make plots\n",
    "def paths(tf):\n",
    "    xs = []\n",
    "    ys = []\n",
    "    zs = []\n",
    "    for item in tf:\n",
    "        transform = batoid.CoordTransform(item['inCoordSys'], batoid.CoordSys())\n",
    "        globalRay = transform.applyForward(item['in'])\n",
    "        xs.append(globalRay.x)\n",
    "        ys.append(globalRay.y)\n",
    "        zs.append(globalRay.z)\n",
    "    return np.array(xs), np.array(ys), np.array(zs)\n",
    "xs, ys, zs = paths(tf)\n",
    "print(xs.shape)  # (nsurface, nray)"
   ]
  },
  {
   "cell_type": "code",
   "execution_count": null,
   "metadata": {
    "scrolled": false
   },
   "outputs": [],
   "source": [
    "fig = plt.figure(figsize=(12, 12))\n",
    "ax = fig.add_subplot(111, projection='3d')\n",
    "telescope.draw(ax)\n",
    "for x, y, z in zip(np.array(xs).T, np.array(ys).T, np.array(zs).T):\n",
    "    ax.plot(x, y, z, c='r', alpha=0.3)\n",
    "ax.scatter(xs, ys, zs, c='r', s=3)    \n",
    "plt.show()"
   ]
  },
  {
   "cell_type": "code",
   "execution_count": null,
   "metadata": {},
   "outputs": [],
   "source": [
    "# Skip to camera\n",
    "fig = plt.figure(figsize=(12, 12))\n",
    "ax = fig.add_subplot(111, projection='3d')\n",
    "telescope.items[4].draw(ax)\n",
    "for x, y, z in zip(np.array(xs).T, np.array(ys).T, np.array(zs).T):\n",
    "    ax.plot(x[5:], y[5:], z[5:], c='r', alpha=0.3)\n",
    "ax.scatter(xs[5:], ys[5:], zs[5:], c='r', s=3)\n",
    "plt.show()"
   ]
  },
  {
   "cell_type": "code",
   "execution_count": null,
   "metadata": {},
   "outputs": [],
   "source": [
    "# Interactive\n",
    "from ipywidgets import interact\n",
    "import ipywidgets as widgets\n",
    "\n",
    "@interact(xcos=widgets.FloatSlider(min=-1, max=1, step=0.01, value=0.0),\n",
    "          ycos=widgets.FloatSlider(min=-1, max=1, step=0.01, value=0.0))\n",
    "def trace(xcos, ycos):\n",
    "    rays = batoid.circularGrid(\n",
    "        zdist, outer, inner, \n",
    "        1e-2*xcos, 1e-2*ycos, \n",
    "        nradii, naz, wavelength, nInit\n",
    "    )\n",
    "    tf = telescope.traceFull(rays)\n",
    "    xs, ys, zs = paths(tf)\n",
    "\n",
    "    fig = plt.figure(figsize=(5, 5))\n",
    "    ax = fig.add_subplot(111, projection='3d')\n",
    "    telescope.items[4].draw(ax)\n",
    "    for x, y, z in zip(np.array(xs).T, np.array(ys).T, np.array(zs).T):\n",
    "        ax.plot(x[5:], y[5:], z[5:], c='r', alpha=0.3)\n",
    "    ax.scatter(xs[5:], ys[5:], zs[5:], c='r', s=3)\n",
    "    ax.set_xlim(-0.5, 0.5)\n",
    "    ax.set_ylim(-0.5, 0.5)\n",
    "    ax.set_zlim(13.5, 15.25)\n",
    "    ax.set_xlabel(\"x\")\n",
    "    ax.set_ylabel(\"y\")"
   ]
  },
  {
   "cell_type": "code",
   "execution_count": null,
   "metadata": {},
   "outputs": [],
   "source": []
  }
 ],
 "metadata": {
  "kernelspec": {
   "display_name": "Python 3",
   "language": "python",
   "name": "python3"
  },
  "language_info": {
   "codemirror_mode": {
    "name": "ipython",
    "version": 3
   },
   "file_extension": ".py",
   "mimetype": "text/x-python",
   "name": "python",
   "nbconvert_exporter": "python",
   "pygments_lexer": "ipython3",
   "version": "3.6.2"
  }
 },
 "nbformat": 4,
 "nbformat_minor": 2
}
