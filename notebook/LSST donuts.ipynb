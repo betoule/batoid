{
 "cells": [
  {
   "cell_type": "code",
   "execution_count": null,
   "metadata": {
    "ExecuteTime": {
     "end_time": "2018-05-02T23:42:54.285188Z",
     "start_time": "2018-05-02T23:42:53.267246Z"
    }
   },
   "outputs": [],
   "source": [
    "import batoid\n",
    "import os\n",
    "import yaml\n",
    "import numpy as np\n",
    "from ipywidgets import interact\n",
    "import ipywidgets as widgets\n",
    "import matplotlib.pyplot as plt\n",
    "%matplotlib inline"
   ]
  },
  {
   "cell_type": "code",
   "execution_count": null,
   "metadata": {
    "ExecuteTime": {
     "end_time": "2018-05-02T23:42:55.052363Z",
     "start_time": "2018-05-02T23:42:54.996177Z"
    }
   },
   "outputs": [],
   "source": [
    "LSST_r_fn = os.path.join(batoid.datadir, \"LSST\", \"LSST_r.yaml\")\n",
    "config = yaml.safe_load(open(LSST_r_fn))\n",
    "fiducial_telescope = batoid.parse.parse_optic(config['opticalSystem'])"
   ]
  },
  {
   "cell_type": "code",
   "execution_count": null,
   "metadata": {
    "ExecuteTime": {
     "end_time": "2018-05-02T23:42:58.591541Z",
     "start_time": "2018-05-02T23:42:55.724444Z"
    }
   },
   "outputs": [],
   "source": [
    "theta_x = 0\n",
    "theta_y = 0\n",
    "wavelength = 620e-9\n",
    "\n",
    "telescope = fiducial_telescope.withGloballyShiftedOptic('LSST.LSSTCamera', [0,0,1e-3])\n",
    "\n",
    "telescope.dist = 20.0\n",
    "telescope.pupil_size = 10.0\n",
    "telescope.sphereRadius = 10.5\n",
    "telescope.inMedium = batoid.Air()\n",
    "\n",
    "nx=1536\n",
    "fftpsf = batoid.fftPSF(telescope, theta_x, theta_y, wavelength, nx=nx, pad_factor=1)\n",
    "scale = np.sqrt(np.abs(np.linalg.det(fftpsf.primitiveVectors)))  # meters\n",
    "\n",
    "extent = scale*fftpsf.array.shape[0]/2*np.r_[-1., 1., -1., 1.] # meters\n",
    "extent -= scale/2\n",
    "extent *= 1e6 # microns\n",
    "\n",
    "plt.imshow(fftpsf.array/fftpsf.array.sum(), extent=extent)\n",
    "plt.colorbar()\n",
    "plt.title(\"FFT PSF\")\n",
    "plt.show()\n",
    "\n",
    "fftpsf_sub = fftpsf.array[16::32, 16::32]\n",
    "plt.imshow(fftpsf_sub/fftpsf_sub.sum(), extent=extent)\n",
    "plt.colorbar()\n",
    "plt.title(\"FFT PSF downsampled\")\n",
    "plt.show()"
   ]
  },
  {
   "cell_type": "code",
   "execution_count": null,
   "metadata": {
    "ExecuteTime": {
     "end_time": "2018-05-02T23:43:02.563076Z",
     "start_time": "2018-05-02T23:42:59.764197Z"
    }
   },
   "outputs": [],
   "source": [
    "theta_x = 0\n",
    "theta_y = np.deg2rad(1.75)\n",
    "wavelength = 620e-9\n",
    "\n",
    "telescope = fiducial_telescope.withGloballyShiftedOptic('LSST.LSSTCamera', [0,0,1e-3])\n",
    "\n",
    "telescope.dist = 20.0\n",
    "telescope.pupil_size = 10.0\n",
    "telescope.sphereRadius = 10.5\n",
    "telescope.inMedium = batoid.Air()\n",
    "\n",
    "nx=1536\n",
    "fftpsf = batoid.fftPSF(telescope, theta_x, theta_y, wavelength, nx=nx, pad_factor=1)\n",
    "scale = np.sqrt(np.abs(np.linalg.det(fftpsf.primitiveVectors)))  # meters\n",
    "\n",
    "extent = scale*fftpsf.array.shape[0]/2*np.r_[-1., 1., -1., 1.] # meters\n",
    "extent -= scale/2\n",
    "extent *= 1e6 # microns\n",
    "\n",
    "plt.imshow(fftpsf.array/fftpsf.array.sum(), extent=extent)\n",
    "plt.colorbar()\n",
    "plt.title(\"FFT PSF\")\n",
    "plt.show()\n",
    "\n",
    "fftpsf_sub = fftpsf.array[16::32, 16::32]\n",
    "plt.imshow(fftpsf_sub/fftpsf_sub.sum(), extent=extent)\n",
    "plt.colorbar()\n",
    "plt.title(\"FFT PSF downsampled\")\n",
    "plt.show()"
   ]
  },
  {
   "cell_type": "code",
   "execution_count": null,
   "metadata": {
    "ExecuteTime": {
     "end_time": "2018-05-02T23:47:36.674488Z",
     "start_time": "2018-05-02T23:47:14.787161Z"
    }
   },
   "outputs": [],
   "source": [
    "wavelength = 500e-9\n",
    "theta_x = 0\n",
    "theta_y = np.deg2rad(1.75)\n",
    "\n",
    "dirCos = batoid.utils.gnomicToDirCos(theta_x, theta_y)\n",
    "\n",
    "telescope = fiducial_telescope.withGloballyShiftedOptic('LSST.LSSTCamera', [0,0,1e-3])\n",
    "\n",
    "telescope.dist = 20.0\n",
    "telescope.pupil_size = 8.36\n",
    "telescope.sphereRadius = 10.5\n",
    "telescope.inMedium = batoid.Air()\n",
    "\n",
    "nx = 1800\n",
    "nxOut = 32\n",
    "dx = 1200*1e-6/nxOut\n",
    "huygensPSF = batoid.huygensPSF(telescope, theta_x, theta_y, wavelength, nx=nx, dx=dx, dy=dx, nxOut=nxOut)\n",
    "\n",
    "scale = np.sqrt(np.abs(np.linalg.det(huygensPSF.primitiveVectors)))  # meters\n",
    "if huygensPSF.primitiveVectors[0,0] < 1:\n",
    "    huygensPSF.array = huygensPSF.array[::-1,::-1]\n",
    "\n",
    "extent = scale*huygensPSF.array.shape[0]/2*np.r_[-1., 1., -1., 1.]  # meters\n",
    "extent -= scale/2\n",
    "extent *= 1e6 # microns\n",
    "\n",
    "plt.imshow(huygensPSF.array/huygensPSF.array.sum(), extent=extent)\n",
    "plt.colorbar()\n",
    "plt.title(\"Huygens PSF\")\n",
    "plt.show()"
   ]
  },
  {
   "cell_type": "code",
   "execution_count": null,
   "metadata": {},
   "outputs": [],
   "source": []
  }
 ],
 "metadata": {
  "anaconda-cloud": {},
  "kernelspec": {
   "display_name": "Python 3",
   "language": "python",
   "name": "python3"
  },
  "language_info": {
   "codemirror_mode": {
    "name": "ipython",
    "version": 3
   },
   "file_extension": ".py",
   "mimetype": "text/x-python",
   "name": "python",
   "nbconvert_exporter": "python",
   "pygments_lexer": "ipython3",
   "version": "3.6.2"
  }
 },
 "nbformat": 4,
 "nbformat_minor": 1
}
