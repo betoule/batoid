{
 "cells": [
  {
   "cell_type": "code",
   "execution_count": null,
   "metadata": {},
   "outputs": [],
   "source": [
    "import batoid\n",
    "import os\n",
    "import yaml\n",
    "import numpy as np\n",
    "import time\n",
    "from ipywidgets import interact\n",
    "import ipywidgets as widgets\n",
    "import matplotlib.pyplot as plt\n",
    "%matplotlib inline"
   ]
  },
  {
   "cell_type": "code",
   "execution_count": null,
   "metadata": {},
   "outputs": [],
   "source": [
    "LSST_r_fn = os.path.join(batoid.datadir, \"LSST\", \"LSST_r2.yaml\")\n",
    "config = yaml.load(open(LSST_r_fn))\n",
    "fiducial_telescope = batoid.parse.parse_optic(config['opticalSystem'])"
   ]
  },
  {
   "cell_type": "code",
   "execution_count": null,
   "metadata": {},
   "outputs": [],
   "source": [
    "theta_x = 0\n",
    "theta_y = 0\n",
    "wavelength = 620e-9\n",
    "\n",
    "telescope = fiducial_telescope.withGloballyShiftedOptic('LSST.LSSTCamera', batoid.Vec3(0,0,1e-3))\n",
    "\n",
    "telescope.dist = 20.0\n",
    "telescope.pupil_size = 10.0\n",
    "telescope.sphereRadius = 10.5\n",
    "telescope.inMedium = batoid.Air()\n",
    "\n",
    "nx=1536\n",
    "scale, fftpsf = batoid.fftPSF(telescope, wavelength, theta_x, theta_y, nx=nx, pad_factor=1)\n",
    "\n",
    "extent = scale*fftpsf.shape[0]/2*np.r_[-1., 1., -1., 1.] # radians\n",
    "extent -= scale/2\n",
    "extent *= 206265 # arcsec\n",
    "extent /= 0.2 # pixels\n",
    "extent *= 10 # microns\n",
    "plt.imshow(fftpsf/fftpsf.sum(), extent=extent)\n",
    "plt.colorbar()\n",
    "plt.title(\"FFT PSF\")\n",
    "plt.show()\n",
    "\n",
    "fftpsf_sub = fftpsf[16::32, 16::32]\n",
    "plt.imshow(fftpsf_sub/fftpsf_sub.sum(), extent=extent)\n",
    "plt.colorbar()\n",
    "plt.title(\"FFT PSF downsampled\")\n",
    "plt.show()"
   ]
  },
  {
   "cell_type": "code",
   "execution_count": null,
   "metadata": {},
   "outputs": [],
   "source": [
    "theta_x = 0\n",
    "theta_y = 1.75\n",
    "wavelength = 620e-9\n",
    "\n",
    "telescope = fiducial_telescope.withGloballyShiftedOptic('LSST.LSSTCamera', batoid.Vec3(0,0,1e-3))\n",
    "\n",
    "telescope.dist = 20.0\n",
    "telescope.pupil_size = 10.0\n",
    "telescope.sphereRadius = 10.5\n",
    "telescope.inMedium = batoid.Air()\n",
    "\n",
    "nx=1536\n",
    "scale, fftpsf = batoid.fftPSF(telescope, wavelength, theta_x, theta_y, nx=nx, pad_factor=1)\n",
    "\n",
    "extent = scale*fftpsf.shape[0]/2*np.r_[-1., 1., -1., 1.] # radians\n",
    "extent -= scale/2\n",
    "extent *= 206265 # arcsec\n",
    "extent /= 0.2 # pixels\n",
    "extent *= 10 # microns\n",
    "plt.imshow(fftpsf/fftpsf.sum(), extent=extent)\n",
    "plt.colorbar()\n",
    "plt.title(\"FFT PSF\")\n",
    "plt.show()\n",
    "\n",
    "fftpsf_sub = fftpsf[16::32, 16::32]\n",
    "plt.imshow(fftpsf_sub/fftpsf_sub.sum(), extent=extent)\n",
    "plt.colorbar()\n",
    "plt.title(\"FFT PSF downsampled\")\n",
    "plt.show()"
   ]
  },
  {
   "cell_type": "code",
   "execution_count": null,
   "metadata": {},
   "outputs": [],
   "source": [
    "t0 = time.time()\n",
    "\n",
    "wavelength = 500e-9\n",
    "theta_x = 0\n",
    "theta_y = 1.75\n",
    "\n",
    "xcos = np.sin(theta_x*np.pi/180)\n",
    "ycos = np.sin(theta_y*np.pi/180)\n",
    "zcos = -np.sqrt(1.0 - xcos**2 - ycos**2)\n",
    "orig_rays = batoid.circularGrid(18.0, 4.5, 2.0, xcos, ycos, zcos,\n",
    "                                600, 6000, wavelength, batoid.Air())\n",
    "\n",
    "traced_rays, _ = telescope.trace(orig_rays)    \n",
    "goodRays = batoid.trimVignetted(traced_rays)\n",
    "xmean = np.mean(goodRays.x)\n",
    "ymean = np.mean(goodRays.y)\n",
    "xs = np.linspace(xmean-500e-6, xmean+500e-6, 32)\n",
    "ys = np.linspace(ymean-500e-6, ymean+500e-6, 32)\n",
    "xs, ys = np.meshgrid(xs, ys)\n",
    "\n",
    "huygensPsf = batoid.huygensPSF(telescope, xs=xs, ys=ys, zs=None, rays=orig_rays, saveRays=False)\n",
    "\n",
    "plt.imshow(huygensPsf/huygensPsf.sum())\n",
    "plt.colorbar()\n",
    "plt.title(\"Huygens PSF\")\n",
    "plt.show()\n",
    "\n",
    "t1 = time.time()\n",
    "print(\"Huygens PSF took {:6.1f} seconds to compute\".format(t1-t0))"
   ]
  },
  {
   "cell_type": "code",
   "execution_count": null,
   "metadata": {},
   "outputs": [],
   "source": []
  }
 ],
 "metadata": {
  "anaconda-cloud": {},
  "kernelspec": {
   "display_name": "Python 3",
   "language": "python",
   "name": "python3"
  },
  "language_info": {
   "codemirror_mode": {
    "name": "ipython",
    "version": 3
   },
   "file_extension": ".py",
   "mimetype": "text/x-python",
   "name": "python",
   "nbconvert_exporter": "python",
   "pygments_lexer": "ipython3",
   "version": "3.6.2"
  }
 },
 "nbformat": 4,
 "nbformat_minor": 1
}
