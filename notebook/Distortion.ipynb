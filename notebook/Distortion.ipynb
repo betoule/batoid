{
 "cells": [
  {
   "cell_type": "code",
   "execution_count": null,
   "metadata": {},
   "outputs": [],
   "source": [
    "import batoid\n",
    "import os\n",
    "import yaml\n",
    "import numpy as np\n",
    "from ipywidgets import interact\n",
    "import ipywidgets as widgets\n",
    "import matplotlib.pyplot as plt\n",
    "%matplotlib inline"
   ]
  },
  {
   "cell_type": "code",
   "execution_count": null,
   "metadata": {},
   "outputs": [],
   "source": [
    "HSC_fn = os.path.join(batoid.datadir, \"hsc\", \"HSC3.yaml\")\n",
    "config = yaml.load(open(HSC_fn))\n",
    "HSC_telescope = batoid.parse.parse_optic(config['opticalSystem'])"
   ]
  },
  {
   "cell_type": "code",
   "execution_count": null,
   "metadata": {},
   "outputs": [],
   "source": [
    "LSST_fn = os.path.join(batoid.datadir, \"lsst\", \"LSST_r2.yaml\")\n",
    "config = yaml.load(open(LSST_fn))\n",
    "LSST_telescope = batoid.parse.parse_optic(config['opticalSystem'])"
   ]
  },
  {
   "cell_type": "code",
   "execution_count": null,
   "metadata": {},
   "outputs": [],
   "source": [
    "DECam_fn = os.path.join(batoid.datadir, \"decam\", \"DECam2.yaml\")\n",
    "config = yaml.load(open(DECam_fn))\n",
    "DECam_telescope = batoid.parse.parse_optic(config['opticalSystem'])"
   ]
  },
  {
   "cell_type": "code",
   "execution_count": null,
   "metadata": {},
   "outputs": [],
   "source": [
    "def dthdr(telescope, th, pixelSize=15, n=1.0):\n",
    "    th = th * np.pi/180\n",
    "    # d(pixels) / d(arcsec)\n",
    "    dth = 1e-5\n",
    "    rays = batoid.circularGrid(20, 5.0, 0.0, np.sin(th), 0, -np.sqrt(1-np.sin(th)**2), 32, 128, wavelength=620e-9, n=n)\n",
    "    rays_x = batoid.circularGrid(20, 5.0, 0.0, np.sin(th+dth), 0, -np.sqrt(1-np.sin(th+dth)**2), 32, 128, wavelength=620e-9, n=n)\n",
    "    rays_y = batoid.circularGrid(20, 5.0, 0.0, np.sin(th), np.sin(dth), -np.sqrt(1-np.sin(th)**2-np.sin(dth)**2), 32, 128, wavelength=620e-9, n=n)\n",
    "\n",
    "    telescope.traceInPlace(rays)\n",
    "    telescope.traceInPlace(rays_x)\n",
    "    telescope.traceInPlace(rays_y)\n",
    "    \n",
    "    batoid.trimVignettedInPlace(rays)\n",
    "    batoid.trimVignettedInPlace(rays_x)\n",
    "    batoid.trimVignettedInPlace(rays_y)\n",
    "    \n",
    "    drx_dthx = (np.mean(rays_x.x) - np.mean(rays.x))/dth # m / radian\n",
    "    drx_dthx *= 1e6 # micron / radian\n",
    "    drx_dthx /= 206265 # micron / arcsec\n",
    "    drx_dthx /= pixelSize # pixels / arcsec\n",
    "\n",
    "    drx_dthy = (np.mean(rays_y.x) - np.mean(rays.x))/dth # m / radian\n",
    "    drx_dthy *= 1e6 # micron / radian\n",
    "    drx_dthy /= 206265 # micron / arcsec\n",
    "    drx_dthy /= pixelSize # pixels / arcsec\n",
    "\n",
    "    dry_dthx = (np.mean(rays_x.y) - np.mean(rays.y))/dth # m / radian\n",
    "    dry_dthx *= 1e6 # micron / radian\n",
    "    dry_dthx /= 206265 # micron / arcsec\n",
    "    dry_dthx /= pixelSize # pixels / arcsec\n",
    "\n",
    "    dry_dthy = (np.mean(rays_y.y) - np.mean(rays.y))/dth # m / radian\n",
    "    dry_dthy *= 1e6 # micron / radian\n",
    "    dry_dthy /= 206265 # micron / arcsec\n",
    "    dry_dthy /= pixelSize # pixels / arcsec\n",
    "    \n",
    "    dr_dth = np.array([[drx_dthx, dry_dthx], [drx_dthy, dry_dthy]])\n",
    "    dth_dr = np.linalg.inv(dr_dth)\n",
    "\n",
    "    return dth_dr"
   ]
  },
  {
   "cell_type": "code",
   "execution_count": null,
   "metadata": {},
   "outputs": [],
   "source": [
    "dthx_drx = []\n",
    "dthy_dry = []\n",
    "thetas = np.linspace(0.0, 0.74, 10)\n",
    "for th in thetas:\n",
    "    dth_dr = dthdr(HSC_telescope, th)\n",
    "    dthx_drx.append(abs(dth_dr[0,0]))\n",
    "    dthy_dry.append(abs(dth_dr[1,1]))\n",
    "fig, (ax1, ax2) = plt.subplots(ncols=2, figsize=(10, 4))\n",
    "ax1.plot(thetas, dthx_drx, c='b', label='radial')\n",
    "ax1.plot(thetas, dthy_dry, c='r', label='tangential')\n",
    "ax1.set_xlabel('radius (deg)')\n",
    "ax1.set_ylabel('pixel size (arcsec)')\n",
    "ax1.legend(loc='lower left')\n",
    "ax1.set_title(\"HSC\")\n",
    "\n",
    "ax2.plot(thetas, np.array(dthx_drx)/np.array(dthy_dry))\n",
    "ax2.set_xlabel('radius (deg)')\n",
    "ax2.set_ylabel('b/a')\n",
    "ax2.set_title(\"HSC\")\n",
    "\n",
    "fig.tight_layout()\n",
    "fig.show()"
   ]
  },
  {
   "cell_type": "code",
   "execution_count": null,
   "metadata": {},
   "outputs": [],
   "source": [
    "dthx_drx = []\n",
    "dthy_dry = []\n",
    "thetas = np.linspace(0.0, 1.75, 10)\n",
    "for th in thetas:\n",
    "    dth_dr = dthdr(LSST_telescope, th, pixelSize=10, n=batoid.Air())\n",
    "    dthx_drx.append(abs(dth_dr[0,0]))\n",
    "    dthy_dry.append(abs(dth_dr[1,1]))\n",
    "fig, (ax1, ax2) = plt.subplots(ncols=2, figsize=(10, 4))\n",
    "ax1.plot(thetas, dthx_drx, c='b', label='radial')\n",
    "ax1.plot(thetas, dthy_dry, c='r', label='tangential')\n",
    "ax1.set_xlabel('radius (deg)')\n",
    "ax1.set_ylabel('pixel size (arcsec)')\n",
    "ax1.legend(loc='lower left')\n",
    "ax1.set_title(\"LSST\")\n",
    "\n",
    "ax2.plot(thetas, np.array(dthx_drx)/np.array(dthy_dry))\n",
    "ax2.set_xlabel('radius (deg)')\n",
    "ax2.set_ylabel('b/a')\n",
    "ax2.set_title(\"LSST\")\n",
    "\n",
    "fig.tight_layout()\n",
    "fig.show()"
   ]
  },
  {
   "cell_type": "code",
   "execution_count": null,
   "metadata": {},
   "outputs": [],
   "source": [
    "dthx_drx = []\n",
    "dthy_dry = []\n",
    "thetas = np.linspace(0.0, 1.1, 10)\n",
    "for th in thetas:\n",
    "    dth_dr = dthdr(DECam_telescope, th)\n",
    "    dthx_drx.append(abs(dth_dr[0,0]))\n",
    "    dthy_dry.append(abs(dth_dr[1,1]))\n",
    "fig, (ax1, ax2) = plt.subplots(ncols=2, figsize=(10, 4))\n",
    "ax1.plot(thetas, dthx_drx, c='b', label='radial')\n",
    "ax1.plot(thetas, dthy_dry, c='r', label='tangential')\n",
    "ax1.set_xlabel('radius (deg)')\n",
    "ax1.set_ylabel('pixel size (arcsec)')\n",
    "ax1.legend(loc='lower left')\n",
    "ax1.set_title(\"DECam\")\n",
    "\n",
    "ax2.plot(thetas, np.array(dthx_drx)/np.array(dthy_dry))\n",
    "ax2.set_xlabel('radius (deg)')\n",
    "ax2.set_ylabel('b/a')\n",
    "ax2.set_title(\"DECam\")\n",
    "\n",
    "fig.tight_layout()\n",
    "fig.show()"
   ]
  },
  {
   "cell_type": "code",
   "execution_count": null,
   "metadata": {},
   "outputs": [],
   "source": []
  }
 ],
 "metadata": {
  "anaconda-cloud": {},
  "kernelspec": {
   "display_name": "Python 3",
   "language": "python",
   "name": "python3"
  },
  "language_info": {
   "codemirror_mode": {
    "name": "ipython",
    "version": 3
   },
   "file_extension": ".py",
   "mimetype": "text/x-python",
   "name": "python",
   "nbconvert_exporter": "python",
   "pygments_lexer": "ipython3",
   "version": "3.6.2"
  }
 },
 "nbformat": 4,
 "nbformat_minor": 1
}
