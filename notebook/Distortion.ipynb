{
 "cells": [
  {
   "cell_type": "code",
   "execution_count": null,
   "metadata": {
    "ExecuteTime": {
     "end_time": "2018-04-26T19:19:48.349070Z",
     "start_time": "2018-04-26T19:19:47.674488Z"
    }
   },
   "outputs": [],
   "source": [
    "import batoid\n",
    "import os\n",
    "import yaml\n",
    "import numpy as np\n",
    "from ipywidgets import interact\n",
    "import ipywidgets as widgets\n",
    "import matplotlib.pyplot as plt\n",
    "%matplotlib inline"
   ]
  },
  {
   "cell_type": "code",
   "execution_count": null,
   "metadata": {
    "ExecuteTime": {
     "end_time": "2018-04-26T19:19:48.446354Z",
     "start_time": "2018-04-26T19:19:48.351283Z"
    }
   },
   "outputs": [],
   "source": [
    "HSC_fn = os.path.join(batoid.datadir, \"HSC\", \"HSC.yaml\")\n",
    "config = yaml.load(open(HSC_fn))\n",
    "HSC_telescope = batoid.parse.parse_optic(config['opticalSystem'])"
   ]
  },
  {
   "cell_type": "code",
   "execution_count": null,
   "metadata": {
    "ExecuteTime": {
     "end_time": "2018-04-26T19:19:48.504633Z",
     "start_time": "2018-04-26T19:19:48.448611Z"
    }
   },
   "outputs": [],
   "source": [
    "LSST_fn = os.path.join(batoid.datadir, \"LSST\", \"LSST_r.yaml\")\n",
    "config = yaml.load(open(LSST_fn))\n",
    "LSST_telescope = batoid.parse.parse_optic(config['opticalSystem'])"
   ]
  },
  {
   "cell_type": "code",
   "execution_count": null,
   "metadata": {
    "ExecuteTime": {
     "end_time": "2018-04-26T19:19:48.806634Z",
     "start_time": "2018-04-26T19:19:48.750200Z"
    }
   },
   "outputs": [],
   "source": [
    "DECam_fn = os.path.join(batoid.datadir, \"DECam\", \"DECam.yaml\")\n",
    "config = yaml.load(open(DECam_fn))\n",
    "DECam_telescope = batoid.parse.parse_optic(config['opticalSystem'])"
   ]
  },
  {
   "cell_type": "code",
   "execution_count": null,
   "metadata": {
    "ExecuteTime": {
     "end_time": "2018-04-26T19:19:50.593117Z",
     "start_time": "2018-04-26T19:19:49.438246Z"
    }
   },
   "outputs": [],
   "source": [
    "# HSC\n",
    "max_th = 0.74\n",
    "pixSize = 15e-6\n",
    "telescope = HSC_telescope\n",
    "\n",
    "dthx_drx = []\n",
    "dthy_dry = []\n",
    "thetas = np.linspace(0., max_th, 20)\n",
    "for th in thetas:\n",
    "    dth_dr = batoid.psf.dthdr(telescope, np.deg2rad(th), 0, 620e-9)\n",
    "    dthx_drx.append(abs(dth_dr[0,0]))\n",
    "    dthy_dry.append(abs(dth_dr[1,1]))\n",
    "\n",
    "dthx_drx = np.array(dthx_drx) * 206265 * pixSize # arcsec per pixel\n",
    "dthy_dry = np.array(dthy_dry) * 206265 * pixSize # arcsec per pixel\n",
    "\n",
    "fig, (ax1, ax2) = plt.subplots(ncols=2, figsize=(10, 4))\n",
    "ax1.plot(thetas, dthx_drx, c='b', label='radial')\n",
    "ax1.plot(thetas, dthy_dry, c='r', label='tangential')\n",
    "ax1.set_xlabel('radius (deg)')\n",
    "ax1.set_ylabel('pixel size (arcsec)')\n",
    "ax1.legend(loc='lower left')\n",
    "ax1.set_title(\"HSC\")\n",
    "\n",
    "ax2.plot(thetas, np.array(dthx_drx)/np.array(dthy_dry))\n",
    "ax2.set_xlabel('radius (deg)')\n",
    "ax2.set_ylabel('b/a')\n",
    "ax2.set_title(\"HSC\")\n",
    "\n",
    "fig.tight_layout()\n",
    "fig.show()"
   ]
  },
  {
   "cell_type": "code",
   "execution_count": null,
   "metadata": {
    "ExecuteTime": {
     "end_time": "2018-04-26T19:19:51.472767Z",
     "start_time": "2018-04-26T19:19:50.596263Z"
    }
   },
   "outputs": [],
   "source": [
    "# DECam\n",
    "max_th = 1.1\n",
    "pixSize = 15e-6\n",
    "telescope = DECam_telescope\n",
    "\n",
    "dthx_drx = []\n",
    "dthy_dry = []\n",
    "thetas = np.linspace(0., max_th, 20)\n",
    "for th in thetas:\n",
    "    dth_dr = batoid.psf.dthdr(telescope, np.deg2rad(th), 0, 620e-9)\n",
    "    dthx_drx.append(abs(dth_dr[0,0]))\n",
    "    dthy_dry.append(abs(dth_dr[1,1]))\n",
    "\n",
    "dthx_drx = np.array(dthx_drx) * 206265 * pixSize # arcsec per pixel\n",
    "dthy_dry = np.array(dthy_dry) * 206265 * pixSize # arcsec per pixel\n",
    "\n",
    "fig, (ax1, ax2) = plt.subplots(ncols=2, figsize=(10, 4))\n",
    "ax1.plot(thetas, dthx_drx, c='b', label='radial')\n",
    "ax1.plot(thetas, dthy_dry, c='r', label='tangential')\n",
    "ax1.set_xlabel('radius (deg)')\n",
    "ax1.set_ylabel('pixel size (arcsec)')\n",
    "ax1.legend(loc='lower left')\n",
    "ax1.set_title(\"DECam\")\n",
    "\n",
    "ax2.plot(thetas, np.array(dthx_drx)/np.array(dthy_dry))\n",
    "ax2.set_xlabel('radius (deg)')\n",
    "ax2.set_ylabel('b/a')\n",
    "ax2.set_title(\"DECam\")\n",
    "\n",
    "fig.tight_layout()\n",
    "fig.show()"
   ]
  },
  {
   "cell_type": "code",
   "execution_count": null,
   "metadata": {
    "ExecuteTime": {
     "end_time": "2018-04-26T19:19:52.395804Z",
     "start_time": "2018-04-26T19:19:51.475254Z"
    }
   },
   "outputs": [],
   "source": [
    "# LSST\n",
    "max_th = 1.75\n",
    "pixSize = 10e-6\n",
    "telescope = LSST_telescope\n",
    "\n",
    "dthx_drx = []\n",
    "dthy_dry = []\n",
    "thetas = np.linspace(0., max_th, 20)\n",
    "for th in thetas:\n",
    "    dth_dr = batoid.psf.dthdr(telescope, np.deg2rad(th), 0, 620e-9)\n",
    "    dthx_drx.append(abs(dth_dr[0,0]))\n",
    "    dthy_dry.append(abs(dth_dr[1,1]))\n",
    "\n",
    "dthx_drx = np.array(dthx_drx) * 206265 * pixSize # arcsec per pixel\n",
    "dthy_dry = np.array(dthy_dry) * 206265 * pixSize # arcsec per pixel\n",
    "\n",
    "fig, (ax1, ax2) = plt.subplots(ncols=2, figsize=(10, 4))\n",
    "ax1.plot(thetas, dthx_drx, c='b', label='radial')\n",
    "ax1.plot(thetas, dthy_dry, c='r', label='tangential')\n",
    "ax1.set_xlabel('radius (deg)')\n",
    "ax1.set_ylabel('pixel size (arcsec)')\n",
    "ax1.legend(loc='lower left')\n",
    "ax1.set_title(\"LSST\")\n",
    "\n",
    "ax2.plot(thetas, np.array(dthx_drx)/np.array(dthy_dry))\n",
    "ax2.set_xlabel('radius (deg)')\n",
    "ax2.set_ylabel('b/a')\n",
    "ax2.set_title(\"LSST\")\n",
    "\n",
    "fig.tight_layout()\n",
    "fig.show()"
   ]
  },
  {
   "cell_type": "code",
   "execution_count": null,
   "metadata": {},
   "outputs": [],
   "source": []
  }
 ],
 "metadata": {
  "anaconda-cloud": {},
  "kernelspec": {
   "display_name": "Python 3",
   "language": "python",
   "name": "python3"
  },
  "language_info": {
   "codemirror_mode": {
    "name": "ipython",
    "version": 3
   },
   "file_extension": ".py",
   "mimetype": "text/x-python",
   "name": "python",
   "nbconvert_exporter": "python",
   "pygments_lexer": "ipython3",
   "version": "3.6.2"
  }
 },
 "nbformat": 4,
 "nbformat_minor": 1
}
