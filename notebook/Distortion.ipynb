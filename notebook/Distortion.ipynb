{
 "cells": [
  {
   "cell_type": "code",
   "execution_count": null,
   "metadata": {
    "collapsed": true
   },
   "outputs": [],
   "source": [
    "import jtrace\n",
    "import os\n",
    "import numpy as np\n",
    "from ipywidgets import interact\n",
    "import ipywidgets as widgets\n",
    "import matplotlib.pyplot as plt\n",
    "%matplotlib inline"
   ]
  },
  {
   "cell_type": "code",
   "execution_count": null,
   "metadata": {
    "collapsed": true
   },
   "outputs": [],
   "source": [
    "HSC_fn = os.path.join(jtrace.datadir, \"hsc\", \"HSC.yaml\")\n",
    "HSC_telescope = jtrace.Telescope.makeFromYAML(HSC_fn)"
   ]
  },
  {
   "cell_type": "code",
   "execution_count": null,
   "metadata": {
    "collapsed": true
   },
   "outputs": [],
   "source": [
    "LSST_fn = os.path.join(jtrace.datadir, \"lsst\", \"LSST_r.yaml\")\n",
    "LSST_telescope = jtrace.Telescope.makeFromYAML(LSST_fn)"
   ]
  },
  {
   "cell_type": "code",
   "execution_count": null,
   "metadata": {
    "collapsed": true
   },
   "outputs": [],
   "source": [
    "DECam_fn = os.path.join(jtrace.datadir, \"decam\", \"DECam.yaml\")\n",
    "DECam_telescope = jtrace.Telescope.makeFromYAML(DECam_fn)"
   ]
  },
  {
   "cell_type": "code",
   "execution_count": null,
   "metadata": {
    "collapsed": true
   },
   "outputs": [],
   "source": [
    "def dthdr(telescope, th, pixelSize=15):\n",
    "    rays0 = jtrace.parallelRays(10, 4.1, 0.0, theta_x=th)\n",
    "    rays1 = jtrace.parallelRays(10, 4.1, 0.0, theta_x=th+1e-5)\n",
    "    rays2 = jtrace.parallelRays(10, 4.1, 0.0, theta_x=th, theta_y=1e-5)\n",
    "\n",
    "    traced_rays0 = telescope.trace(rays0)\n",
    "    traced_rays1 = telescope.trace(rays1)\n",
    "    traced_rays2 = telescope.trace(rays2)\n",
    "\n",
    "    traced_rays0 = jtrace.RayVector([r for r in traced_rays0 if not r.isVignetted])\n",
    "    traced_rays1 = jtrace.RayVector([r for r in traced_rays1 if not r.isVignetted])\n",
    "    traced_rays2 = jtrace.RayVector([r for r in traced_rays2 if not r.isVignetted])\n",
    "\n",
    "    drx_dthx = (np.mean(traced_rays1.x) - np.mean(traced_rays0.x))/1e-5 # m / radian\n",
    "    drx_dthx *= 1e6 # micron / radian\n",
    "    drx_dthx /= 206265 # micron / arcsec\n",
    "    drx_dthx /= pixelSize # pixels / arcsec\n",
    "\n",
    "    drx_dthy = (np.mean(traced_rays2.x) - np.mean(traced_rays0.x))/1e-5 # m / radian\n",
    "    drx_dthy *= 1e6 # micron / radian\n",
    "    drx_dthy /= 206265 # micron / arcsec\n",
    "    drx_dthy /= pixelSize # pixels / arcsec\n",
    "\n",
    "    dry_dthx = (np.mean(traced_rays1.y) - np.mean(traced_rays0.y))/1e-5 # m / radian\n",
    "    dry_dthx *= 1e6 # micron / radian\n",
    "    dry_dthx /= 206265 # micron / arcsec\n",
    "    dry_dthx /= pixelSize # pixels / arcsec\n",
    "\n",
    "    dry_dthy = (np.mean(traced_rays2.y) - np.mean(traced_rays0.y))/1e-5 # m / radian\n",
    "    dry_dthy *= 1e6 # micron / radian\n",
    "    dry_dthy /= 206265 # micron / arcsec\n",
    "    dry_dthy /= pixelSize # pixels / arcsec\n",
    "    \n",
    "    dr_dth = np.array([[drx_dthx, dry_dthx], [drx_dthy, dry_dthy]])\n",
    "    dth_dr = np.linalg.inv(dr_dth)\n",
    "\n",
    "    return dth_dr"
   ]
  },
  {
   "cell_type": "code",
   "execution_count": null,
   "metadata": {},
   "outputs": [],
   "source": [
    "dthx_drx = []\n",
    "dthy_dry = []\n",
    "thetas = np.linspace(0.0, 0.75, 10)\n",
    "for th in thetas:\n",
    "    dth_dr = dthdr(HSC_telescope, th*3600/206265)\n",
    "    dthx_drx.append(abs(dth_dr[0,0]))\n",
    "    dthy_dry.append(abs(dth_dr[1,1]))\n",
    "fig, (ax1, ax2) = plt.subplots(ncols=2, figsize=(10, 4))\n",
    "ax1.plot(thetas, dthx_drx, c='b', label='radial')\n",
    "ax1.plot(thetas, dthy_dry, c='r', label='tangential')\n",
    "ax1.set_xlabel('radius (deg)')\n",
    "ax1.set_ylabel('pixel size (arcsec)')\n",
    "ax1.legend(loc='lower left')\n",
    "ax1.set_title(\"HSC\")\n",
    "\n",
    "ax2.plot(thetas, np.array(dthx_drx)/np.array(dthy_dry))\n",
    "ax2.set_xlabel('radius (deg)')\n",
    "ax2.set_ylabel('b/a')\n",
    "ax2.set_title(\"HSC\")\n",
    "\n",
    "fig.tight_layout()\n",
    "fig.show()"
   ]
  },
  {
   "cell_type": "code",
   "execution_count": null,
   "metadata": {},
   "outputs": [],
   "source": [
    "dthx_drx = []\n",
    "dthy_dry = []\n",
    "thetas = np.linspace(0.0, 1.75, 10)\n",
    "for th in thetas:\n",
    "    dth_dr = dthdr(LSST_telescope, th*3600/206265, pixelSize=10)\n",
    "    dthx_drx.append(abs(dth_dr[0,0]))\n",
    "    dthy_dry.append(abs(dth_dr[1,1]))\n",
    "fig, (ax1, ax2) = plt.subplots(ncols=2, figsize=(10, 4))\n",
    "ax1.plot(thetas, dthx_drx, c='b', label='radial')\n",
    "ax1.plot(thetas, dthy_dry, c='r', label='tangential')\n",
    "ax1.set_xlabel('radius (deg)')\n",
    "ax1.set_ylabel('pixel size (arcsec)')\n",
    "ax1.legend(loc='lower left')\n",
    "ax1.set_title(\"LSST\")\n",
    "\n",
    "ax2.plot(thetas, np.array(dthx_drx)/np.array(dthy_dry))\n",
    "ax2.set_xlabel('radius (deg)')\n",
    "ax2.set_ylabel('b/a')\n",
    "ax2.set_title(\"LSST\")\n",
    "\n",
    "fig.tight_layout()\n",
    "fig.show()"
   ]
  },
  {
   "cell_type": "code",
   "execution_count": null,
   "metadata": {},
   "outputs": [],
   "source": [
    "dthx_drx = []\n",
    "dthy_dry = []\n",
    "thetas = np.linspace(0.0, 1.1, 10)\n",
    "for th in thetas:\n",
    "    dth_dr = dthdr(DECam_telescope, th*3600/206265)\n",
    "    dthx_drx.append(abs(dth_dr[0,0]))\n",
    "    dthy_dry.append(abs(dth_dr[1,1]))\n",
    "fig, (ax1, ax2) = plt.subplots(ncols=2, figsize=(10, 4))\n",
    "ax1.plot(thetas, dthx_drx, c='b', label='radial')\n",
    "ax1.plot(thetas, dthy_dry, c='r', label='tangential')\n",
    "ax1.set_xlabel('radius (deg)')\n",
    "ax1.set_ylabel('pixel size (arcsec)')\n",
    "ax1.legend(loc='lower left')\n",
    "ax1.set_title(\"DECam\")\n",
    "\n",
    "ax2.plot(thetas, np.array(dthx_drx)/np.array(dthy_dry))\n",
    "ax2.set_xlabel('radius (deg)')\n",
    "ax2.set_ylabel('b/a')\n",
    "ax2.set_title(\"DECam\")\n",
    "\n",
    "fig.tight_layout()\n",
    "fig.show()"
   ]
  },
  {
   "cell_type": "code",
   "execution_count": null,
   "metadata": {
    "collapsed": true
   },
   "outputs": [],
   "source": []
  }
 ],
 "metadata": {
  "anaconda-cloud": {},
  "kernelspec": {
   "display_name": "Python [default]",
   "language": "python",
   "name": "python3"
  },
  "language_info": {
   "codemirror_mode": {
    "name": "ipython",
    "version": 3
   },
   "file_extension": ".py",
   "mimetype": "text/x-python",
   "name": "python",
   "nbconvert_exporter": "python",
   "pygments_lexer": "ipython3",
   "version": "3.5.2"
  }
 },
 "nbformat": 4,
 "nbformat_minor": 1
}
