{
 "cells": [
  {
   "cell_type": "code",
   "execution_count": null,
   "metadata": {
    "collapsed": true
   },
   "outputs": [],
   "source": [
    "import jtrace\n",
    "import re\n",
    "import numpy as np\n",
    "from ipywidgets import interact\n",
    "import ipywidgets as widgets\n",
    "import matplotlib.pyplot as plt\n",
    "%matplotlib inline"
   ]
  },
  {
   "cell_type": "code",
   "execution_count": null,
   "metadata": {
    "collapsed": true
   },
   "outputs": [],
   "source": [
    "ibandstr = \"\"\"\n",
    "#\n",
    "# Column 0: Name\n",
    "# Column 1: Type\n",
    "# Column 2: Curvature R (mm)\n",
    "# Column 3: Thickness dz (mm)\n",
    "# Column 4: Outer Radius (mm)\n",
    "# Column 5: Inner Radius (mm)\n",
    "# Column 6: Conic Constant Kappa\n",
    "# Column 7 - 14: Aspheric Coefficient a_3 - a_10 (a_n r^n in meters)  #SIC.  THIS IS A LIE!\n",
    "# Column 15: Coating file\n",
    "# Column 16: Medium file\n",
    "#\n",
    "# (0)   (1)     (2)         (3)                 (4)     (5)     (6)     (7) (8) (9) (10)        (11) (12)       (13) (14)    (15)                (16)\n",
    "M1      mirror  19835.0     0.0                 4180.0  2558.0  -1.215  0.0 0.0 0.0 1.381e-27   0.0  0.0        0.0  0.0     m1_protAl_Ideal.txt air\n",
    "M2      mirror  6788.0      6156.2006           1710.0  900.0   -0.222  0.0 0.0 0.0 -1.274e-23  0.0  -9.68e-31  0.0  0.0     m2_protAl_Ideal.txt air\n",
    "M3      mirror  8344.5      -6390.0006          2508.0  550.0   0.155   0.0 0.0 0.0 -4.5e-25    0.0  -8.15e-33  0.0  0.0     m3_protAl_Ideal.txt air\n",
    "none    none    0.0         3630.5              0.0     0.0     0.0     0.0 0.0 0.0 0.0         0.0  0.0        0.0  0.0     none                air\n",
    "L1      lens    2824.0      0.08213412779104    775.0   0.0     0.0     0.0 0.0 0.0 0.0         0.0  0.0        0.0  0.0     lenses.txt          silica_dispersion.txt\n",
    "L1E     lens    5021.0      82.23               775.0   0.0     0.0     0.0 0.0 0.0 0.0         0.0  0.0        0.0  0.0     lenses.txt          air\n",
    "L2      lens    0.0         412.64202           551.0   0.0     0.0     0.0 0.0 0.0 0.0         0.0  0.0        0.0  0.0     lenses.txt          silica_dispersion.txt\n",
    "L2E    \tlens    2529.0      30.0                551.0   0.0     -1.57   0.0 0.0 0.0 1.656e-21   0.0  0.0        0.0  0.0     lenses.txt          air\n",
    "F       filter  5632.0      349.58              375.0   0.0     0.0     0.0 0.0 0.0 0.0         0.0  0.0        0.0  0.0     filter_3.txt        silica_dispersion.txt\n",
    "FE      filter  5623.0      15.70               375.0   0.0     0.0     0.0 0.0 0.0 0.0         0.0  0.0        0.0  0.0     none                air\n",
    "L3      lens    3169.0      53.30               361.0   0.0     -0.962  0.0 0.0 0.0 0.0         0.0  0.0        0.0  0.0     lenses.txt          silica_dispersion.txt\n",
    "L3E     lens    -13360.0    60.0                361.0   0.0     0.0     0.0 0.0 0.0 0.0         0.0  0.0        0.0  0.0     lenses.txt          air\n",
    "D       det     0.0         28.5                400.0   0.0     0.0     0.0 0.0 0.0 0.0         0.0  0.0        0.0  0.0     detectorar.txt      air\n",
    "\"\"\"\n",
    "re.sub(\"\\s+\",\" \", ibandstr)\n",
    "None"
   ]
  },
  {
   "cell_type": "code",
   "execution_count": null,
   "metadata": {
    "collapsed": false
   },
   "outputs": [],
   "source": [
    "telescope = []\n",
    "z = 0.0\n",
    "n0 = 1.000277  # refractive index for air\n",
    "n1 = 1.000277\n",
    "for line in ibandstr.split('\\n'):\n",
    "    if len(line) == 0 : continue\n",
    "    if line[0] == '#': continue\n",
    "    name, typ, R, dz, outer, inner, kappa, a3, a4, a5, a6, a7, a8, a9, a10, coating, medium = line.split()\n",
    "    z += float(dz)/1000\n",
    "    if typ == 'none': continue\n",
    "    n0 = n1\n",
    "    if medium == 'air': \n",
    "        n1 = 1.000277\n",
    "    else:\n",
    "        n1 = 1.4542367  # refractive index of silica at 750 nm\n",
    "    if float(R) == 0:\n",
    "        surface = jtrace.Plane(z)\n",
    "    else:\n",
    "        print(a4, a6, a8)\n",
    "        # Notice the manipulation of the raw aspheric coefficients below.  There's a negative sign missing, \n",
    "        # and also the coefficients are for mm instead of m, so there are factors of 1000^4, ^6, and ^8 missing\n",
    "        # as well.\n",
    "        surface = jtrace.Asphere(float(R)/1000,\n",
    "                                 float(kappa), \n",
    "                                 [-float(a4)*10**(4*3), -float(a6)*10**(6*3), -float(a8)*10**(8*3)],\n",
    "                                 z)\n",
    "    telescope.append(dict(name=name, surface=surface, outer=float(outer)/1000, inner=float(inner)/1000, n0=n0, n1=n1, typ=typ))"
   ]
  },
  {
   "cell_type": "code",
   "execution_count": null,
   "metadata": {
    "collapsed": false
   },
   "outputs": [],
   "source": [
    "for optic in telescope:\n",
    "    print(optic['name'], type(optic['surface']))"
   ]
  },
  {
   "cell_type": "code",
   "execution_count": null,
   "metadata": {
    "collapsed": false
   },
   "outputs": [],
   "source": [
    "plt.figure(figsize=(12, 11))\n",
    "for optic in telescope:\n",
    "    x = np.linspace(-optic['outer'], -optic['inner'], 1000, endpoint=True)\n",
    "    plt.plot(x, [optic['surface'](x_,0) for x_ in x], c='k')\n",
    "    x = np.linspace(optic['inner'], optic['outer'], 1000, endpoint=True)\n",
    "    plt.plot(x, [optic['surface'](x_,0) for x_ in x], c='k')\n",
    "\n",
    "def trace(ray, telescope, color='r'):\n",
    "    r = ray\n",
    "    for optic in telescope:\n",
    "        x0 = r.x0\n",
    "        z0 = r.z0\n",
    "        isec = optic['surface'].intersect(r)\n",
    "        assert abs(isec.point.z - optic['surface'](isec.point.x, isec.point.y)) < 1e-10\n",
    "        if optic['typ'] == 'mirror':\n",
    "            r = isec.reflectedRay(r)\n",
    "        elif optic['typ'] in ['lens', 'filter']:\n",
    "            r = isec.refractedRay(r, optic['n0'], optic['n1'])\n",
    "        x1 = isec.x0\n",
    "        z1 = isec.z0\n",
    "        plt.plot([x0, x1], [z0, z1], c=color)\n",
    "    return isec.point\n",
    "\n",
    "p0_left = jtrace.Vec3(-3.8, 0, 10)\n",
    "p0_right = jtrace.Vec3(3.8, 0, 10)\n",
    "v_left = jtrace.Vec3(-0.025, 0, -1).UnitVec3()/1.000277\n",
    "v_mid = jtrace.Vec3(0, 0, -1).UnitVec3()/1.000277\n",
    "v_right = jtrace.Vec3(0.025, 0, -1).UnitVec3()/1.000277\n",
    "\n",
    "for v, c in zip([v_left, v_mid, v_right], ['r', 'g', 'b']):\n",
    "    for p0 in [p0_left, p0_right]:\n",
    "        ray = jtrace.Ray(p0, v, 0)\n",
    "        print(trace(ray, telescope, color=c))\n",
    "\n",
    "# Uncomment below to zoom in on focal plane\n",
    "# plt.ylim(2.5, 4.5)\n",
    "# plt.xlim(-0.5, 0.5)"
   ]
  },
  {
   "cell_type": "code",
   "execution_count": null,
   "metadata": {
    "collapsed": true
   },
   "outputs": [],
   "source": []
  }
 ],
 "metadata": {
  "anaconda-cloud": {},
  "kernelspec": {
   "display_name": "Python [default]",
   "language": "python",
   "name": "python3"
  },
  "language_info": {
   "codemirror_mode": {
    "name": "ipython",
    "version": 3
   },
   "file_extension": ".py",
   "mimetype": "text/x-python",
   "name": "python",
   "nbconvert_exporter": "python",
   "pygments_lexer": "ipython3",
   "version": "3.5.2"
  }
 },
 "nbformat": 4,
 "nbformat_minor": 1
}
