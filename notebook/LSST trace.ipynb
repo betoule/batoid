{
 "cells": [
  {
   "cell_type": "code",
   "execution_count": null,
   "metadata": {
    "collapsed": true
   },
   "outputs": [],
   "source": [
    "import jtrace\n",
    "import os\n",
    "import numpy as np\n",
    "from ipywidgets import interact\n",
    "import ipywidgets as widgets\n",
    "import matplotlib.pyplot as plt\n",
    "%matplotlib inline"
   ]
  },
  {
   "cell_type": "code",
   "execution_count": null,
   "metadata": {
    "collapsed": true
   },
   "outputs": [],
   "source": [
    "LSST_r_fn = os.path.join(jtrace.datadir, \"LSST\", \"LSST_r.yaml\")\n",
    "telescope = jtrace.Telescope.makeFromYAML(LSST_r_fn)"
   ]
  },
  {
   "cell_type": "code",
   "execution_count": null,
   "metadata": {},
   "outputs": [],
   "source": [
    "for name, surface in telescope.surfaces.items():\n",
    "    print(name, surface['surface'])"
   ]
  },
  {
   "cell_type": "code",
   "execution_count": null,
   "metadata": {},
   "outputs": [],
   "source": [
    "plt.figure(figsize=(12, 11))\n",
    "\n",
    "for surface in telescope.surfaces.values():\n",
    "    x = np.linspace(-surface['outer'], -surface['inner'], 100, endpoint=True)\n",
    "    plt.plot(x, [surface['surface'].sag(x_,0) for x_ in x], c='k')\n",
    "    x = np.linspace(surface['inner'], surface['outer'], 100, endpoint=True)\n",
    "    plt.plot(x, [surface['surface'].sag(x_,0) for x_ in x], c='k')\n",
    "\n",
    "p0_left = jtrace.Vec3(-4.1, 0, 0)\n",
    "p0_right = jtrace.Vec3(4.1, 0, 0)\n",
    "p0_lmid = jtrace.Vec3(-2.9, 0, 0)\n",
    "p0_rmid = jtrace.Vec3(2.9, 0, 0)\n",
    "v_left = jtrace.Vec3(-0.025, 0, -1).UnitVec3()/1.000277\n",
    "v_mid = jtrace.Vec3(0, 0, -1).UnitVec3()/1.000277\n",
    "v_right = jtrace.Vec3(0.025, 0, -1).UnitVec3()/1.000277\n",
    "\n",
    "for v, c in zip([v_left, v_mid, v_right], ['#377eb8', '#ff7f00', '#4daf4a']):\n",
    "    rays = jtrace.RayVector()\n",
    "    for p0 in [p0_left, p0_lmid, p0_rmid, p0_right]:\n",
    "        ray = jtrace.Ray(p0, v, t=0, w=500e-9)\n",
    "        p0 = ray.positionAtTime(-8)        \n",
    "        rays.append(jtrace.Ray(p0, v, t=0, w=500e-9))\n",
    "    trace = telescope.traceFull(rays)\n",
    "    for surface in trace:\n",
    "        for inray, outray in zip(surface['inrays'], surface['outrays']):\n",
    "            plt.plot([inray.x0, outray.x0], [inray.z0, outray.z0], c=c)"
   ]
  },
  {
   "cell_type": "code",
   "execution_count": null,
   "metadata": {},
   "outputs": [],
   "source": [
    "plt.figure(figsize=(12, 11))\n",
    "plt.ylim(2.5, 4.5)\n",
    "plt.xlim(-0.5, 0.5)\n",
    "\n",
    "for surface in telescope.surfaces.values():\n",
    "    x = np.linspace(-surface['outer'], -surface['inner'], 100, endpoint=True)\n",
    "    plt.plot(x, [surface['surface'].sag(x_,0) for x_ in x], c='k')\n",
    "    x = np.linspace(surface['inner'], surface['outer'], 100, endpoint=True)\n",
    "    plt.plot(x, [surface['surface'].sag(x_,0) for x_ in x], c='k')\n",
    "\n",
    "p0_left = jtrace.Vec3(-4.1, 0, 0)\n",
    "p0_right = jtrace.Vec3(4.1, 0, 0)\n",
    "p0_lmid = jtrace.Vec3(-2.9, 0, 0)\n",
    "p0_rmid = jtrace.Vec3(2.9, 0, 0)\n",
    "v_left = jtrace.Vec3(-0.025, 0, -1).UnitVec3()/1.000277\n",
    "v_mid = jtrace.Vec3(0, 0, -1).UnitVec3()/1.000277\n",
    "v_right = jtrace.Vec3(0.025, 0, -1).UnitVec3()/1.000277\n",
    "\n",
    "for v, c in zip([v_left, v_mid, v_right], ['#377eb8', '#ff7f00', '#4daf4a']):\n",
    "    rays = jtrace.RayVector()\n",
    "    for p0 in [p0_left, p0_lmid, p0_rmid, p0_right]:\n",
    "        ray = jtrace.Ray(p0, v, t=0, w=500e-9)\n",
    "        p0 = ray.positionAtTime(-8)        \n",
    "        rays.append(jtrace.Ray(p0, v, t=0, w=500e-9))\n",
    "    trace = telescope.traceFull(rays)\n",
    "    for surface in trace:\n",
    "        for inray, outray in zip(surface['inrays'], surface['outrays']):\n",
    "            plt.plot([inray.x0, outray.x0], [inray.z0, outray.z0], c=c)"
   ]
  },
  {
   "cell_type": "code",
   "execution_count": null,
   "metadata": {
    "collapsed": true
   },
   "outputs": [],
   "source": []
  }
 ],
 "metadata": {
  "anaconda-cloud": {},
  "kernelspec": {
   "display_name": "Python [default]",
   "language": "python",
   "name": "python3"
  },
  "language_info": {
   "codemirror_mode": {
    "name": "ipython",
    "version": 3
   },
   "file_extension": ".py",
   "mimetype": "text/x-python",
   "name": "python",
   "nbconvert_exporter": "python",
   "pygments_lexer": "ipython3",
   "version": "3.5.2"
  }
 },
 "nbformat": 4,
 "nbformat_minor": 1
}
