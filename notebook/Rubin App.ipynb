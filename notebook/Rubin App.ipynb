{
 "cells": [
  {
   "cell_type": "code",
   "execution_count": 1,
   "id": "e7c83916-837b-4ca7-a411-8e134bd07049",
   "metadata": {
    "execution": {
     "iopub.execute_input": "2023-05-26T15:15:40.854062Z",
     "iopub.status.busy": "2023-05-26T15:15:40.853885Z",
     "iopub.status.idle": "2023-05-26T15:15:41.132469Z",
     "shell.execute_reply": "2023-05-26T15:15:41.131888Z",
     "shell.execute_reply.started": "2023-05-26T15:15:40.854045Z"
    },
    "tags": []
   },
   "outputs": [],
   "source": [
    "%load_ext autoreload\n",
    "%autoreload 2\n",
    "\n",
    "%matplotlib widget"
   ]
  },
  {
   "cell_type": "code",
   "execution_count": 2,
   "id": "b6036d43-103d-45ac-a549-630ff8267a85",
   "metadata": {
    "execution": {
     "iopub.execute_input": "2023-05-26T15:15:41.133694Z",
     "iopub.status.busy": "2023-05-26T15:15:41.133403Z",
     "iopub.status.idle": "2023-05-26T15:15:41.853687Z",
     "shell.execute_reply": "2023-05-26T15:15:41.853094Z",
     "shell.execute_reply.started": "2023-05-26T15:15:41.133679Z"
    },
    "tags": []
   },
   "outputs": [],
   "source": [
    "from batoid.app import RubinCSApp"
   ]
  },
  {
   "cell_type": "code",
   "execution_count": 3,
   "id": "29d77914-09b1-4cea-bc82-d236bfbcaba4",
   "metadata": {
    "execution": {
     "iopub.execute_input": "2023-05-26T15:15:41.854541Z",
     "iopub.status.busy": "2023-05-26T15:15:41.854380Z",
     "iopub.status.idle": "2023-05-26T15:15:41.886354Z",
     "shell.execute_reply": "2023-05-26T15:15:41.885935Z",
     "shell.execute_reply.started": "2023-05-26T15:15:41.854526Z"
    },
    "tags": []
   },
   "outputs": [],
   "source": [
    "import ipywidgets\n",
    "debug = ipywidgets.Output()\n",
    "# debug"
   ]
  },
  {
   "cell_type": "code",
   "execution_count": 4,
   "id": "1e6e78e5-008a-483d-a090-efbb26de26a1",
   "metadata": {
    "execution": {
     "iopub.execute_input": "2023-05-26T15:15:41.887616Z",
     "iopub.status.busy": "2023-05-26T15:15:41.887472Z",
     "iopub.status.idle": "2023-05-26T15:15:42.510814Z",
     "shell.execute_reply": "2023-05-26T15:15:42.510325Z",
     "shell.execute_reply.started": "2023-05-26T15:15:41.887603Z"
    },
    "tags": []
   },
   "outputs": [
    {
     "data": {
      "application/vnd.jupyter.widget-view+json": {
       "model_id": "20f803b30cbf456bbca2543f7fc62919",
       "version_major": 2,
       "version_minor": 0
      },
      "text/plain": [
       "HBox(children=(Output(), Figure(animation=100.0, box_center=[0.5, 0.5, 0.5], box_size=[1.0, 1.0, 1.0], camera=…"
      ]
     },
     "metadata": {},
     "output_type": "display_data"
    }
   ],
   "source": [
    "# Run cell twice to get rid of ipv box\n",
    "# cyan = x, magenta = y, yellow = z\n",
    "app = RubinCSApp(debug=debug)\n",
    "app.display()"
   ]
  },
  {
   "cell_type": "code",
   "execution_count": null,
   "id": "fe118d1b-a3ec-4d21-8cb7-a5b96770a718",
   "metadata": {},
   "outputs": [],
   "source": []
  }
 ],
 "metadata": {
  "kernelspec": {
   "display_name": "LSST",
   "language": "python",
   "name": "lsst"
  },
  "language_info": {
   "codemirror_mode": {
    "name": "ipython",
    "version": 3
   },
   "file_extension": ".py",
   "mimetype": "text/x-python",
   "name": "python",
   "nbconvert_exporter": "python",
   "pygments_lexer": "ipython3",
   "version": "3.10.10"
  }
 },
 "nbformat": 4,
 "nbformat_minor": 5
}
