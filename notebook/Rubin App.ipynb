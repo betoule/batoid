{
 "cells": [
  {
   "cell_type": "code",
   "execution_count": 1,
   "id": "e7c83916-837b-4ca7-a411-8e134bd07049",
   "metadata": {
    "execution": {
     "iopub.execute_input": "2022-06-06T11:06:41.173063Z",
     "iopub.status.busy": "2022-06-06T11:06:41.172821Z",
     "iopub.status.idle": "2022-06-06T11:06:41.549516Z",
     "shell.execute_reply": "2022-06-06T11:06:41.549102Z",
     "shell.execute_reply.started": "2022-06-06T11:06:41.173008Z"
    },
    "tags": []
   },
   "outputs": [],
   "source": [
    "%load_ext autoreload\n",
    "%autoreload 2\n",
    "\n",
    "%matplotlib widget"
   ]
  },
  {
   "cell_type": "code",
   "execution_count": 2,
   "id": "b6036d43-103d-45ac-a549-630ff8267a85",
   "metadata": {
    "execution": {
     "iopub.execute_input": "2022-06-06T11:06:41.550586Z",
     "iopub.status.busy": "2022-06-06T11:06:41.550466Z",
     "iopub.status.idle": "2022-06-06T11:06:42.264902Z",
     "shell.execute_reply": "2022-06-06T11:06:42.264575Z",
     "shell.execute_reply.started": "2022-06-06T11:06:41.550577Z"
    },
    "tags": []
   },
   "outputs": [],
   "source": [
    "from batoid.app import RubinCSApp\n",
    "import ipywidgets"
   ]
  },
  {
   "cell_type": "code",
   "execution_count": 4,
   "id": "1e6e78e5-008a-483d-a090-efbb26de26a1",
   "metadata": {
    "execution": {
     "iopub.execute_input": "2022-06-06T11:06:59.579237Z",
     "iopub.status.busy": "2022-06-06T11:06:59.578370Z",
     "iopub.status.idle": "2022-06-06T11:07:00.045647Z",
     "shell.execute_reply": "2022-06-06T11:07:00.045313Z",
     "shell.execute_reply.started": "2022-06-06T11:06:59.579195Z"
    },
    "tags": []
   },
   "outputs": [
    {
     "data": {
      "application/vnd.jupyter.widget-view+json": {
       "model_id": "3bcb0ebdf9cb4deeb41c470a04dd9170",
       "version_major": 2,
       "version_minor": 0
      },
      "text/plain": [
       "HBox(children=(Output(), Figure(animation=100.0, camera=PerspectiveCamera(far=100000.0, fov=45.0, near=0.01, p…"
      ]
     },
     "metadata": {},
     "output_type": "display_data"
    }
   ],
   "source": [
    "app = RubinCSApp()\n",
    "app.display()"
   ]
  },
  {
   "cell_type": "code",
   "execution_count": null,
   "id": "fe118d1b-a3ec-4d21-8cb7-a5b96770a718",
   "metadata": {},
   "outputs": [],
   "source": []
  }
 ],
 "metadata": {
  "kernelspec": {
   "display_name": "Python 3 (ipykernel)",
   "language": "python",
   "name": "python3"
  },
  "language_info": {
   "codemirror_mode": {
    "name": "ipython",
    "version": 3
   },
   "file_extension": ".py",
   "mimetype": "text/x-python",
   "name": "python",
   "nbconvert_exporter": "python",
   "pygments_lexer": "ipython3",
   "version": "3.10.4"
  }
 },
 "nbformat": 4,
 "nbformat_minor": 5
}
