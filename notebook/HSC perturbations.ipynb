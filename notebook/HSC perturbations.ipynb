{
 "cells": [
  {
   "cell_type": "code",
   "execution_count": null,
   "metadata": {
    "collapsed": true
   },
   "outputs": [],
   "source": [
    "import jtrace\n",
    "import re\n",
    "import numpy as np\n",
    "from ipywidgets import interact\n",
    "import ipywidgets as widgets\n",
    "import matplotlib.pyplot as plt\n",
    "%matplotlib inline"
   ]
  },
  {
   "cell_type": "code",
   "execution_count": null,
   "metadata": {
    "collapsed": true
   },
   "outputs": [],
   "source": [
    "hsc = \"\"\"\n",
    "#\n",
    "# Column 0: Name\n",
    "# Column 1: Type\n",
    "# Column 2: Curvature R (mm)\n",
    "# Column 3: Thickness dz (mm)\n",
    "# Column 4: Outer Radius (mm)\n",
    "# Column 5: Inner Radius (mm)\n",
    "# Column 6: Conic Constant Kappa\n",
    "# Column 7 - 20: Aspheric Coefficient a_3 - a_16 (a_n r^n in meters)\n",
    "# Column 15: Coating file\n",
    "# Column 16: Medium file\n",
    "# (0)    (1)               (2)                (3)            (4) (5)      (6) (7) (8)                 (9) (10)                (11) (12)                (13) (14)                (15)                 (16) (17) (18)                (19) (20)                (21) (22)\n",
    "PM    mirror 30000.0             0.0              4100.0         0.0 -1.00835 0.0 0.0                 0.0  0.0                 0.0  0.0                 0.0  0.0                 0.0  0.0                  0.0  0.0                 0.0  0.0                 ---  air\n",
    "G1    lens     760.0             13456.4          410.0          0.0 0.0      0.0 0.0                 0.0  0.0                 0.0  0.0                 0.0  0.0                 0.0  0.0                  0.0  0.0                 0.0  0.0                 ---  silica\n",
    "G1E   lens    1375.5             97.18            402.20143728   0.0 0.0      0.0 -1.497488783073E-10 0.0  -7.579068214673E-17 0.0  -7.705293869522E-22 0.0  1.026626319251E-26  0.0  -7.078826218129E-32  0.0  2.559600617806E-37  0.0  -3.761551480578E-43 ---  air\n",
    "G2    lens   -3530.0             372.85           307.5181146466 0.0 0.0      0.0 6.914718060975E-11  0.0  6.03728126364E-16   0.0  -1.532623173462E-20 0.0  3.618110894954E-25  0.0  -4.741677881169E-30  0.0  3.217309071692E-35  0.0  -8.85987809163E-41  ---  bsl7y\n",
    "G2E   lens   656.2498974113356   46.0             286.5165285897 0.0 0.0      0.0 0.0                 0.0  0.0                 0.0  0.0                 0.0  0.0                 0.0  0.0                  0.0  0.0                 0.0  0.0                 ---  air\n",
    "ADC1  lens   0.0                 318.0            282.794660157  0.0 0.0      0.0 0.0                 0.0  0.0                 0.0  0.0                 0.0  0.0                 0.0  0.0                  0.0  0.0                 0.0  0.0                 ---  bsl7y\n",
    "ADC1E lens   1058.0              40.0             282.0282677958 0.0 0.0      0.0 0.0                 0.0  0.0                 0.0  0.0                 0.0  0.0                 0.0  0.0                  0.0  0.0                 0.0  0.0                 ---  air\n",
    "ADC2  lens   1040.0              3.0              282.5217682803 0.0 0.0      0.0 0.0                 0.0  0.0                 0.0  0.0                 0.0  0.0                 0.0  0.0                  0.0  0.0                 0.0  0.0                 ---  pbl1y\n",
    "ADC2E lens   0.0                 82.0             281.8065578377 0.0 0.0      0.0 0.0                 0.0  0.0                 0.0  0.0                 0.0  0.0                 0.0  0.0                  0.0  0.0                 0.0  0.0                 ---  air\n",
    "G3    lens   -840.000170144847   274.3            275.8409560694 0.0 0.0      0.0 2.768476102307E-9   0.0  -4.855642009259E-14 0.0  7.176113272766E-19  0.0  -1.076370261452E-23 0.0  1.18744321781E-28    0.0  -7.983821197395E-34 0.0  2.393556961408E-39  ---  pbl1y\n",
    "G3E   lens   9800.0              40.0             283.8358237172 0.0 0.0      0.0 0.0                 0.0  0.0                 0.0  0.0                 0.0  0.0                 0.0  0.0                  0.0  0.0                 0.0  0.0                 ---  air\n",
    "G4    lens   480.0               90.0             314.0          0.0 0.0      0.0 -4.355533915492E-9  0.0  3.635867914913E-14  0.0  -5.951267151922E-19 0.0  7.658839741989E-24  0.0  -7.194120343205E-29  0.0  3.942820924898E-34  0.0  -9.54342843455E-40  ---  bsl7y\n",
    "G4E   lens   4021.7590211374127  102.0            314.0          0.0 0.0      0.0 0.0                 0.0  0.0                 0.0  0.0                 0.0  0.0                 0.0  0.0                  0.0  0.0                 0.0  0.0                 ---  air\n",
    "G5    lens   4176.748363640779   100.2            314.0          0.0 0.0      0.0 0.0                 0.0  0.0                 0.0  0.0                 0.0  0.0                 0.0  0.0                  0.0  0.0                 0.0  0.0                 ---  silica\n",
    "G5E   lens   -1272.8222984309575 88.0             308.0          0.0 0.0      0.0 -1.064687616564E-9  0.0  3.377750239208E-15  0.0  -1.1026471335E-19   0.0  2.282368582236E-24  0.0  -2.743039658171E-29  0.0  1.755771152898E-34  0.0  -4.821949608578E-40 ---  air\n",
    "F     filter 0.0                 90.04125645151   269.5068874933 0.0 0.0      0.0 0.0                 0.0  0.0                 0.0  0.0                 0.0  0.0                 0.0  0.0                  0.0  0.0                 0.0  0.0                 ---  silica\n",
    "FE    filter 0.0                 15.0             266.8394944827 0.0 0.0      0.0 0.0                 0.0  0.0                 0.0  0.0                 0.0  0.0                 0.0  0.0                  0.0  0.0                 0.0  0.0                 ---  air\n",
    "W     lens   0.0                 32.5             258.2205358629 0.0 0.0      0.0 0.0                 0.0  0.0                 0.0  0.0                 0.0  0.0                 0.0  0.0                  0.0  0.0                 0.0  0.0                 ---  silica\n",
    "WE    lens   0.0                 37.0             251.6409664366 0.0 0.0      0.0 0.0                 0.0  0.0                 0.0  0.0                 0.0  0.0                 0.0  0.0                  0.0  0.0                 0.0  0.0                 ---  air\n",
    "D     det    0.0                 15.0             247.6837392465 0.0 0.0      0.0 0.0                 0.0  0.0                 0.0  0.0                 0.0  0.0                 0.0  0.0                  0.0  0.0                 0.0  0.0                 ---  ---\n",
    "\"\"\"\n",
    "re.sub(\"\\s+\",\" \", hsc)\n",
    "None"
   ]
  },
  {
   "cell_type": "code",
   "execution_count": null,
   "metadata": {
    "collapsed": true
   },
   "outputs": [],
   "source": [
    "bsl7y = jtrace.ConstMedium(1.50939738)\n",
    "silica = jtrace.ConstMedium(1.45172729)\n",
    "pbl1y = jtrace.ConstMedium(1.53789058)\n",
    "air = jtrace.ConstMedium(1.0)"
   ]
  },
  {
   "cell_type": "code",
   "execution_count": null,
   "metadata": {},
   "outputs": [],
   "source": [
    "def rays(theta_x, theta_y, wavelength):\n",
    "    # Point towards (0,0,0), but at an angle.  Need to determine pupil locations.\n",
    "    rs = np.linspace(telescope[0]['inner'], telescope[0]['outer'], 40)\n",
    "    # The above works if theta is 0.\n",
    "    # If theta is not zero, then need to shift the rays depending on how far away their origins are.\n",
    "    # We'll set the z-origin of the rays to be 25 meters above the M1 vertex.\n",
    "    z = 25\n",
    "    dx = z * np.tan(theta_x)\n",
    "    dy = z * np.tan(theta_y)\n",
    "    rays_ = []\n",
    "    for r in rs:        \n",
    "        phis = np.linspace(0, 2*np.pi, int(256*r/telescope[0]['outer']), endpoint=False)\n",
    "        for phi in phis:\n",
    "            rays_.append(\n",
    "                jtrace.Ray(jtrace.Vec3(r*np.cos(phi)+dx, r*np.sin(phi)+dy, z),\n",
    "                           jtrace.Vec3(-np.tan(theta_x), -np.tan(theta_y), -1).UnitVec3()/air.getN(wavelength),\n",
    "                           0, wavelength))\n",
    "    return rays_"
   ]
  },
  {
   "cell_type": "code",
   "execution_count": null,
   "metadata": {},
   "outputs": [],
   "source": [
    "def traceMany(rays, telescope):\n",
    "    rs = jtrace.RayVector(rays)\n",
    "    for optic in telescope:\n",
    "        isecs = optic['surface'].intersect(rs)\n",
    "        if optic['typ'] == 'mirror':\n",
    "            rs = jtrace._jtrace.reflectMany(isecs, rs)\n",
    "        elif optic['typ'] in ['lens', 'filter']:\n",
    "            rs = jtrace._jtrace.refractMany(isecs, rs, optic['m0'], optic['m1'])\n",
    "    return rs, isecs\n",
    "\n",
    "def perturb(PM_dx=0, PM_dy=0, \n",
    "            cam_dx=0, cam_dy=0, cam_dz=0):\n",
    "    telescope = []\n",
    "    z = 0.0\n",
    "    m0 = air\n",
    "    m1 = silica\n",
    "    for line in hsc.split('\\n'):\n",
    "        if len(line) == 0 : continue\n",
    "        if line[0] == '#': continue\n",
    "        name, typ, R, dz, outer, inner, kappa, a3, a4, a5, a6, a7, a8, a9, a10, a11, a12, a13, a14, a15, a16, coating, medium = line.split()\n",
    "        z += float(dz)/1000\n",
    "        if typ == 'none': continue\n",
    "        m0 = m1\n",
    "        if medium == 'air': \n",
    "            m1 = air\n",
    "        elif medium == 'pbl1y':\n",
    "            m1 = pbl1y\n",
    "        elif medium == 'bsl7y':\n",
    "            m1 = bsl7y\n",
    "        elif medium == 'silica':\n",
    "            m1 = silica\n",
    "        elif medium == '---':\n",
    "            pass\n",
    "        else:\n",
    "            raise ValueError(\"Unknown medium {}\".format(medium))\n",
    "\n",
    "        if float(R) == 0:\n",
    "            surface = jtrace.Plane(z, float(inner)/1000, float(outer)/1000)\n",
    "        else:\n",
    "            # Notice the manipulation of the raw aspheric coefficients below.  There's a negative sign missing, \n",
    "            # and also the coefficients are for mm instead of m, so there are factors of 1000^4, ^6, and ^8 \n",
    "            # missing as well.  Actually, the factors or 1000^(4-1), ^(6-1), ^(8-1) for some weird reason.  It's \n",
    "            # like the zemax crowd just changed the coefficients from m to mm by multiplying by 1000 instead of\n",
    "            # 1000 to the appropriate power.  Weird.\n",
    "            alpha = [np.double(a)*10**(3*(i-1)) \n",
    "                     for a, i in zip([a4, a6, a8, a10, a12, a14, a16],\n",
    "                                     [4, 6, 8, 10, 12, 14, 16])]\n",
    "            if all(a == 0.0 for a in alpha):\n",
    "                surface = jtrace.Quadric(float(R)/1000, float(kappa), z, \n",
    "                                         float(inner)/1000, float(outer)/1000)\n",
    "            else:\n",
    "                surface = jtrace.Asphere(float(R)/1000, float(kappa), alpha, z,\n",
    "                                         float(inner)/1000, float(outer)/1000)\n",
    "        if name == 'PM':\n",
    "            surface = surface.shift(PM_dx, PM_dy, 0)\n",
    "        else:\n",
    "            surface = surface.shift(cam_dx, cam_dy, cam_dz)\n",
    "        telescope.append(dict(name=name, surface=surface, \n",
    "                         outer=float(outer)/1000, inner=float(inner)/1000, \n",
    "                         m0=m0, m1=m1, typ=typ))\n",
    "    return telescope\n",
    "telescope = perturb()"
   ]
  },
  {
   "cell_type": "code",
   "execution_count": null,
   "metadata": {},
   "outputs": [],
   "source": [
    "@interact(wavelen=widgets.FloatSlider(min=300.0,max=1200.0,step=10.0,value=620.0),\n",
    "          theta_x=widgets.FloatSlider(min=-0.75,max=0.75,step=0.01,value=-0.40),\n",
    "          theta_y=widgets.FloatSlider(min=-0.75,max=0.75,step=0.01,value=0.0),\n",
    "          PM_dx=widgets.FloatSlider(min=-1.0, max=1.0, step=0.01, value=0.00),\n",
    "          PM_dy=widgets.FloatSlider(min=-1.0, max=1.0, step=0.01, value=0.0),\n",
    "          cam_dx=widgets.FloatSlider(min=-1.0, max=1.0, step=0.01, value=0.0),\n",
    "          cam_dy=widgets.FloatSlider(min=-1.0, max=1.0, step=0.01, value=0.0),\n",
    "          cam_dz=widgets.FloatSlider(min=-10, max=10, step=0.01, value=0.0),\n",
    "          logscale=widgets.FloatSlider(min=1.2, max=3, step=0.1, value=1.2))\n",
    "def spot(wavelen, theta_x, theta_y, PM_dx, PM_dy, cam_dx, cam_dy, cam_dz, logscale):\n",
    "    \"\"\"Display a spot diagram for LSST.\n",
    "\n",
    "    @param wavelen  Wavelength in nm\n",
    "    @param theta_x  Field angle in degrees\n",
    "    @param theta_y  Field angle in degrees\n",
    "    @param PM_dx    Primary mirror x decenter in mm\n",
    "    @param PM_dy    Primary mirror y decenter \n",
    "    @param cam_dx   Camera x decenter in mm\n",
    "    @param cam_dy   Camera y decenter in mm\n",
    "    @param cam_dz   Camera z despace in mm\n",
    "    @param logscale Logarithmic axes zoom level\n",
    "    \"\"\"\n",
    "    telescope = perturb(PM_dx*1e-3, PM_dy*1e-3, \n",
    "                        cam_dx*1e-3, cam_dy*1e-3, cam_dz*1e-3)\n",
    "    rs, isecs = traceMany(rays(theta_x*np.pi/180, theta_y*np.pi/180, wavelen/1000), telescope)\n",
    "    spots = [(isec.x0, isec.y0) for isec, ray in zip(isecs, rs) if not ray.isVignetted]\n",
    "    spots = np.array(spots)\n",
    "    spots -= np.mean(spots, axis=0)\n",
    "    spots *= 1e6 # meters -> microns\n",
    "    print(np.mean(spots, axis=0), np.std(spots, axis=0))\n",
    "    plt.figure(figsize=(4.5,4))\n",
    "    plt.scatter(spots[:,0], spots[:,1], s=1, alpha=0.2)\n",
    "    plt.xlim(-10**logscale, 10**logscale)\n",
    "    plt.ylim(-10**logscale, 10**logscale)\n",
    "    plt.title(r\"$\\theta_x = {:4.2f}\\,,\\theta_y = {:4.2f}$\".format(theta_x, theta_y))\n",
    "    plt.xlabel(\"microns\")\n",
    "    plt.ylabel(\"microns\")"
   ]
  },
  {
   "cell_type": "code",
   "execution_count": null,
   "metadata": {
    "collapsed": true
   },
   "outputs": [],
   "source": [
    "#  http://stackoverflow.com/a/18968498\n",
    "def planeFit(points):\n",
    "    \"\"\"\n",
    "    p, n = planeFit(points)\n",
    "\n",
    "    Given an array, points, of shape (d,...)\n",
    "    representing points in d-dimensional space,\n",
    "    fit an d-dimensional plane to the points.\n",
    "    Return a point, p, on the plane (the point-cloud centroid),\n",
    "    and the normal, n.\n",
    "    \"\"\"\n",
    "    from numpy.linalg import svd\n",
    "    points = np.reshape(points, (np.shape(points)[0], -1)) # Collapse trialing dimensions\n",
    "    ctr = points.mean(axis=1)\n",
    "    x = points - ctr[:,np.newaxis]\n",
    "    M = np.dot(x, x.T) # Could also use np.cov(x) here.\n",
    "    return ctr, svd(M)[0][:,-1]"
   ]
  },
  {
   "cell_type": "code",
   "execution_count": null,
   "metadata": {},
   "outputs": [],
   "source": [
    "@interact(wavelen=widgets.FloatSlider(min=300.0,max=1200.0,step=10.0,value=620.0),\n",
    "          theta_x=widgets.FloatSlider(min=-0.75,max=0.75,step=0.01,value=-0.40),\n",
    "          theta_y=widgets.FloatSlider(min=-0.75,max=0.75,step=0.01,value=0.0),\n",
    "          PM_dx=widgets.FloatSlider(min=-1.0, max=1.0, step=0.01, value=0.00),\n",
    "          PM_dy=widgets.FloatSlider(min=-1.0, max=1.0, step=0.01, value=0.0),\n",
    "          cam_dx=widgets.FloatSlider(min=-1.0, max=1.0, step=0.01, value=0.0),\n",
    "          cam_dy=widgets.FloatSlider(min=-1.0, max=1.0, step=0.01, value=0.0),\n",
    "          cam_dz=widgets.FloatSlider(min=-10, max=10, step=0.01, value=0.0),\n",
    "          logscale=widgets.FloatSlider(min=-6, max=-4, step=0.1, value=-5.5))\n",
    "def opd(wavelen, theta_x, theta_y, PM_dx, PM_dy, cam_dx, cam_dy, cam_dz, logscale):\n",
    "    \"\"\"Display optical path differences\n",
    "\n",
    "    @param wavelen  Wavelength in nm\n",
    "    @param theta_x  Field angle in degrees\n",
    "    @param theta_y  Field angle in degrees\n",
    "    @param PM_dx    Primary mirror x decenter in mm\n",
    "    @param PM_dy    Primary mirror y decenter in mm\n",
    "    @param cam_dx   Camera x decenter in mm\n",
    "    @param cam_dy   Camera y decenter in mm\n",
    "    @param cam_dz   Camera z despace in mm\n",
    "    @param logscale Logarithmic colorbar zoom level\n",
    "    \"\"\"\n",
    "    telescope = perturb(PM_dx*1e-3, PM_dy*1e-3, \n",
    "                        cam_dx*1e-3, cam_dy*1e-3, cam_dz*1e-3)\n",
    "    rs, isecs = traceMany(rays(theta_x*np.pi/180, theta_y*np.pi/180, wavelen), telescope)\n",
    "    theta_opd = [(r.v.x, r.v.y, isec.t) for r, isec in zip(rs, isecs) if not r.isVignetted]\n",
    "    theta_opd = np.array(theta_opd)\n",
    "    opd = theta_opd[:,2]\n",
    "    opd[:] -= np.mean(opd)\n",
    "    x = theta_opd[:,0]\n",
    "    y = theta_opd[:,1]\n",
    "    p, n = planeFit(theta_opd[::10,:].T)\n",
    "    const = np.dot(p, n)\n",
    "    opd[:] -= (const-n[0]*x-n[1]*y)/n[2]\n",
    "    plt.figure(figsize=(5.3,4))\n",
    "    plt.scatter(x, y, c=opd, s=5, vmin=-10**logscale, vmax=10**logscale)\n",
    "    plt.xlim(-0.4, 0.4)\n",
    "    plt.ylim(-0.4, 0.4)\n",
    "    plt.axhline(0.0, c='k')\n",
    "    plt.axvline(0.0, c='k')\n",
    "    plt.xlabel(\"vx\")\n",
    "    plt.ylabel(\"vy\")\n",
    "    plt.colorbar()"
   ]
  },
  {
   "cell_type": "code",
   "execution_count": null,
   "metadata": {
    "collapsed": true
   },
   "outputs": [],
   "source": [
    "\n",
    "\n",
    "\n",
    "\n",
    "\n",
    "\n",
    "\n",
    "\n",
    "\n",
    "\n",
    "\n",
    "\n",
    "\n",
    "\n",
    "\n",
    "\n",
    "\n",
    "\n",
    "\n",
    "\n",
    "\n",
    "\n",
    "\n",
    "\n"
   ]
  }
 ],
 "metadata": {
  "anaconda-cloud": {},
  "kernelspec": {
   "display_name": "Python [default]",
   "language": "python",
   "name": "python3"
  },
  "language_info": {
   "codemirror_mode": {
    "name": "ipython",
    "version": 3
   },
   "file_extension": ".py",
   "mimetype": "text/x-python",
   "name": "python",
   "nbconvert_exporter": "python",
   "pygments_lexer": "ipython3",
   "version": "3.5.2"
  },
  "widgets": {
   "state": {
    "2b3f566d970b4bbea3abc0adf58b1ea5": {
     "views": [
      {
       "cell_index": 5
      }
     ]
    },
    "5a1eb2c6728442c29b5da302d8b7e0de": {
     "views": [
      {
       "cell_index": 7
      }
     ]
    }
   },
   "version": "1.2.0"
  }
 },
 "nbformat": 4,
 "nbformat_minor": 1
}
