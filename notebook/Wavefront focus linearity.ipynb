{
 "cells": [
  {
   "cell_type": "code",
   "execution_count": null,
   "metadata": {},
   "outputs": [],
   "source": [
    "import batoid\n",
    "import os\n",
    "import yaml\n",
    "import numpy as np\n",
    "from ipywidgets import interact\n",
    "import ipywidgets as widgets\n",
    "import matplotlib.pyplot as plt\n",
    "%matplotlib inline"
   ]
  },
  {
   "cell_type": "code",
   "execution_count": null,
   "metadata": {},
   "outputs": [],
   "source": [
    "filename = os.path.join(batoid.datadir, 'hsc', 'HSC3.yaml')\n",
    "config = yaml.load(open(filename))\n",
    "HSC_telescope = batoid.parse.parse_optic(config['opticalSystem'])"
   ]
  },
  {
   "cell_type": "code",
   "execution_count": null,
   "metadata": {},
   "outputs": [],
   "source": [
    "theta_y = -0.7\n",
    "nx = 128\n",
    "\n",
    "wfs = []\n",
    "dzs = np.linspace(-900e-6, 900e-6, 7)\n",
    "\n",
    "for dz in dzs:\n",
    "    telescope = HSC_telescope.withGloballyShiftedOptic('SubaruHSC.HSC', [0,0,dz])\n",
    "    telescope.dist = 20.0\n",
    "    telescope.pupil_size = 8.3\n",
    "    telescope.sphereRadius = 10.0\n",
    "    wf = batoid.wavefront(telescope, 750e-9, 0, theta_y, nx=nx).reshape(nx, nx)\n",
    "    wfs.append(wf)\n",
    "for i in np.random.randint(low=0, high=127, size=10):\n",
    "    for j in np.random.randint(low=0, high=127, size=10):\n",
    "        if wfs[0].mask[i, j]: \n",
    "            continue\n",
    "        plt.scatter(dzs, [wf[i, j] for wf in wfs])\n",
    "        plt.plot(dzs, [wf[i, j] for wf in wfs])\n",
    "plt.xlim(-0.001, 0.001)\n",
    "pass"
   ]
  },
  {
   "cell_type": "code",
   "execution_count": null,
   "metadata": {},
   "outputs": [],
   "source": []
  }
 ],
 "metadata": {
  "anaconda-cloud": {},
  "kernelspec": {
   "display_name": "Python 3",
   "language": "python",
   "name": "python3"
  },
  "language_info": {
   "codemirror_mode": {
    "name": "ipython",
    "version": 3
   },
   "file_extension": ".py",
   "mimetype": "text/x-python",
   "name": "python",
   "nbconvert_exporter": "python",
   "pygments_lexer": "ipython3",
   "version": "3.6.2"
  }
 },
 "nbformat": 4,
 "nbformat_minor": 1
}
