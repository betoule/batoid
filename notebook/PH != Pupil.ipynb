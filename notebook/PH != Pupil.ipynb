{
 "cells": [
  {
   "cell_type": "code",
   "execution_count": null,
   "metadata": {
    "ExecuteTime": {
     "end_time": "2019-04-25T17:54:15.728523Z",
     "start_time": "2019-04-25T17:54:15.410525Z"
    }
   },
   "outputs": [],
   "source": [
    "import batoid\n",
    "import os\n",
    "import yaml\n",
    "import numpy as np\n",
    "import matplotlib.pyplot as plt\n",
    "%matplotlib inline"
   ]
  },
  {
   "cell_type": "code",
   "execution_count": null,
   "metadata": {
    "ExecuteTime": {
     "end_time": "2019-04-25T17:54:16.298244Z",
     "start_time": "2019-04-25T17:54:16.209131Z"
    }
   },
   "outputs": [],
   "source": [
    "HSC_fn = os.path.join(batoid.datadir, \"HSC\", \"HSC.yaml\")\n",
    "config = yaml.safe_load(open(HSC_fn))\n",
    "telescope = batoid.parse.parse_optic(config['opticalSystem'])"
   ]
  },
  {
   "cell_type": "code",
   "execution_count": null,
   "metadata": {
    "ExecuteTime": {
     "end_time": "2019-04-25T18:03:35.647415Z",
     "start_time": "2019-04-25T18:03:35.630331Z"
    }
   },
   "outputs": [],
   "source": [
    "def pupil(thx, thy, nside=512):\n",
    "    xcos, ycos, zcos = batoid.utils.gnomicToDirCos(thx, thy)\n",
    "    rays = batoid.rayGrid(20, 10, xcos, ycos, -zcos, nside=nside, \n",
    "                          wavelength=600e-9, flux=1.0, medium=batoid.ConstMedium(1.0))\n",
    "    tf = telescope.traceFull(rays)\n",
    "    w = np.logical_not(tf[-1]['out'].vignetted)\n",
    "    # Project to pupil plane\n",
    "    p = batoid.Plane()\n",
    "    p.intersectInPlace(tf[0]['in'])\n",
    "    return tf[0]['in'].x[w], tf[0]['in'].y[w]"
   ]
  },
  {
   "cell_type": "code",
   "execution_count": null,
   "metadata": {
    "ExecuteTime": {
     "end_time": "2019-04-25T18:03:36.973410Z",
     "start_time": "2019-04-25T18:03:36.102865Z"
    },
    "scrolled": false
   },
   "outputs": [],
   "source": [
    "fig = plt.figure(figsize=(12, 12))\n",
    "ax = fig.add_subplot(111)\n",
    "ax.scatter(*pupil(np.deg2rad(0.75),0), s=0.1)\n",
    "ax.set_xlim(-4.2, 4.2)\n",
    "ax.set_ylim(-4.2, 4.2)\n",
    "ax.set_aspect(1)\n",
    "fig.show()"
   ]
  },
  {
   "cell_type": "code",
   "execution_count": null,
   "metadata": {
    "ExecuteTime": {
     "end_time": "2019-04-25T18:03:59.848204Z",
     "start_time": "2019-04-25T18:03:59.831185Z"
    }
   },
   "outputs": [],
   "source": [
    "def spanRange(x, nside=512):\n",
    "    xmin, xmax = np.min(x), np.max(x)\n",
    "    xspan = xmax - xmin\n",
    "    xmin = xmin - 0.8*xspan\n",
    "    xmax = xmax + 0.8*xspan\n",
    "    return np.linspace(xmin, xmax, nside)"
   ]
  },
  {
   "cell_type": "code",
   "execution_count": null,
   "metadata": {
    "ExecuteTime": {
     "end_time": "2019-04-25T18:07:06.321545Z",
     "start_time": "2019-04-25T18:07:06.299243Z"
    }
   },
   "outputs": [],
   "source": [
    "def pinhole(thx, thy, nside=256):\n",
    "    xcos, ycos, zcos = batoid.utils.gnomicToDirCos(thx, thy)\n",
    "    # reset skips\n",
    "    for item in telescope.itemDict.keys():\n",
    "        telescope.itemDict[item].skip = False\n",
    "\n",
    "    # First, need to determine where on the filter to constrain rays.  We'll use the average position of the \n",
    "    # pupil beam that would have intersected the filter.\n",
    "    rays = batoid.rayGrid(20, 10, xcos, ycos, -zcos, nside=nside, \n",
    "                          wavelength=600e-9, flux=1.0, medium=batoid.ConstMedium(1.0))\n",
    "    tf = telescope.traceFull(rays)\n",
    "    surface = tf[[s['name'] for s in tf].index('F_entrance')]\n",
    "    rs = surface['out'].trimVignetted()\n",
    "    xmean, ymean = np.mean(rs.x), np.mean(rs.y)\n",
    "    # Now we need to generate a bunch of rays that all pass through the above part of the filter, but over \n",
    "    # a range of angles.\n",
    "    # What is the range of angles for the pupil beam?  \n",
    "    vx = spanRange(rs.vx, nside=nside)\n",
    "    vy = spanRange(rs.vy, nside=nside)\n",
    "    vx, vy = np.meshgrid(vx, vy)\n",
    "    vz = np.sqrt(1-vx*vx+vy*vy)\n",
    "    # Now need to make a RayVector with appropriate x,y,vx,vy,...\n",
    "    rv = batoid.RayVector([\n",
    "        batoid.Ray(xmean, ymean, 0, vx_, vy_, vz_, 0, 600e-9)\n",
    "        for vx_, vy_, vz_ in zip(vx.ravel(), vy.ravel(), vz.ravel())])\n",
    "    # trace forward from filter.  So temporarily skip everything before the filter.\n",
    "    before_items = ['SubaruHSC.POPT2', \n",
    "                    'SubaruHSC.FEU',\n",
    "                    'SubaruHSC.TopRing',\n",
    "                    'SubaruHSC.BottomRing',\n",
    "                    'SubaruHSC.TertiarySpiderFirstPass',\n",
    "                    'SubaruHSC.PM',\n",
    "                    'SubaruHSC.TertiarySpiderSecondPass',\n",
    "                    'SubaruHSC.HSC.WFC.G1',\n",
    "                    'SubaruHSC.HSC.WFC.G2',\n",
    "                    'SubaruHSC.HSC.WFC.ADC',\n",
    "                    'SubaruHSC.HSC.WFC.G3',\n",
    "                    'SubaruHSC.HSC.WFC.G4',\n",
    "                    'SubaruHSC.HSC.WFC.G5',\n",
    "                   ]\n",
    "    for item in before_items:\n",
    "        telescope.itemDict[item].skip = True\n",
    "    forward_rays, _ = telescope.trace(rv, inCoordSys=telescope.itemDict['SubaruHSC.HSC.CAM.F'].coordSys)\n",
    "    # reset skips\n",
    "    for item in telescope.itemDict.keys():\n",
    "        telescope.itemDict[item].skip = False\n",
    "    # Now skip everything that happens *after* and including the filter\n",
    "    after_items = ['SubaruHSC.HSC.CAM.F',\n",
    "                   'SubaruHSC.HSC.CAM.W',\n",
    "                   'SubaruHSC.HSC.CAM.D',\n",
    "                  ]\n",
    "    for item in after_items:\n",
    "        telescope.itemDict[item].skip = True\n",
    "    rv = batoid.RayVector([\n",
    "        batoid.Ray(r.r, -r.v, r.t, r.wavelength)\n",
    "        for r in rv]\n",
    "    )\n",
    "    reverse_rays, _ = telescope.traceReverse(rv, inCoordSys=telescope.itemDict['SubaruHSC.HSC.CAM.F'].coordSys)\n",
    "\n",
    "    # reset skips\n",
    "    for item in telescope.itemDict.keys():\n",
    "        telescope.itemDict[item].skip = False\n",
    "        \n",
    "    w = np.where(np.logical_not(reverse_rays.vignetted))[0]\n",
    "    return forward_rays.x[w], forward_rays.y[w]"
   ]
  },
  {
   "cell_type": "code",
   "execution_count": null,
   "metadata": {
    "ExecuteTime": {
     "end_time": "2019-04-25T18:07:10.241542Z",
     "start_time": "2019-04-25T18:07:09.202865Z"
    }
   },
   "outputs": [],
   "source": [
    "fig = plt.figure(figsize=(12, 12))\n",
    "ax = fig.add_subplot(111)\n",
    "ax.scatter(*pinhole(0,0), s=1)\n",
    "fig.show()"
   ]
  },
  {
   "cell_type": "code",
   "execution_count": null,
   "metadata": {
    "ExecuteTime": {
     "end_time": "2019-04-25T18:07:59.653857Z",
     "start_time": "2019-04-25T18:07:59.634467Z"
    }
   },
   "outputs": [],
   "source": [
    "def plot(thx, thy):\n",
    "    fig = plt.figure(figsize=(6, 6))\n",
    "    ax = fig.add_subplot(111)\n",
    "\n",
    "    pux, puy = pupil(thx, thy)\n",
    "    xspan = np.max(pux) - np.min(pux)\n",
    "    yspan = np.max(puy) - np.min(puy)\n",
    "    span = max(xspan, yspan)\n",
    "    pux = (pux - np.mean(pux))/span\n",
    "    puy = (puy - np.mean(puy))/span\n",
    "    \n",
    "    phx, phy = pinhole(thx, thy)\n",
    "    xspan = np.max(phx) - np.min(phx)\n",
    "    yspan = np.max(phy) - np.min(phy)\n",
    "    span = max(xspan, yspan)\n",
    "\n",
    "    phx = -(phx - np.mean(phx))/span\n",
    "    phy = -(phy - np.mean(phy))/span\n",
    "\n",
    "    ax.scatter(pux, puy, s=2, alpha=0.1, c='r', label='pupil')\n",
    "    ax.scatter(phx, phy, s=2, alpha=0.2, c='b', label='pinhole')\n",
    "    ax.legend()\n",
    "    fig.show()"
   ]
  },
  {
   "cell_type": "code",
   "execution_count": null,
   "metadata": {
    "ExecuteTime": {
     "end_time": "2019-04-25T18:10:17.694317Z",
     "start_time": "2019-04-25T18:10:13.303291Z"
    }
   },
   "outputs": [],
   "source": [
    "plot(0, np.deg2rad(0.75))"
   ]
  },
  {
   "cell_type": "code",
   "execution_count": null,
   "metadata": {
    "ExecuteTime": {
     "end_time": "2019-04-25T18:08:52.716836Z",
     "start_time": "2019-04-25T18:08:52.697809Z"
    }
   },
   "outputs": [],
   "source": [
    "def both(thx, thy):\n",
    "    pux, puy = pupil(thx, thy)\n",
    "    xspan = np.max(pux) - np.min(pux)\n",
    "    yspan = np.max(puy) - np.min(puy)\n",
    "    span = max(xspan, yspan)\n",
    "    pux = (pux - np.mean(pux))/span\n",
    "    puy = (puy - np.mean(puy))/span\n",
    "\n",
    "    phx, phy = pinhole(thx, thy)\n",
    "    xspan = np.max(phx) - np.min(phx)\n",
    "    yspan = np.max(phy) - np.min(phy)\n",
    "    span = max(xspan, yspan)\n",
    "    phx = -(phx - np.mean(phx))/span\n",
    "    phy = -(phy - np.mean(phy))/span\n",
    "\n",
    "    return pux, puy, phx, phy"
   ]
  },
  {
   "cell_type": "code",
   "execution_count": null,
   "metadata": {
    "ExecuteTime": {
     "end_time": "2019-04-25T18:10:03.108854Z",
     "start_time": "2019-04-25T18:09:55.536223Z"
    }
   },
   "outputs": [],
   "source": [
    "fig, axes = plt.subplots(nrows=2, ncols=2, figsize=(8,8))\n",
    "for ax, thy in zip(axes.ravel(), [0.0, 0.25, 0.5, 0.75]):\n",
    "    pux, puy, phx, phy = both(0.0, np.deg2rad(thy))\n",
    "\n",
    "    ax.scatter(pux, puy, s=2, alpha=0.1, c='r', label='pupil')\n",
    "    ax.scatter(phx, phy, s=2, alpha=0.2, c='b', label='pinhole')\n",
    "    ax.set_title(r\"$\\theta_y$ = {:5.2f}\".format(thy))\n",
    "    ax.legend(loc=\"upper right\")\n",
    "fig.show()"
   ]
  },
  {
   "cell_type": "code",
   "execution_count": null,
   "metadata": {},
   "outputs": [],
   "source": []
  }
 ],
 "metadata": {
  "kernelspec": {
   "display_name": "Python 3",
   "language": "python",
   "name": "python3"
  },
  "language_info": {
   "codemirror_mode": {
    "name": "ipython",
    "version": 3
   },
   "file_extension": ".py",
   "mimetype": "text/x-python",
   "name": "python",
   "nbconvert_exporter": "python",
   "pygments_lexer": "ipython3",
   "version": "3.6.6"
  }
 },
 "nbformat": 4,
 "nbformat_minor": 2
}
