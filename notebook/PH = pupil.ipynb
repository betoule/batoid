{
 "cells": [
  {
   "cell_type": "code",
   "execution_count": null,
   "metadata": {
    "collapsed": true
   },
   "outputs": [],
   "source": [
    "import batoid\n",
    "import os\n",
    "import numpy as np\n",
    "import matplotlib.pyplot as plt\n",
    "%matplotlib inline\n",
    "import obscuration"
   ]
  },
  {
   "cell_type": "code",
   "execution_count": null,
   "metadata": {
    "collapsed": true
   },
   "outputs": [],
   "source": [
    "HSC_fn = os.path.join(batoid.datadir, \"hsc\", \"HSC.yaml\")\n",
    "HSC = batoid.Telescope.makeFromYAML(HSC_fn)\n",
    "HSC2 = batoid.Telescope.makeFromYAML(HSC_fn)"
   ]
  },
  {
   "cell_type": "code",
   "execution_count": null,
   "metadata": {
    "collapsed": false
   },
   "outputs": [],
   "source": [
    "for i, k in enumerate(HSC.surfaces):\n",
    "    print(i, k)"
   ]
  },
  {
   "cell_type": "code",
   "execution_count": null,
   "metadata": {
    "collapsed": true
   },
   "outputs": [],
   "source": [
    "# So surface 15 is the filter entrance.  Let's use that.\n",
    "# Use HSC2 so don't mess up HSC\n",
    "HSC_front = batoid.Telescope(HSC2.surfaces[15:None:-1], name='HSC_front')\n",
    "# Need to flip ingoing/outgoing media\n",
    "for k, v in HSC_front.surfaces.items():\n",
    "    v['m0'], v['m1'] = v['m1'], v['m0']\n",
    "HSC_back = batoid.Telescope(HSC2.surfaces[16:], name='HSC_back')"
   ]
  },
  {
   "cell_type": "code",
   "execution_count": null,
   "metadata": {
    "collapsed": true
   },
   "outputs": [],
   "source": [
    "cameraShadow = obscuration.Circle(0.0, 0.0, 0.231*8.2*0.5)\n",
    "alpha = (51.75-45)*np.pi/180\n",
    "strut1 = obscuration.Ray(0.43, 0.43, 0.22, np.pi/2+alpha)\n",
    "strut2 = obscuration.Ray(0.43, 0.43, 0.22, -alpha)\n",
    "strut3 = obscuration.Ray(-0.43, -0.43, 0.22, np.pi-alpha)\n",
    "strut4 = obscuration.Ray(-0.43, -0.43, 0.22, 3*np.pi/2+alpha)\n",
    "spider = obscuration.Union(cameraShadow, strut1, strut2, strut3, strut4)"
   ]
  },
  {
   "cell_type": "code",
   "execution_count": null,
   "metadata": {
    "collapsed": true
   },
   "outputs": [],
   "source": [
    "# Function to trace rays through HSC_front:\n",
    "def trace_front(x, y, vx, vy):\n",
    "    wavelength = 750e-9\n",
    "    z = HSC_front.surfaces[0]['surface'].B+0.001\n",
    "    m = HSC_front.surfaces[0]['m0']\n",
    "    vz = -1\n",
    "    xvec = batoid.Vec3(x, y, z)\n",
    "    vvec = batoid.Vec3(vx, vy, vz).UnitVec3()/m.getN(wavelength)\n",
    "    r = batoid.Ray(xvec, vvec, t=0, w=wavelength)\n",
    "    return HSC_front.trace(r)\n",
    "def trace_back(x, y, vx, vy):\n",
    "    wavelength = 750e-9\n",
    "    z = HSC_front.surfaces[0]['surface'].B+0.001\n",
    "    m = HSC_front.surfaces[0]['m0']\n",
    "    vz = 1\n",
    "    xvec = batoid.Vec3(x, y, z)\n",
    "    vvec = batoid.Vec3(vx, vy, vz).UnitVec3()/m.getN(wavelength)\n",
    "    r = batoid.Ray(xvec, vvec, t=0, w=wavelength)\n",
    "    return HSC_back.trace(r)"
   ]
  },
  {
   "cell_type": "code",
   "execution_count": null,
   "metadata": {
    "collapsed": true
   },
   "outputs": [],
   "source": [
    "def pinhole(x, y):\n",
    "    vxs = np.linspace(-0.2, 0.2, 400)\n",
    "    vys = vxs\n",
    "    fpx = []\n",
    "    fpy = []\n",
    "    pmx = []\n",
    "    pmy = []\n",
    "    for i in range(len(vxs)):\n",
    "        for j in range(len(vys)):\n",
    "            tf = trace_front(x, y, vxs[i], vys[j])\n",
    "            tb = trace_back(x, y, vxs[i], vys[j])            \n",
    "            if not tf.isVignetted and not tb.isVignetted and not spider.contains(tf.x0, tf.y0):\n",
    "                fpx.append(tb.x0)\n",
    "                fpy.append(tb.y0)\n",
    "                pmx.append(tf.x0)\n",
    "                pmy.append(tf.y0)\n",
    "    return fpx, fpy, pmx, pmy"
   ]
  },
  {
   "cell_type": "code",
   "execution_count": null,
   "metadata": {
    "collapsed": true
   },
   "outputs": [],
   "source": [
    "def pupil(x, y):\n",
    "    scale = 0.168 # arcsec / pixel\n",
    "    scale /= 15e-6 # arcsec / meter\n",
    "    scale /= 206265 # radians / meter\n",
    "    theta_x = -x * scale\n",
    "    theta_y = -y * scale\n",
    "    print(\"Field angle\", theta_x*180/np.pi, theta_y*180/np.pi)\n",
    "\n",
    "    rays = batoid.parallelRays(\n",
    "        z=1, outer=4.3, inner=0.0, theta_x=theta_x, theta_y=theta_y, wavelength=750e-9,\n",
    "        medium=batoid.ConstMedium(1.0), nradii=100, naz=512\n",
    "    )\n",
    "    fullRays = HSC.traceFull(rays)\n",
    "    pmRV = fullRays[0]['outrays']\n",
    "    fpRV = fullRays[-1]['outrays']\n",
    "    fpRVarray = np.array(fpRV)\n",
    "    w = np.logical_not(fpRVarray['isVignetted'])\n",
    "    print(np.mean(fpRVarray['p0']['x'][w]), np.mean(fpRVarray['p0']['y'][w]))\n",
    "    w = spider.contains(pmRV.x, pmRV.y)\n",
    "    return batoid.RayVector([r for r, w_, r2 in zip(pmRV, w, fpRV) if not w_ and not r2.isVignetted])"
   ]
  },
  {
   "cell_type": "code",
   "execution_count": null,
   "metadata": {
    "collapsed": true
   },
   "outputs": [],
   "source": [
    "def comparison_plot(x, y):\n",
    "    fpx, fpy, pmx, pmy = pinhole(x, y)\n",
    "    fpSpanX = np.max(fpx) - np.min(fpx)\n",
    "    fpSpanY = np.max(fpy) - np.min(fpy)\n",
    "    fpSpan = np.max([fpSpanX, fpSpanY])\n",
    "    fpMidX = 0.5*(np.max(fpx)+np.min(fpx))\n",
    "    fpMidY = 0.5*(np.max(fpy)+np.min(fpy))\n",
    "\n",
    "\n",
    "    pupilRays = pupil(x, y)\n",
    "    pupilSpanX = np.max(pupilRays.x) - np.min(pupilRays.x)\n",
    "    pupilSpanY = np.max(pupilRays.y) - np.min(pupilRays.y)\n",
    "    pupilSpan = np.max([pupilSpanX, pupilSpanY])\n",
    "    pupilMidX = 0.5*(np.max(pupilRays.x)+np.min(pupilRays.x))\n",
    "    pupilMidY = 0.5*(np.max(pupilRays.y)+np.min(pupilRays.y))\n",
    "\n",
    "    # Overplot normalized PH/pupil\n",
    "    nPHx = (fpx-fpMidX)/(0.5*fpSpan)\n",
    "    nPHy = (fpy-fpMidY)/(0.5*fpSpan)\n",
    "    nPux = (pupilRays.x-pupilMidX)/(0.5*pupilSpan)\n",
    "    nPuy = (pupilRays.y-pupilMidY)/(0.5*pupilSpan)\n",
    "\n",
    "    fig, ax = plt.subplots(nrows=1, ncols=1, figsize=(10, 10))\n",
    "    ax.scatter(nPHx, nPHy, s=3, c='r', alpha=0.5, label='pinhole')\n",
    "    ax.scatter(nPux, nPuy, s=3, c='b', alpha=0.5, label='pupil')\n",
    "    ax.legend()\n",
    "    ax.set_aspect('equal')\n",
    "    ax.set_xlim(-1, 1)\n",
    "    ax.set_ylim(-1, 1)\n",
    "    ax.set_title(\"Focal plane position {}, {}\".format(x, y))\n",
    "    fig.show()"
   ]
  },
  {
   "cell_type": "code",
   "execution_count": null,
   "metadata": {
    "collapsed": false
   },
   "outputs": [],
   "source": [
    "comparison_plot(0.0, 0.0)"
   ]
  },
  {
   "cell_type": "code",
   "execution_count": null,
   "metadata": {
    "collapsed": false
   },
   "outputs": [],
   "source": [
    "comparison_plot(0.0, 0.1)"
   ]
  },
  {
   "cell_type": "code",
   "execution_count": null,
   "metadata": {
    "collapsed": false
   },
   "outputs": [],
   "source": [
    "comparison_plot(0.0, 0.2)"
   ]
  },
  {
   "cell_type": "code",
   "execution_count": null,
   "metadata": {
    "collapsed": false
   },
   "outputs": [],
   "source": [
    "comparison_plot(0.1, 0.1)"
   ]
  },
  {
   "cell_type": "code",
   "execution_count": null,
   "metadata": {
    "collapsed": true
   },
   "outputs": [],
   "source": []
  }
 ],
 "metadata": {
  "kernelspec": {
   "display_name": "Python 3",
   "language": "python",
   "name": "python3"
  },
  "language_info": {
   "codemirror_mode": {
    "name": "ipython",
    "version": 3
   },
   "file_extension": ".py",
   "mimetype": "text/x-python",
   "name": "python",
   "nbconvert_exporter": "python",
   "pygments_lexer": "ipython3",
   "version": "3.5.2"
  }
 },
 "nbformat": 4,
 "nbformat_minor": 2
}
