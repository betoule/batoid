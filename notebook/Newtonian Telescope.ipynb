{
 "cells": [
  {
   "cell_type": "code",
   "execution_count": null,
   "metadata": {
    "collapsed": true
   },
   "outputs": [],
   "source": [
    "import jtrace\n",
    "import numpy as np\n",
    "import matplotlib.pyplot as plt\n",
    "from ipywidgets import interact\n",
    "import ipywidgets as widgets\n",
    "%matplotlib inline"
   ]
  },
  {
   "cell_type": "code",
   "execution_count": null,
   "metadata": {
    "collapsed": true
   },
   "outputs": [],
   "source": [
    "# Let's model my 12-inch f/5 Newtonian reflector.\n",
    "# 12-inch is approx 0.3 m\n",
    "# f/5 then means the focal length is 1.5 m\n",
    "# Which then means the parabolic equation is:\n",
    "# z = (x^2+y^2) / (4*1.5)\n",
    "\n",
    "D = 0.3\n",
    "fn = 5\n",
    "f = D * fn\n",
    "R = 2 * f\n",
    "para = jtrace.Paraboloid(R, 0)\n",
    "focal_plane = jtrace.Plane(f)\n",
    "plate_scale = 1./f # radians / m"
   ]
  },
  {
   "cell_type": "code",
   "execution_count": null,
   "metadata": {
    "collapsed": false
   },
   "outputs": [],
   "source": [
    "def rays(theta_x, theta_y):\n",
    "    # Point towards (0,0,0), but at an angle.  Need to determine pupil locations.\n",
    "    rs = np.linspace(0, D/2, 10)\n",
    "    # The above works if theta is 0.\n",
    "    # If theta is not zero, then need to shift the rays depending on how far away their origins are.\n",
    "    # We'll set the z-origin to be in the same plane as the focal plane.\n",
    "    dx = f * np.tan(theta_x)\n",
    "    dy = f * np.tan(theta_y)\n",
    "    rays_ = []\n",
    "    for r in rs:        \n",
    "        phis = np.linspace(0, 2*np.pi, int(np.ceil(r/D*256)), endpoint=False)\n",
    "        for phi in phis:\n",
    "            rays_.append(\n",
    "                jtrace.Ray(jtrace.Vec3(r*np.cos(phi)+dx, r*np.sin(phi)+dy, f),\n",
    "                           jtrace.Vec3(-np.tan(theta_x), -np.tan(theta_y), -1),\n",
    "                           0))\n",
    "    return rays_"
   ]
  },
  {
   "cell_type": "code",
   "execution_count": null,
   "metadata": {
    "collapsed": false
   },
   "outputs": [],
   "source": [
    "@interact(theta_x=widgets.FloatSlider(min=-1,max=1,step=0.01,value=0.1),\n",
    "          theta_y=widgets.FloatSlider(min=-1,max=1,step=0.01,value=0.1),\n",
    "          focus=widgets.FloatSlider(min=-0.5, max=0.5, step=0.01,value=0.1))\n",
    "def spot(theta_x, theta_y, focus):\n",
    "    \"\"\"Display a spot diagram for a Newtonian telescope.\n",
    "\n",
    "    @param theta_x  Field angle in degrees\n",
    "    @param theta_y  Field angle in degrees\n",
    "    @param focus    Defocus distance in mm\n",
    "    \"\"\"\n",
    "    focal_plane = jtrace.Plane(f+focus*1e-3)\n",
    "    spots = []\n",
    "    for ray in rays(theta_x*np.pi/180, theta_y*np.pi/180):\n",
    "        isec = para.intersect(ray)\n",
    "        rray = isec.reflectedRay(ray)\n",
    "        isec = focal_plane.intersect(rray)\n",
    "        spots.append([isec.x0, isec.y0])\n",
    "    spots = np.array(spots)\n",
    "    spots -= np.mean(spots, axis=0)\n",
    "    spots *= plate_scale*206265 # meters -> arcseconds\n",
    "    plt.figure(figsize=(4.5,4))\n",
    "    plt.scatter(spots[:,0], spots[:,1], s=1, alpha=0.5)\n",
    "    plt.xlim(-10, 10)\n",
    "    plt.ylim(-10, 10)\n",
    "    plt.title(r\"$\\theta_x = {:4.2f}\\,,\\theta_y = {:4.2f}\\,, f={:4.2f}$\".format(theta_x, theta_y, focus))\n",
    "    plt.xlabel(\"arcseconds\")\n",
    "    plt.ylabel(\"arcseconds\")"
   ]
  },
  {
   "cell_type": "code",
   "execution_count": null,
   "metadata": {
    "collapsed": true
   },
   "outputs": [],
   "source": []
  }
 ],
 "metadata": {
  "anaconda-cloud": {},
  "kernelspec": {
   "display_name": "Python 3",
   "language": "python",
   "name": "python3"
  },
  "language_info": {
   "codemirror_mode": {
    "name": "ipython",
    "version": 3
   },
   "file_extension": ".py",
   "mimetype": "text/x-python",
   "name": "python",
   "nbconvert_exporter": "python",
   "pygments_lexer": "ipython3",
   "version": "3.6.0"
  },
  "widgets": {
   "state": {
    "e7800983b593499eb525978ce4591cfe": {
     "views": [
      {
       "cell_index": 3
      }
     ]
    }
   },
   "version": "1.2.0"
  }
 },
 "nbformat": 4,
 "nbformat_minor": 1
}
