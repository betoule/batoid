{
 "cells": [
  {
   "cell_type": "code",
   "execution_count": null,
   "metadata": {
    "ExecuteTime": {
     "end_time": "2020-01-30T00:53:26.511401Z",
     "start_time": "2020-01-30T00:53:25.980074Z"
    },
    "tags": []
   },
   "outputs": [],
   "source": [
    "import batoid\n",
    "import numpy as np\n",
    "import ipyvolume as ipv\n",
    "import matplotlib.pyplot as plt"
   ]
  },
  {
   "cell_type": "code",
   "execution_count": null,
   "metadata": {
    "ExecuteTime": {
     "end_time": "2020-01-30T00:53:26.564593Z",
     "start_time": "2020-01-30T00:53:26.512889Z"
    },
    "tags": []
   },
   "outputs": [],
   "source": [
    "fiducial_telescope = batoid.Optic.fromYaml(\"LSST_r.yaml\")\n",
    "dist = 15000"
   ]
  },
  {
   "cell_type": "code",
   "execution_count": null,
   "metadata": {
    "ExecuteTime": {
     "end_time": "2020-01-30T00:53:26.588138Z",
     "start_time": "2020-01-30T00:53:26.566431Z"
    },
    "tags": []
   },
   "outputs": [],
   "source": [
    "def xfan(telescope, theta_x, theta_y, nx, **kwargs):\n",
    "    return batoid.RayVector.asGrid(telescope, wavelength=625e-9, theta_x=theta_x, theta_y=theta_y, nx=nx, ny=1, **kwargs)\n",
    "def yfan(telescope, theta_x, theta_y, ny, **kwargs):\n",
    "    return batoid.RayVector.asGrid(telescope, wavelength=625e-9, theta_x=theta_x, theta_y=theta_y, nx=1, ny=ny, **kwargs)\n",
    "def xyfan(telescope, theta_x, theta_y, n, **kwargs):\n",
    "    rays1 = xfan(telescope, theta_x, theta_y, n, **kwargs)\n",
    "    rays2 = yfan(telescope, theta_x, theta_y, n, **kwargs)\n",
    "    return batoid.concatenateRayVectors([rays1, rays2])"
   ]
  },
  {
   "cell_type": "code",
   "execution_count": null,
   "metadata": {
    "ExecuteTime": {
     "end_time": "2020-01-30T00:53:26.611145Z",
     "start_time": "2020-01-30T00:53:26.589704Z"
    },
    "tags": []
   },
   "outputs": [],
   "source": [
    "def plotlineipv(ipv, ctf, x, y, z):\n",
    "    x, y, z = np.broadcast_arrays(x, y, z)\n",
    "    x, y, z = ctf.applyForwardArray(x, y, z)\n",
    "    ipv.plot(x, y, z, c='r')"
   ]
  },
  {
   "cell_type": "code",
   "execution_count": null,
   "metadata": {
    "ExecuteTime": {
     "end_time": "2020-01-30T00:53:26.637603Z",
     "start_time": "2020-01-30T00:53:26.612469Z"
    },
    "tags": []
   },
   "outputs": [],
   "source": [
    "def draw3dFP(ipv, coordSys):\n",
    "    # Just has to be approximately right...\n",
    "    raftsize = 0.31527*2/5\n",
    "    ctf = batoid.CoordTransform(coordSys, batoid.globalCoordSys)\n",
    "    \n",
    "    # top hline\n",
    "    plotlineipv(ipv, ctf, np.array([-1.5, 1.5])*raftsize, 2.5*raftsize, 0)\n",
    "    # middle hlines\n",
    "    plotlineipv(ipv, ctf, np.array([-2.5, 2.5])*raftsize, 1.5*raftsize, 0)\n",
    "    plotlineipv(ipv, ctf, np.array([-2.5, 2.5])*raftsize, 0.5*raftsize, 0)\n",
    "    plotlineipv(ipv, ctf, np.array([-2.5, 2.5])*raftsize, -0.5*raftsize, 0)\n",
    "    plotlineipv(ipv, ctf, np.array([-2.5, 2.5])*raftsize, -1.5*raftsize, 0)\n",
    "    # bottom hline\n",
    "    plotlineipv(ipv, ctf, np.array([-1.5, 1.5])*raftsize, -2.5*raftsize, 0)\n",
    "    # left vline\n",
    "    plotlineipv(ipv, ctf, -2.5*raftsize, np.array([-1.5, 1.5])*raftsize, 0)\n",
    "    # middle vlines\n",
    "    plotlineipv(ipv, ctf, -1.5*raftsize, np.array([-2.5, 2.5])*raftsize, 0)\n",
    "    plotlineipv(ipv, ctf, -0.5*raftsize, np.array([-2.5, 2.5])*raftsize, 0)\n",
    "    plotlineipv(ipv, ctf, 0.5*raftsize, np.array([-2.5, 2.5])*raftsize, 0)\n",
    "    plotlineipv(ipv, ctf, 1.5*raftsize, np.array([-2.5, 2.5])*raftsize, 0)\n",
    "    # right vline\n",
    "    plotlineipv(ipv, ctf, 2.5*raftsize, np.array([-1.5, 1.5])*raftsize, 0)"
   ]
  },
  {
   "cell_type": "code",
   "execution_count": null,
   "metadata": {
    "tags": []
   },
   "outputs": [],
   "source": [
    "def drawSkyFP(ipv, alt, az, rot):\n",
    "    ctf = batoid.CoordTransform(\n",
    "        batoid.globalCoordSys,\n",
    "        batoid.CoordSys(\n",
    "            (0, 0, 0),\n",
    "            batoid.RotX(-rot)@batoid.RotY(alt)@batoid.RotZ(az)\n",
    "        )\n",
    "    )\n",
    "    f = dist*np.deg2rad(0.7)\n",
    "\n",
    "    # top hline\n",
    "    plotlineipv(ipv, ctf, dist, np.array([-1.5, 1.5])*f, 2.5*f*np.ones(2))\n",
    "    # middle hlines\n",
    "    plotlineipv(ipv, ctf, dist, np.array([-2.5, 2.5])*f, 1.5*f*np.ones(2))\n",
    "    plotlineipv(ipv, ctf, dist, np.array([-2.5, 2.5])*f, 0.5*f*np.ones(2))\n",
    "    plotlineipv(ipv, ctf, dist, np.array([-2.5, 2.5])*f, -0.5*f*np.ones(2))\n",
    "    plotlineipv(ipv, ctf, dist, np.array([-2.5, 2.5])*f, -1.5*f*np.ones(2))    \n",
    "    # bottom hline\n",
    "    plotlineipv(ipv, ctf, dist, np.array([-1.5, 1.5])*f, -2.5*f*np.ones(2))\n",
    "    # left vline\n",
    "    plotlineipv(ipv, ctf, dist, -2.5*f*np.ones(2), np.array([-1.5, 1.5])*f)\n",
    "    # middle vlines\n",
    "    plotlineipv(ipv, ctf, dist, -1.5*f*np.ones(2), np.array([-2.5, 2.5])*f)\n",
    "    plotlineipv(ipv, ctf, dist, -0.5*f*np.ones(2), np.array([-2.5, 2.5])*f)\n",
    "    plotlineipv(ipv, ctf, dist, 0.5*f*np.ones(2), np.array([-2.5, 2.5])*f)\n",
    "    plotlineipv(ipv, ctf, dist, 1.5*f*np.ones(2), np.array([-2.5, 2.5])*f)\n",
    "    # right vline\n",
    "    plotlineipv(ipv, ctf, dist, 2.5*f*np.ones(2), np.array([-1.5, 1.5])*f)"
   ]
  },
  {
   "cell_type": "code",
   "execution_count": null,
   "metadata": {
    "ExecuteTime": {
     "end_time": "2020-01-30T00:53:26.659103Z",
     "start_time": "2020-01-30T00:53:26.638814Z"
    },
    "tags": []
   },
   "outputs": [],
   "source": [
    "def plotlineax(ax, ctf, x, y):\n",
    "    x, y, z = np.broadcast_arrays(x, y, 0)\n",
    "    x, y, _ = ctf.applyForwardArray(x, y, z)\n",
    "    ax.plot(x, y, c='r')"
   ]
  },
  {
   "cell_type": "code",
   "execution_count": null,
   "metadata": {
    "ExecuteTime": {
     "end_time": "2020-01-30T00:53:26.684018Z",
     "start_time": "2020-01-30T00:53:26.660249Z"
    },
    "tags": []
   },
   "outputs": [],
   "source": [
    "def draw2dFP(ax, coordSys):\n",
    "    # Just has to be approximately right...\n",
    "    raftsize = 0.31527*2/5\n",
    "    ctf = batoid.CoordTransform(coordSys, batoid.globalCoordSys)\n",
    "    # top hline\n",
    "    plotlineax(ax, ctf, np.array([-1.5, 1.5])*raftsize, 2.5*raftsize)\n",
    "    # middle hlines\n",
    "    plotlineax(ax, ctf, np.array([-2.5, 2.5])*raftsize, 1.5*raftsize)\n",
    "    plotlineax(ax, ctf, np.array([-2.5, 2.5])*raftsize, 0.5*raftsize)\n",
    "    plotlineax(ax, ctf, np.array([-2.5, 2.5])*raftsize, -0.5*raftsize)\n",
    "    plotlineax(ax, ctf, np.array([-2.5, 2.5])*raftsize, -1.5*raftsize)\n",
    "    # bottom hline\n",
    "    plotlineax(ax, ctf, np.array([-1.5, 1.5])*raftsize, -2.5*raftsize)\n",
    "    # left vline\n",
    "    plotlineax(ax, ctf, -2.5*raftsize, np.array([-1.5, 1.5])*raftsize)\n",
    "    # middle vlines\n",
    "    plotlineax(ax, ctf, -1.5*raftsize, np.array([-2.5, 2.5])*raftsize)\n",
    "    plotlineax(ax, ctf, -0.5*raftsize, np.array([-2.5, 2.5])*raftsize)\n",
    "    plotlineax(ax, ctf, 0.5*raftsize, np.array([-2.5, 2.5])*raftsize)\n",
    "    plotlineax(ax, ctf, 1.5*raftsize, np.array([-2.5, 2.5])*raftsize)\n",
    "    # right vline\n",
    "    plotlineax(ax, ctf, 2.5*raftsize, np.array([-1.5, 1.5])*raftsize)    "
   ]
  },
  {
   "cell_type": "code",
   "execution_count": null,
   "metadata": {
    "ExecuteTime": {
     "end_time": "2020-01-30T00:53:26.718421Z",
     "start_time": "2020-01-30T00:53:26.685568Z"
    },
    "tags": []
   },
   "outputs": [],
   "source": [
    "# def doit(theta_x, theta_y, rot=0.0):\n",
    "#     telescope = fiducial_telescope.withLocallyRotatedOptic(\"LSSTCamera\", batoid.RotZ(np.deg2rad(rot)))\n",
    "#     rays = xyfan(telescope, np.deg2rad(theta_x), np.deg2rad(theta_y), 30)\n",
    "#     traceFull = telescope.traceFull(rays)\n",
    "#     wavefront = batoid.wavefront(\n",
    "#         telescope, np.deg2rad(theta_x), np.deg2rad(theta_y),\n",
    "#         625e-9, nx=256\n",
    "#     )\n",
    "#     spotx, spoty = batoid.spot(\n",
    "#         telescope, np.deg2rad(theta_x), np.deg2rad(theta_y),\n",
    "#         625e-9, nx=256\n",
    "#     )\n",
    "#     ipv.figure(width=400, height=350)\n",
    "#     telescope.draw3d(ipv, color='black')\n",
    "#     batoid.drawTrace3d(ipv, traceFull, color='blue')\n",
    "#     ipv.xlim(-5, 5)\n",
    "#     ipv.ylim(-5, 5)\n",
    "#     ipv.zlim(-2, 8)\n",
    "#     draw3dFP(ipv, telescope['Detector'].coordSys)\n",
    "#     ipv.show()\n",
    "\n",
    "#     fpRays = traceFull['Detector']['out'].copy()\n",
    "#     fpRays.toCoordSys(batoid.globalCoordSys)\n",
    "#     w = ~fpRays.vignetted\n",
    "\n",
    "#     ph = np.linspace(0, 2*np.pi, 500)\n",
    "#     x, y = 0.31527*np.cos(ph), 0.31527*np.sin(ph)\n",
    "\n",
    "#     fig, axes = plt.subplots(figsize=(18, 4), nrows=1, ncols=5)\n",
    "#     ax1, ax2, ax3, ax4, ax5 = axes\n",
    "    \n",
    "#     ax1.plot(x, y, c='b', lw=1)\n",
    "#     draw2dFP(ax1, telescope['Detector'].coordSys)\n",
    "#     ax1.scatter(fpRays.x[w], fpRays.y[w], c='b')\n",
    "#     ax1.set_xlim(-0.4, 0.4)\n",
    "#     ax1.set_ylim(-0.4, 0.4)\n",
    "#     ax1.axhline(0, lw=0.5, c='k')\n",
    "#     ax1.axvline(0, lw=0.5, c='k')\n",
    "#     ax1.set_title(\"view from utility trunk\")\n",
    "#     ax1.set_xlabel(\"<- comes from left   x   comes from right ->\")\n",
    "#     ax1.set_ylabel(\"<- higher alt    y    lower alt ->\")\n",
    "#     ax1.set_aspect(\"equal\")\n",
    "\n",
    "#     ax2.plot(x, y, c='b', lw=1)\n",
    "#     draw2dFP(ax2, telescope['Detector'].coordSys)\n",
    "#     ax2.scatter(fpRays.x[w], fpRays.y[w], c='b')\n",
    "#     ax2.set_xlim(0.4, -0.4)\n",
    "#     ax2.set_ylim(-0.4, 0.4)\n",
    "#     ax2.axhline(0, lw=0.5, c='k')\n",
    "#     ax2.axvline(0, lw=0.5, c='k')\n",
    "#     ax2.set_title(\"view from L3, tel aligned\")\n",
    "#     ax2.set_xlabel(\"<- comes from right   x   comes from left ->\")\n",
    "#     ax2.set_ylabel(\"<- higher alt    y    lower alt ->\")\n",
    "#     ax2.set_aspect(\"equal\")\n",
    "    \n",
    "#     fpRays2 = traceFull['Detector']['out']\n",
    "#     w = ~fpRays2.vignetted\n",
    "\n",
    "#     ax3.plot(x, y, c='b', lw=1)\n",
    "#     draw2dFP(ax3, batoid.globalCoordSys)\n",
    "#     ax3.scatter(fpRays2.x[w], fpRays2.y[w], c='b')\n",
    "#     ax3.set_xlim(0.4, -0.4)\n",
    "#     ax3.set_ylim(-0.4, 0.4)\n",
    "#     ax3.axhline(0, lw=0.5, c='k')\n",
    "#     ax3.axvline(0, lw=0.5, c='k')\n",
    "#     ax3.set_title(\"view from L3, cam aligned\")\n",
    "#     ax3.set_aspect(\"equal\")\n",
    "    \n",
    "#     ax4.scatter(-spotx, spoty, s=0.1, alpha=0.1)\n",
    "#     ax4.set_xlim(-1e-5, 1e-5)\n",
    "#     ax4.set_ylim(-1e-5, 1e-5)\n",
    "#     ax4.xaxis.set_ticks([])\n",
    "#     ax4.yaxis.set_ticks([])\n",
    "#     ax4.set_title(\"view from L3, cam aligned\")\n",
    "#     ax4.set_aspect(\"equal\")\n",
    "    \n",
    "#     ax5.imshow(wavefront.array)\n",
    "#     ax5.set_aspect(\"equal\")\n",
    "#     ax5.xaxis.set_ticks([])\n",
    "#     ax5.yaxis.set_ticks([])\n",
    "#     ax5.set_title(\"entrance pupil aligned\")"
   ]
  },
  {
   "cell_type": "code",
   "execution_count": null,
   "metadata": {
    "ExecuteTime": {
     "end_time": "2020-01-30T00:53:28.961280Z",
     "start_time": "2020-01-30T00:53:26.719761Z"
    },
    "tags": []
   },
   "outputs": [],
   "source": [
    "# doit(1.0, 1.0, 0.0)"
   ]
  },
  {
   "cell_type": "code",
   "execution_count": null,
   "metadata": {
    "ExecuteTime": {
     "end_time": "2020-01-30T00:54:30.391702Z",
     "start_time": "2020-01-30T00:54:28.508075Z"
    },
    "tags": []
   },
   "outputs": [],
   "source": [
    "# # last column is equivalent to rotTelPos.\n",
    "# doit(1.0, 1.0, 15)"
   ]
  },
  {
   "cell_type": "code",
   "execution_count": null,
   "metadata": {
    "tags": []
   },
   "outputs": [],
   "source": [
    "def drawElevationBearings(ipv, az=0):\n",
    "    th = np.linspace(0, 2*np.pi, 100)\n",
    "    x_, y_ = np.cos(th), np.sin(th)\n",
    "    for d in [4.4, 4.5, 4.6, 4.7]:\n",
    "        for r in [1.5, 1.75, 2.0]:\n",
    "            x = -d\n",
    "            y = x_*r\n",
    "            z = y_*r            \n",
    "            x, y = np.cos(np.pi/2-az)*x-np.sin(np.pi/2-az)*y, np.sin(np.pi/2-az)*x+np.cos(np.pi/2-az)*y\n",
    "            \n",
    "            ipv.plot(x, y, z, color='black')\n",
    "            ipv.plot(-x, -y, z, color='black')"
   ]
  },
  {
   "cell_type": "code",
   "execution_count": null,
   "metadata": {
    "tags": []
   },
   "outputs": [],
   "source": [
    "def drawAltAzGrid(ipv):\n",
    "    th = np.linspace(0, 2*np.pi, 100)\n",
    "    for alt in np.arange(0, 81, 10):\n",
    "        x = np.cos(th)*np.cos(np.deg2rad(alt))\n",
    "        y = np.sin(th)*np.cos(np.deg2rad(alt))\n",
    "        z = np.full_like(th, np.sin(np.deg2rad(alt)))\n",
    "        ipv.plot(x*dist, y*dist, z*dist, color='green')\n",
    "    th = np.linspace(0, np.pi/2, 50)\n",
    "    for az in np.linspace(0, 2*np.pi, 12, endpoint=False):\n",
    "        x = np.cos(az)*np.cos(th)\n",
    "        y = np.sin(az)*np.cos(th)\n",
    "        z = np.sin(th)\n",
    "        if az == 0:\n",
    "            ipv.plot(x*dist, y*dist, z*dist, color='red')\n",
    "        else:\n",
    "            ipv.plot(x*dist, y*dist, z*dist, color='green')"
   ]
  },
  {
   "cell_type": "code",
   "execution_count": null,
   "metadata": {
    "tags": []
   },
   "outputs": [],
   "source": [
    "def drawEqGrid(ipv, lat):\n",
    "    # Need to rotate around +y axis by 90-lat\n",
    "    ctf = batoid.CoordTransform(\n",
    "        batoid.globalCoordSys,\n",
    "        batoid.CoordSys(\n",
    "            (0,0,0), \n",
    "            batoid.RotY(np.pi/2-lat)\n",
    "        )\n",
    "    )\n",
    "    th = np.linspace(0, 2*np.pi, 100)\n",
    "    for alt in np.arange(-90, 91, 10):\n",
    "        x = np.cos(th)*np.cos(np.deg2rad(alt))\n",
    "        y = np.sin(th)*np.cos(np.deg2rad(alt))\n",
    "        z = np.full_like(th, np.sin(np.deg2rad(alt)))\n",
    "        x, y, z = ctf.applyForwardArray(x, y, z)\n",
    "        ipv.plot(x*dist, y*dist, z*dist, color='blue')\n",
    "        # w = z>0\n",
    "        # if np.sum(w) > 1:\n",
    "        #     ipv.plot(x[w]*dist, y[w]*dist, z[w]*dist, color='blue')\n",
    "    for az in np.linspace(0, 2*np.pi, 12, endpoint=False):\n",
    "        x = np.cos(az)*np.cos(th)\n",
    "        y = np.sin(az)*np.cos(th)\n",
    "        z = np.sin(th)\n",
    "        x, y, z = ctf.applyForwardArray(x, y, z)\n",
    "        ipv.plot(x*dist, y*dist, z*dist, color='blue')\n",
    "        # w = z>0\n",
    "        # if np.sum(w) > 1:\n",
    "        #     ipv.plot(x[w]*dist, y[w]*dist, z[w]*dist, color='blue')"
   ]
  },
  {
   "cell_type": "code",
   "execution_count": null,
   "metadata": {
    "tags": []
   },
   "outputs": [],
   "source": [
    "lat = np.deg2rad(-30.2446)\n",
    "rot = np.deg2rad(20)\n",
    "alt = np.deg2rad(20)\n",
    "az = np.deg2rad(20)\n",
    "theta_x = np.deg2rad(1.1)\n",
    "theta_y = np.deg2rad(1.1)\n",
    "telescope = fiducial_telescope\n",
    "telescope = telescope.withLocallyRotatedOptic(\"LSSTCamera\", batoid.RotZ(rot))\n",
    "telescope = telescope.withLocalRotation(batoid.RotZ(np.pi/2-az))\n",
    "telescope = telescope.withLocalRotation(batoid.RotX(np.pi/2-alt))\n",
    "rays = xyfan(telescope, theta_x, theta_y, 30, backDist=dist)\n",
    "traceFull = telescope.traceFull(rays)\n",
    "\n",
    "ipvfig = ipv.figure(width=600, height=400)\n",
    "telescope.draw3d(ipv, color='black')\n",
    "batoid.drawTrace3d(ipv, traceFull, color='blue')\n",
    "draw3dFP(ipv, telescope['Detector'].coordSys)\n",
    "drawSkyFP(ipv, alt, az, rot)\n",
    "drawElevationBearings(ipv, az)\n",
    "drawAltAzGrid(ipv)\n",
    "drawEqGrid(ipv, lat)\n",
    "ipv.show()\n",
    "ipv.xlim(-5, 5)\n",
    "ipv.ylim(-5, 5)\n",
    "ipv.zlim(-2, 8)\n",
    "ipvfig.camera.position = (-1.5254697593501128, -1.2928322819658806, 0.03907305996705254)\n",
    "ipvfig.camera.rotation = (-1.2237988550857888, -1.3392070664612021, -2.763432436269493, 'XYZ')"
   ]
  },
  {
   "cell_type": "code",
   "execution_count": null,
   "metadata": {},
   "outputs": [],
   "source": []
  }
 ],
 "metadata": {
  "kernelspec": {
   "display_name": "Python 3 (ipykernel)",
   "language": "python",
   "name": "python3"
  },
  "language_info": {
   "codemirror_mode": {
    "name": "ipython",
    "version": 3
   },
   "file_extension": ".py",
   "mimetype": "text/x-python",
   "name": "python",
   "nbconvert_exporter": "python",
   "pygments_lexer": "ipython3",
   "version": "3.8.13"
  }
 },
 "nbformat": 4,
 "nbformat_minor": 4
}
