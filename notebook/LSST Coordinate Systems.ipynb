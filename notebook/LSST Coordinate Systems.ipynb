{
 "cells": [
  {
   "cell_type": "code",
   "execution_count": 1,
   "metadata": {
    "execution": {
     "iopub.execute_input": "2022-05-19T21:53:42.723881Z",
     "iopub.status.busy": "2022-05-19T21:53:42.723400Z",
     "iopub.status.idle": "2022-05-19T21:53:42.730004Z",
     "shell.execute_reply": "2022-05-19T21:53:42.729159Z",
     "shell.execute_reply.started": "2022-05-19T21:53:42.723805Z"
    },
    "tags": []
   },
   "outputs": [],
   "source": [
    "# Plot optics, rays, celestial coords, and various official Rubin coordinate systems in 3D.\n",
    "# Some notes: \n",
    "#   - \"telescope parked position\" is\n",
    "#     • altitude = 90 degrees\n",
    "#     • azimuth = 90 degrees  (i.e., telescope would point East if tipped off zenith)\n",
    "#     • rotation = 0 degrees  \n",
    "#   - batoid.globalCoordSys = ipvolume coordinate system = Observatory Mount Coordinate System (MCS)"
   ]
  },
  {
   "cell_type": "code",
   "execution_count": 2,
   "metadata": {
    "ExecuteTime": {
     "end_time": "2020-01-30T00:53:26.511401Z",
     "start_time": "2020-01-30T00:53:25.980074Z"
    },
    "execution": {
     "iopub.execute_input": "2022-05-19T21:53:42.731924Z",
     "iopub.status.busy": "2022-05-19T21:53:42.731721Z",
     "iopub.status.idle": "2022-05-19T21:53:44.314157Z",
     "shell.execute_reply": "2022-05-19T21:53:44.313615Z",
     "shell.execute_reply.started": "2022-05-19T21:53:42.731900Z"
    },
    "tags": []
   },
   "outputs": [],
   "source": [
    "import ipywidgets\n",
    "import batoid\n",
    "import numpy as np\n",
    "import ipyvolume as ipv\n",
    "import matplotlib.pyplot as plt"
   ]
  },
  {
   "cell_type": "code",
   "execution_count": 3,
   "metadata": {
    "ExecuteTime": {
     "end_time": "2020-01-30T00:53:26.564593Z",
     "start_time": "2020-01-30T00:53:26.512889Z"
    },
    "execution": {
     "iopub.execute_input": "2022-05-19T21:53:44.315178Z",
     "iopub.status.busy": "2022-05-19T21:53:44.315061Z",
     "iopub.status.idle": "2022-05-19T21:53:44.349031Z",
     "shell.execute_reply": "2022-05-19T21:53:44.348645Z",
     "shell.execute_reply.started": "2022-05-19T21:53:44.315164Z"
    },
    "tags": []
   },
   "outputs": [],
   "source": [
    "fiducial_telescope = batoid.Optic.fromYaml(\"LSST_r.yaml\")\n",
    "dist = 15000  # \"distance\" in m to Celestial sphere for plotting purposes"
   ]
  },
  {
   "cell_type": "code",
   "execution_count": 4,
   "metadata": {
    "ExecuteTime": {
     "end_time": "2020-01-30T00:53:26.588138Z",
     "start_time": "2020-01-30T00:53:26.566431Z"
    },
    "execution": {
     "iopub.execute_input": "2022-05-19T21:53:44.350201Z",
     "iopub.status.busy": "2022-05-19T21:53:44.350085Z",
     "iopub.status.idle": "2022-05-19T21:53:44.354328Z",
     "shell.execute_reply": "2022-05-19T21:53:44.353819Z",
     "shell.execute_reply.started": "2022-05-19T21:53:44.350190Z"
    },
    "tags": []
   },
   "outputs": [],
   "source": [
    "def xfan(telescope, theta_x, theta_y, nx, **kwargs):\n",
    "    return batoid.RayVector.asGrid(telescope, wavelength=625e-9, theta_x=theta_x, theta_y=theta_y, nx=nx, ny=1, **kwargs)\n",
    "def yfan(telescope, theta_x, theta_y, ny, **kwargs):\n",
    "    return batoid.RayVector.asGrid(telescope, wavelength=625e-9, theta_x=theta_x, theta_y=theta_y, nx=1, ny=ny, **kwargs)\n",
    "def xyfan(telescope, theta_x, theta_y, n, **kwargs):\n",
    "    rays1 = xfan(telescope, theta_x, theta_y, n, **kwargs)\n",
    "    rays2 = yfan(telescope, theta_x, theta_y, n, **kwargs)\n",
    "    return batoid.concatenateRayVectors([rays1, rays2])"
   ]
  },
  {
   "cell_type": "code",
   "execution_count": 5,
   "metadata": {
    "ExecuteTime": {
     "end_time": "2020-01-30T00:53:26.611145Z",
     "start_time": "2020-01-30T00:53:26.589704Z"
    },
    "execution": {
     "iopub.execute_input": "2022-05-19T21:53:44.357286Z",
     "iopub.status.busy": "2022-05-19T21:53:44.356986Z",
     "iopub.status.idle": "2022-05-19T21:53:44.360973Z",
     "shell.execute_reply": "2022-05-19T21:53:44.360149Z",
     "shell.execute_reply.started": "2022-05-19T21:53:44.357268Z"
    },
    "tags": []
   },
   "outputs": [],
   "source": [
    "def plotlineipv(ipv, ctf, x, y, z):\n",
    "    x, y, z = np.broadcast_arrays(x, y, z)\n",
    "    x, y, z = ctf.applyForwardArray(x, y, z)\n",
    "    ipv.plot(x, y, z, c='r')"
   ]
  },
  {
   "cell_type": "code",
   "execution_count": 6,
   "metadata": {
    "ExecuteTime": {
     "end_time": "2020-01-30T00:53:26.637603Z",
     "start_time": "2020-01-30T00:53:26.612469Z"
    },
    "execution": {
     "iopub.execute_input": "2022-05-19T21:53:44.361631Z",
     "iopub.status.busy": "2022-05-19T21:53:44.361544Z",
     "iopub.status.idle": "2022-05-19T21:53:44.367416Z",
     "shell.execute_reply": "2022-05-19T21:53:44.366662Z",
     "shell.execute_reply.started": "2022-05-19T21:53:44.361621Z"
    },
    "tags": []
   },
   "outputs": [],
   "source": [
    "def draw3dFP(ipv, coordSys):\n",
    "    # Just has to be approximately right...\n",
    "    raftsize = 0.31527*2/5\n",
    "    ctf = batoid.CoordTransform(coordSys, batoid.globalCoordSys)\n",
    "    \n",
    "    # top hline\n",
    "    plotlineipv(ipv, ctf, np.array([-1.5, 1.5])*raftsize, 2.5*raftsize, 0)\n",
    "    # middle hlines\n",
    "    plotlineipv(ipv, ctf, np.array([-2.5, 2.5])*raftsize, 1.5*raftsize, 0)\n",
    "    plotlineipv(ipv, ctf, np.array([-2.5, 2.5])*raftsize, 0.5*raftsize, 0)\n",
    "    plotlineipv(ipv, ctf, np.array([-2.5, 2.5])*raftsize, -0.5*raftsize, 0)\n",
    "    plotlineipv(ipv, ctf, np.array([-2.5, 2.5])*raftsize, -1.5*raftsize, 0)\n",
    "    # bottom hline\n",
    "    plotlineipv(ipv, ctf, np.array([-1.5, 1.5])*raftsize, -2.5*raftsize, 0)\n",
    "    # left vline\n",
    "    plotlineipv(ipv, ctf, -2.5*raftsize, np.array([-1.5, 1.5])*raftsize, 0)\n",
    "    # middle vlines\n",
    "    plotlineipv(ipv, ctf, -1.5*raftsize, np.array([-2.5, 2.5])*raftsize, 0)\n",
    "    plotlineipv(ipv, ctf, -0.5*raftsize, np.array([-2.5, 2.5])*raftsize, 0)\n",
    "    plotlineipv(ipv, ctf, 0.5*raftsize, np.array([-2.5, 2.5])*raftsize, 0)\n",
    "    plotlineipv(ipv, ctf, 1.5*raftsize, np.array([-2.5, 2.5])*raftsize, 0)\n",
    "    # right vline\n",
    "    plotlineipv(ipv, ctf, 2.5*raftsize, np.array([-1.5, 1.5])*raftsize, 0)"
   ]
  },
  {
   "cell_type": "code",
   "execution_count": 7,
   "metadata": {
    "execution": {
     "iopub.execute_input": "2022-05-19T21:53:44.368866Z",
     "iopub.status.busy": "2022-05-19T21:53:44.368430Z",
     "iopub.status.idle": "2022-05-19T21:53:44.375248Z",
     "shell.execute_reply": "2022-05-19T21:53:44.374661Z",
     "shell.execute_reply.started": "2022-05-19T21:53:44.368844Z"
    },
    "tags": []
   },
   "outputs": [],
   "source": [
    "def drawSkyFP(ipv, alt, az, rot):\n",
    "    ctf = batoid.CoordTransform(\n",
    "        batoid.globalCoordSys,\n",
    "        batoid.CoordSys(\n",
    "            (0, 0, 0),\n",
    "            batoid.RotX(-rot)@batoid.RotY(alt)@batoid.RotZ(az)\n",
    "        )\n",
    "    )\n",
    "    f = dist*np.deg2rad(0.7)\n",
    "\n",
    "    # top hline\n",
    "    plotlineipv(ipv, ctf, dist, np.array([-1.5, 1.5])*f, 2.5*f*np.ones(2))\n",
    "    # middle hlines\n",
    "    plotlineipv(ipv, ctf, dist, np.array([-2.5, 2.5])*f, 1.5*f*np.ones(2))\n",
    "    plotlineipv(ipv, ctf, dist, np.array([-2.5, 2.5])*f, 0.5*f*np.ones(2))\n",
    "    plotlineipv(ipv, ctf, dist, np.array([-2.5, 2.5])*f, -0.5*f*np.ones(2))\n",
    "    plotlineipv(ipv, ctf, dist, np.array([-2.5, 2.5])*f, -1.5*f*np.ones(2))    \n",
    "    # bottom hline\n",
    "    plotlineipv(ipv, ctf, dist, np.array([-1.5, 1.5])*f, -2.5*f*np.ones(2))\n",
    "    # left vline\n",
    "    plotlineipv(ipv, ctf, dist, -2.5*f*np.ones(2), np.array([-1.5, 1.5])*f)\n",
    "    # middle vlines\n",
    "    plotlineipv(ipv, ctf, dist, -1.5*f*np.ones(2), np.array([-2.5, 2.5])*f)\n",
    "    plotlineipv(ipv, ctf, dist, -0.5*f*np.ones(2), np.array([-2.5, 2.5])*f)\n",
    "    plotlineipv(ipv, ctf, dist, 0.5*f*np.ones(2), np.array([-2.5, 2.5])*f)\n",
    "    plotlineipv(ipv, ctf, dist, 1.5*f*np.ones(2), np.array([-2.5, 2.5])*f)\n",
    "    # right vline\n",
    "    plotlineipv(ipv, ctf, dist, 2.5*f*np.ones(2), np.array([-1.5, 1.5])*f)"
   ]
  },
  {
   "cell_type": "code",
   "execution_count": 8,
   "metadata": {
    "ExecuteTime": {
     "end_time": "2020-01-30T00:53:26.659103Z",
     "start_time": "2020-01-30T00:53:26.638814Z"
    },
    "execution": {
     "iopub.execute_input": "2022-05-19T21:53:44.376684Z",
     "iopub.status.busy": "2022-05-19T21:53:44.376482Z",
     "iopub.status.idle": "2022-05-19T21:53:44.380259Z",
     "shell.execute_reply": "2022-05-19T21:53:44.379604Z",
     "shell.execute_reply.started": "2022-05-19T21:53:44.376665Z"
    },
    "tags": []
   },
   "outputs": [],
   "source": [
    "def plotlineax(ax, ctf, x, y):\n",
    "    x, y, z = np.broadcast_arrays(x, y, 0)\n",
    "    x, y, _ = ctf.applyForwardArray(x, y, z)\n",
    "    ax.plot(x, y, c='r')"
   ]
  },
  {
   "cell_type": "code",
   "execution_count": 9,
   "metadata": {
    "ExecuteTime": {
     "end_time": "2020-01-30T00:53:26.684018Z",
     "start_time": "2020-01-30T00:53:26.660249Z"
    },
    "execution": {
     "iopub.execute_input": "2022-05-19T21:53:44.381113Z",
     "iopub.status.busy": "2022-05-19T21:53:44.381027Z",
     "iopub.status.idle": "2022-05-19T21:53:44.386915Z",
     "shell.execute_reply": "2022-05-19T21:53:44.386127Z",
     "shell.execute_reply.started": "2022-05-19T21:53:44.381103Z"
    },
    "tags": []
   },
   "outputs": [],
   "source": [
    "def draw2dFP(ax, coordSys):\n",
    "    # Just has to be approximately right...\n",
    "    raftsize = 0.31527*2/5\n",
    "    ctf = batoid.CoordTransform(coordSys, batoid.globalCoordSys)\n",
    "    # top hline\n",
    "    plotlineax(ax, ctf, np.array([-1.5, 1.5])*raftsize, 2.5*raftsize)\n",
    "    # middle hlines\n",
    "    plotlineax(ax, ctf, np.array([-2.5, 2.5])*raftsize, 1.5*raftsize)\n",
    "    plotlineax(ax, ctf, np.array([-2.5, 2.5])*raftsize, 0.5*raftsize)\n",
    "    plotlineax(ax, ctf, np.array([-2.5, 2.5])*raftsize, -0.5*raftsize)\n",
    "    plotlineax(ax, ctf, np.array([-2.5, 2.5])*raftsize, -1.5*raftsize)\n",
    "    # bottom hline\n",
    "    plotlineax(ax, ctf, np.array([-1.5, 1.5])*raftsize, -2.5*raftsize)\n",
    "    # left vline\n",
    "    plotlineax(ax, ctf, -2.5*raftsize, np.array([-1.5, 1.5])*raftsize)\n",
    "    # middle vlines\n",
    "    plotlineax(ax, ctf, -1.5*raftsize, np.array([-2.5, 2.5])*raftsize)\n",
    "    plotlineax(ax, ctf, -0.5*raftsize, np.array([-2.5, 2.5])*raftsize)\n",
    "    plotlineax(ax, ctf, 0.5*raftsize, np.array([-2.5, 2.5])*raftsize)\n",
    "    plotlineax(ax, ctf, 1.5*raftsize, np.array([-2.5, 2.5])*raftsize)\n",
    "    # right vline\n",
    "    plotlineax(ax, ctf, 2.5*raftsize, np.array([-1.5, 1.5])*raftsize)    "
   ]
  },
  {
   "cell_type": "code",
   "execution_count": 10,
   "metadata": {
    "execution": {
     "iopub.execute_input": "2022-05-19T21:53:44.388493Z",
     "iopub.status.busy": "2022-05-19T21:53:44.387853Z",
     "iopub.status.idle": "2022-05-19T21:53:44.391813Z",
     "shell.execute_reply": "2022-05-19T21:53:44.391238Z",
     "shell.execute_reply.started": "2022-05-19T21:53:44.388475Z"
    },
    "tags": []
   },
   "outputs": [],
   "source": [
    "def drawAzimuthRing(ipv):\n",
    "    th = np.linspace(0, 2*np.pi, 100)\n",
    "    x_, y_ = np.cos(th), np.sin(th)\n",
    "    for d in [-0.1, 0.1]:\n",
    "        for r in [4.5, 5.0]:\n",
    "            x = x_*r\n",
    "            y = y_*r\n",
    "            z = d\n",
    "            ipv.plot(x, y, z, color='white')"
   ]
  },
  {
   "cell_type": "code",
   "execution_count": 11,
   "metadata": {
    "execution": {
     "iopub.execute_input": "2022-05-19T21:53:44.393174Z",
     "iopub.status.busy": "2022-05-19T21:53:44.393079Z",
     "iopub.status.idle": "2022-05-19T21:53:44.398597Z",
     "shell.execute_reply": "2022-05-19T21:53:44.397734Z",
     "shell.execute_reply.started": "2022-05-19T21:53:44.393165Z"
    },
    "tags": []
   },
   "outputs": [],
   "source": [
    "def drawElevationBearings(ipv, az):\n",
    "    th = np.linspace(0, 2*np.pi, 100)\n",
    "    x_, y_ = np.cos(th), np.sin(th)\n",
    "    for d in [4.4, 4.5]:\n",
    "        for r in [1.5, 1.75]:\n",
    "            x = -d\n",
    "            y = x_*r\n",
    "            z = y_*r            \n",
    "            z += 5.425  # height of elevation axis above azimuth ring\n",
    "            x, y = np.cos(np.pi/2-az)*x-np.sin(np.pi/2-az)*y, np.sin(np.pi/2-az)*x+np.cos(np.pi/2-az)*y\n",
    "            \n",
    "            ipv.plot(x, y, z, color='white')\n",
    "            ipv.plot(-x, -y, z, color='white')"
   ]
  },
  {
   "cell_type": "code",
   "execution_count": 12,
   "metadata": {
    "execution": {
     "iopub.execute_input": "2022-05-19T21:53:44.400945Z",
     "iopub.status.busy": "2022-05-19T21:53:44.400782Z",
     "iopub.status.idle": "2022-05-19T21:53:44.406642Z",
     "shell.execute_reply": "2022-05-19T21:53:44.405496Z",
     "shell.execute_reply.started": "2022-05-19T21:53:44.400929Z"
    },
    "tags": []
   },
   "outputs": [],
   "source": [
    "def drawAltAzGrid(ipv):\n",
    "    th = np.linspace(0, 2*np.pi, 100)\n",
    "    for alt in np.arange(0, 81, 10):\n",
    "        x = np.cos(th)*np.cos(np.deg2rad(alt))\n",
    "        y = np.sin(th)*np.cos(np.deg2rad(alt))\n",
    "        z = np.full_like(th, np.sin(np.deg2rad(alt)))\n",
    "        ipv.plot(x*dist, y*dist, z*dist, color='green')\n",
    "    th = np.linspace(0, np.pi/2, 50)\n",
    "    for az in np.linspace(0, 2*np.pi, 12, endpoint=False):\n",
    "        x = np.cos(az)*np.cos(th)\n",
    "        y = np.sin(az)*np.cos(th)\n",
    "        z = np.sin(th)\n",
    "        if az == 0:\n",
    "            ipv.plot(x*dist, y*dist, z*dist, color='red')\n",
    "        else:\n",
    "            ipv.plot(x*dist, y*dist, z*dist, color='green')"
   ]
  },
  {
   "cell_type": "code",
   "execution_count": 13,
   "metadata": {
    "execution": {
     "iopub.execute_input": "2022-05-19T21:53:44.407549Z",
     "iopub.status.busy": "2022-05-19T21:53:44.407395Z",
     "iopub.status.idle": "2022-05-19T21:53:44.411513Z",
     "shell.execute_reply": "2022-05-19T21:53:44.410856Z",
     "shell.execute_reply.started": "2022-05-19T21:53:44.407534Z"
    },
    "tags": []
   },
   "outputs": [],
   "source": [
    "def filter_xyz_horizon(x, y, z):\n",
    "    w = z>0\n",
    "    if np.any(w) and not np.all(w):\n",
    "        indices = np.where(np.diff(w.astype(int))==1)[0]\n",
    "        if len(indices) != 1:\n",
    "            idx = 0\n",
    "        else:\n",
    "            idx = indices[0]+1\n",
    "        w = np.roll(w, -idx)\n",
    "        x = np.roll(x, -idx)\n",
    "        y = np.roll(y, -idx)\n",
    "        z = np.roll(z, -idx)\n",
    "    return w, x, y, z"
   ]
  },
  {
   "cell_type": "code",
   "execution_count": 14,
   "metadata": {
    "execution": {
     "iopub.execute_input": "2022-05-19T21:53:44.417138Z",
     "iopub.status.busy": "2022-05-19T21:53:44.416754Z",
     "iopub.status.idle": "2022-05-19T21:53:44.423470Z",
     "shell.execute_reply": "2022-05-19T21:53:44.422754Z",
     "shell.execute_reply.started": "2022-05-19T21:53:44.417085Z"
    },
    "tags": []
   },
   "outputs": [],
   "source": [
    "def drawEqGrid(ipv, lat):\n",
    "    # Need to rotate around +y axis by 90-lat\n",
    "    ctf = batoid.CoordTransform(\n",
    "        batoid.globalCoordSys,\n",
    "        batoid.CoordSys(\n",
    "            (0,0,0), \n",
    "            batoid.RotY(-(np.pi/2-lat))\n",
    "        )\n",
    "    )\n",
    "    th = np.linspace(0, 2*np.pi, 100)\n",
    "    for alt in np.arange(-90, 91, 10):\n",
    "        x = np.cos(th)*np.cos(np.deg2rad(alt))\n",
    "        y = np.sin(th)*np.cos(np.deg2rad(alt))\n",
    "        z = np.full_like(th, np.sin(np.deg2rad(alt)))\n",
    "        x, y, z = ctf.applyForwardArray(x, y, z)\n",
    "        w, x, y, z = filter_xyz_horizon(x, y, z)\n",
    "        if np.any(w):\n",
    "            ipv.plot(x[w]*dist, y[w]*dist, z[w]*dist, color='blue')\n",
    "    for az in np.linspace(0, 2*np.pi, 12, endpoint=False):\n",
    "        x = np.cos(az)*np.cos(th)\n",
    "        y = np.sin(az)*np.cos(th)\n",
    "        z = np.sin(th)\n",
    "        x, y, z = ctf.applyForwardArray(x, y, z)\n",
    "        w, x, y, z = filter_xyz_horizon(x, y, z)\n",
    "        if np.any(w):\n",
    "            ipv.plot(x[w]*dist, y[w]*dist, z[w]*dist, color='blue')"
   ]
  },
  {
   "cell_type": "code",
   "execution_count": 15,
   "metadata": {
    "execution": {
     "iopub.execute_input": "2022-05-19T21:53:44.424865Z",
     "iopub.status.busy": "2022-05-19T21:53:44.424440Z",
     "iopub.status.idle": "2022-05-19T21:53:44.427891Z",
     "shell.execute_reply": "2022-05-19T21:53:44.427282Z",
     "shell.execute_reply.started": "2022-05-19T21:53:44.424847Z"
    },
    "tags": []
   },
   "outputs": [],
   "source": [
    "def getAzCS(az):\n",
    "    \"\"\"Return Azimuth Coordinate System (AzCS).  (LTS-136)\n",
    "\n",
    "    AzCS is defined by:\n",
    "        • +z towards zenith\n",
    "        • Telescope at horizon points towards +y\n",
    "        • +x completes RHR\n",
    "        • Origin at center of azimuth ring.\n",
    "        \n",
    "    Parameters\n",
    "    ----------\n",
    "    az : float\n",
    "        Azimuth in radians\n",
    "    \n",
    "    Returns\n",
    "    -------\n",
    "    batoid.CoordSys\n",
    "    \"\"\"\n",
    "    return batoid.CoordSys(\n",
    "        origin = [0, 0, 0],\n",
    "        rot = batoid.RotZ(np.pi/2-az)\n",
    "    )"
   ]
  },
  {
   "cell_type": "code",
   "execution_count": 16,
   "metadata": {
    "execution": {
     "iopub.execute_input": "2022-05-19T21:53:44.428765Z",
     "iopub.status.busy": "2022-05-19T21:53:44.428627Z",
     "iopub.status.idle": "2022-05-19T21:53:44.433383Z",
     "shell.execute_reply": "2022-05-19T21:53:44.432736Z",
     "shell.execute_reply.started": "2022-05-19T21:53:44.428744Z"
    },
    "tags": []
   },
   "outputs": [],
   "source": [
    "def getOpCS(alt, az):\n",
    "    \"\"\"Return Optical Coordinate System (OpCS).  (LTS-136)\n",
    "\n",
    "    OpCS is defined by:\n",
    "        • +x same as +x in AzCS\n",
    "        • +z along boresight, towards sky\n",
    "        • +y completes RHR        \n",
    "        • Origin at M1 vertex\n",
    "        \n",
    "    Parameters\n",
    "    ----------\n",
    "    alt : float\n",
    "        Altitude in radians\n",
    "    az : float\n",
    "        Azimuth in radians\n",
    "    \n",
    "    Returns\n",
    "    -------\n",
    "    batoid.CoordSys\n",
    "    \"\"\"\n",
    "    # Must be a better way to do this than using the complete telescope,\n",
    "    # but this works for now.\n",
    "    telescope = fiducial_telescope\n",
    "    telescope = telescope.withGlobalShift([0, 0, 3.53])  # Height of M1 vertex above azimuth ring\n",
    "    telescope = telescope.withLocalRotation(batoid.RotZ(np.pi/2-az))\n",
    "    telescope = telescope.withLocalRotation(batoid.RotX(np.pi/2-alt), rotOrigin=[0, 0, 5.425], coordSys=batoid.globalCoordSys)\n",
    "    return telescope['M1'].coordSys"
   ]
  },
  {
   "cell_type": "code",
   "execution_count": 17,
   "metadata": {
    "execution": {
     "iopub.execute_input": "2022-05-19T21:53:44.434280Z",
     "iopub.status.busy": "2022-05-19T21:53:44.434160Z",
     "iopub.status.idle": "2022-05-19T21:53:44.437004Z",
     "shell.execute_reply": "2022-05-19T21:53:44.436478Z",
     "shell.execute_reply.started": "2022-05-19T21:53:44.434265Z"
    },
    "tags": []
   },
   "outputs": [],
   "source": [
    "def getMCS():\n",
    "    \"\"\"Return Observatory Mount Coordinate System (MCS).  (LCA-280)\n",
    "    \n",
    "    MCS is the same as ipv axes, or batoid.globalCoordSys\n",
    "    \n",
    "    Defined by:\n",
    "        • +Z towards zenith\n",
    "        • +X towards North\n",
    "        • +Y from RHR (towards West)\n",
    "        • Origin at center of azimuth ring.\n",
    "        \n",
    "    Returns\n",
    "    -------\n",
    "    batoid.CoordSys\n",
    "    \"\"\"\n",
    "    return batoid.globalCoordSys"
   ]
  },
  {
   "cell_type": "code",
   "execution_count": 18,
   "metadata": {
    "execution": {
     "iopub.execute_input": "2022-05-19T21:53:44.438352Z",
     "iopub.status.busy": "2022-05-19T21:53:44.437743Z",
     "iopub.status.idle": "2022-05-19T21:53:44.441133Z",
     "shell.execute_reply": "2022-05-19T21:53:44.440502Z",
     "shell.execute_reply.started": "2022-05-19T21:53:44.438296Z"
    },
    "tags": []
   },
   "outputs": [],
   "source": [
    "def getTCS(alt, az):\n",
    "    \"\"\"Return Telescope Coordinate System (TCS).  (LCA-280)\n",
    "        \n",
    "    Defined by:\n",
    "        • +Z towards sky along optic axis.  Follows telescope.\n",
    "        • +X towards North when telescope parked.  Follows telescope.\n",
    "        • +Y from RHR (towards West when parked).  Follows telescope.\n",
    "        • Origin at M1 vertex\n",
    "\n",
    "    Parameters\n",
    "    ----------\n",
    "    alt : float\n",
    "        Altitude in radians\n",
    "    az : float\n",
    "        Azimuth in radians\n",
    "\n",
    "    Returns\n",
    "    -------\n",
    "    batoid.CoordSys\n",
    "    \"\"\"\n",
    "    return getOpCS(alt, az)"
   ]
  },
  {
   "cell_type": "code",
   "execution_count": 19,
   "metadata": {
    "execution": {
     "iopub.execute_input": "2022-05-19T21:53:44.441886Z",
     "iopub.status.busy": "2022-05-19T21:53:44.441804Z",
     "iopub.status.idle": "2022-05-19T21:53:44.444118Z",
     "shell.execute_reply": "2022-05-19T21:53:44.443720Z",
     "shell.execute_reply.started": "2022-05-19T21:53:44.441877Z"
    },
    "tags": []
   },
   "outputs": [],
   "source": [
    "def getZCS(alt, az):\n",
    "    \"\"\"Return Zemax Coordinate System (https://sitcomtn-003.lsst.io/)\n",
    "    \n",
    "    Defined by:\n",
    "        • +Z from sky towards M1M3\n",
    "        • +X same as \n",
    "    \n",
    "    \"\"\"\n",
    "    cs = getOpCS(alt, az).copy()\n",
    "    cs.rot[:, 0] *= -1\n",
    "    cs.rot[:, 2] *= -1\n",
    "    return cs"
   ]
  },
  {
   "cell_type": "code",
   "execution_count": 20,
   "metadata": {
    "execution": {
     "iopub.execute_input": "2022-05-19T21:53:44.444773Z",
     "iopub.status.busy": "2022-05-19T21:53:44.444660Z",
     "iopub.status.idle": "2022-05-19T21:53:44.449469Z",
     "shell.execute_reply": "2022-05-19T21:53:44.448006Z",
     "shell.execute_reply.started": "2022-05-19T21:53:44.444762Z"
    },
    "tags": []
   },
   "outputs": [],
   "source": [
    "def drawCoordSys(ipv, coordSys, length=2):\n",
    "    p0 = coordSys.origin\n",
    "    px = p0 + coordSys.rot @ (np.array([1, 0, 0]) * length)\n",
    "    py = p0 + coordSys.rot @ (np.array([0, 1, 0]) * length)\n",
    "    pz = p0 + coordSys.rot @ (np.array([0, 0, 1]) * length)\n",
    "    csx = ipv.plot(*np.vstack([p0, px]).T, color='blue')\n",
    "    csy = ipv.plot(*np.vstack([p0, py]).T, color='red')\n",
    "    csz = ipv.plot(*np.vstack([p0, pz]).T, color='white')\n",
    "    return csx, csy, csz"
   ]
  },
  {
   "cell_type": "code",
   "execution_count": 21,
   "metadata": {
    "execution": {
     "iopub.execute_input": "2022-05-19T21:53:44.450782Z",
     "iopub.status.busy": "2022-05-19T21:53:44.450469Z",
     "iopub.status.idle": "2022-05-19T21:53:44.454204Z",
     "shell.execute_reply": "2022-05-19T21:53:44.453618Z",
     "shell.execute_reply.started": "2022-05-19T21:53:44.450770Z"
    },
    "tags": []
   },
   "outputs": [],
   "source": [
    "def ten(s):\n",
    "    ss = s.split()\n",
    "    h = ss[0]\n",
    "    m = ss[1]\n",
    "    s = ss[2]\n",
    "    return float(h) + float(m)/60 + float(s)/3600"
   ]
  },
  {
   "cell_type": "code",
   "execution_count": 22,
   "metadata": {
    "execution": {
     "iopub.execute_input": "2022-05-19T21:53:44.455077Z",
     "iopub.status.busy": "2022-05-19T21:53:44.454993Z",
     "iopub.status.idle": "2022-05-19T21:53:44.462692Z",
     "shell.execute_reply": "2022-05-19T21:53:44.462269Z",
     "shell.execute_reply.started": "2022-05-19T21:53:44.455068Z"
    },
    "tags": []
   },
   "outputs": [],
   "source": [
    "# del drawConstellations\n",
    "def drawConstellations(ipv, lat):\n",
    "    ctf = batoid.CoordTransform(\n",
    "        batoid.globalCoordSys,\n",
    "        batoid.CoordSys(\n",
    "            (0,0,0), \n",
    "            batoid.RotY(-(np.pi/2-lat))\n",
    "        )\n",
    "    )\n",
    "\n",
    "    if not hasattr(drawConstellations, 'data'):\n",
    "        from astroquery.simbad import Simbad\n",
    "        Simbad.add_votable_fields('typed_id')\n",
    "        out = Simbad.query_objects([\"HIP 67301\", \"HIP 65378\"])\n",
    "        HIPset = set()\n",
    "        with open(\"constellationship.fab\") as f:\n",
    "            lines = f.readlines()\n",
    "        for line in lines:\n",
    "            HIPset.update([int(s) for s in line.split()[2:]])\n",
    "        HIPlist = list(HIPset)\n",
    "        data = Simbad.query_objects(\n",
    "            [f\"HIP {s}\" for s in HIPlist]\n",
    "        )\n",
    "        data['HIPID'] = HIPlist\n",
    "        drawConstellations.data = data\n",
    "        drawConstellations.lines = lines\n",
    "    data = drawConstellations.data\n",
    "    lines = drawConstellations.lines\n",
    "    for line in lines:\n",
    "        endpoints = iter(line.split()[2:])        \n",
    "        for first in endpoints:\n",
    "            second = next(endpoints)\n",
    "            firstrow = data[np.nonzero(data['HIPID'] == int(first))]\n",
    "            secondrow = data[np.nonzero(data['HIPID'] == int(second))]\n",
    "            ra0 = np.deg2rad(15*ten(firstrow['RA'][0]))\n",
    "            dec0 = np.deg2rad(ten(firstrow['DEC'][0]))\n",
    "            ra1 = np.deg2rad(15*ten(secondrow['RA'][0]))\n",
    "            dec1 = np.deg2rad(ten(secondrow['DEC'][0]))\n",
    "            x0 = np.cos(ra0)*np.cos(dec0)\n",
    "            y0 = np.sin(ra0)*np.cos(dec0)\n",
    "            z0 = np.sin(dec0)\n",
    "            x1 = np.cos(ra1)*np.cos(dec1)\n",
    "            y1 = np.sin(ra1)*np.cos(dec1)\n",
    "            z1 = np.sin(dec1)\n",
    "            \n",
    "            x = np.array([x0, x1])*dist\n",
    "            y = np.array([y0, y1])*dist\n",
    "            z = np.array([z0, z1])*dist\n",
    "            x, y, z = ctf.applyForwardArray(x, y, z)\n",
    "            if np.any(z<0):\n",
    "                continue\n",
    "\n",
    "            ipv.plot(x, y, z, color='white')"
   ]
  },
  {
   "cell_type": "code",
   "execution_count": 54,
   "metadata": {
    "execution": {
     "iopub.execute_input": "2022-05-19T22:24:59.694663Z",
     "iopub.status.busy": "2022-05-19T22:24:59.693954Z",
     "iopub.status.idle": "2022-05-19T22:24:59.717434Z",
     "shell.execute_reply": "2022-05-19T22:24:59.716660Z",
     "shell.execute_reply.started": "2022-05-19T22:24:59.694635Z"
    },
    "tags": []
   },
   "outputs": [],
   "source": [
    "def show_coord_sys(\n",
    "    rot, alt, az, thx, thy\n",
    "):\n",
    "    lat = np.deg2rad(-30.2446)\n",
    "    telescope = fiducial_telescope\n",
    "    telescope = telescope.withGlobalShift([0, 0, 3.53])  # Height of M1 vertex above azimuth ring\n",
    "    telescope = telescope.withLocallyRotatedOptic(\"LSSTCamera\", batoid.RotZ(rot))\n",
    "    telescope = telescope.withLocalRotation(batoid.RotZ(np.pi/2-az))\n",
    "    telescope = telescope.withLocalRotation(batoid.RotX(np.pi/2-alt), rotOrigin=[0, 0, 5.425], coordSys=batoid.globalCoordSys)\n",
    "\n",
    "    rays = xyfan(telescope, thx, thy, 30)\n",
    "    traceFull = telescope.traceFull(rays)\n",
    "\n",
    "    ipvfig = ipv.figure(width=600, height=450)\n",
    "    \n",
    "    drawAzimuthRing(ipv)\n",
    "    drawElevationBearings(ipv, az)    \n",
    "    telescope.draw3d(ipv, color='white')\n",
    "\n",
    "    batoid.drawTrace3d(ipv, traceFull, color='blue')\n",
    "\n",
    "    # extent rays all the way back to the Celestial sphere\n",
    "    w = ~traceFull['M1']['out'].vignetted\n",
    "    rays = rays.toCoordSys(batoid.globalCoordSys)\n",
    "    p0 = rays[w].r\n",
    "    p1 = rays[w].positionAtTime(-dist)\n",
    "    for _p0, _p1 in zip(p0, p1):\n",
    "        ipv.plot(*np.vstack([_p0, _p1]).T, color='blue')\n",
    "    \n",
    "    draw3dFP(ipv, telescope['Detector'].coordSys)\n",
    "    drawSkyFP(ipv, alt, az, rot)\n",
    "    \n",
    "    drawAltAzGrid(ipv)\n",
    "    drawEqGrid(ipv, lat)\n",
    "\n",
    "    AzCS = getAzCS(az)\n",
    "    AzCS = batoid.CoordSys(\n",
    "        origin = [0, 0, 0],\n",
    "        rot = batoid.RotZ(np.pi/2-az)\n",
    "    )\n",
    "    AzCSWidgets = drawCoordSys(ipv, AzCS)\n",
    "    OpCS = getOpCS(alt, az)\n",
    "    OpCSWidgets = drawCoordSys(ipv, OpCS)                         \n",
    "    MCS = getMCS()\n",
    "    MCSWidgets = drawCoordSys(ipv, MCS)\n",
    "    TCS = getTCS(alt, az)\n",
    "    TCSWidgets = drawCoordSys(ipv, TCS)\n",
    "    CCSWidgets = drawCoordSys(ipv, telescope['LSSTCamera'].coordSys)            \n",
    "    ZCS = getZCS(alt, az)\n",
    "    ZCSWidgets = drawCoordSys(ipv, ZCS)\n",
    "            \n",
    "    drawConstellations(ipv, lat)\n",
    "            \n",
    "    gcc = ipv.gcc()\n",
    "    ipv.xlim(-8, 8)\n",
    "    ipv.ylim(-8, 8)\n",
    "    ipv.zlim(0, 16)\n",
    "    ipv.style.axes_off()\n",
    "    ipv.style.box_off()\n",
    "    ipv.style.set_style_dark()\n",
    "    ipvfig.camera.position = (-1.5254697593501128, -1.2928322819658806, 0.03907305996705254)\n",
    "    ipvfig.camera.rotation = (-1.2237988550857888, -1.3392070664612021, -2.763432436269493, 'XYZ')\n",
    "\n",
    "    doAzCSBox = ipywidgets.Checkbox(True, description=\"AzCS\")\n",
    "    doOpCSBox = ipywidgets.Checkbox(True, description=\"OpCS\")\n",
    "    doMCSBox = ipywidgets.Checkbox(True, description=\"MCS\")\n",
    "    doTCSBox = ipywidgets.Checkbox(True, description=\"TCS\")\n",
    "    doCCSBox = ipywidgets.Checkbox(True, description=\"CCS\")\n",
    "    doZCSBox = ipywidgets.Checkbox(True, description=\"ZCS\")\n",
    "    \n",
    "    def showCS(value, CS):\n",
    "        CS[0].visible = not CS[0].visible\n",
    "        CS[1].visible = not CS[1].visible\n",
    "        CS[2].visible = not CS[2].visible\n",
    "    \n",
    "    doAzCSBox.observe(lambda change: showCS(change, AzCSWidgets), 'value')\n",
    "    doOpCSBox.observe(lambda change: showCS(change, OpCSWidgets), 'value')\n",
    "    doMCSBox.observe(lambda change: showCS(change, MCSWidgets), 'value')\n",
    "    doTCSBox.observe(lambda change: showCS(change, TCSWidgets), 'value')\n",
    "    doCCSBox.observe(lambda change: showCS(change, CCSWidgets), 'value')\n",
    "    doZCSBox.observe(lambda change: showCS(change, ZCSWidgets), 'value')\n",
    "    \n",
    "    return ipywidgets.HBox([gcc, ipywidgets.VBox([doAzCSBox, doOpCSBox, doMCSBox, doTCSBox, doCCSBox, doZCSBox])])"
   ]
  },
  {
   "cell_type": "code",
   "execution_count": 56,
   "metadata": {
    "execution": {
     "iopub.execute_input": "2022-05-20T00:06:38.895826Z",
     "iopub.status.busy": "2022-05-20T00:06:38.895519Z",
     "iopub.status.idle": "2022-05-20T00:06:43.666323Z",
     "shell.execute_reply": "2022-05-20T00:06:43.665629Z",
     "shell.execute_reply.started": "2022-05-20T00:06:38.895801Z"
    },
    "tags": []
   },
   "outputs": [
    {
     "data": {
      "application/vnd.jupyter.widget-view+json": {
       "model_id": "50b5bc1c40704f319a4dad3b50a1a12b",
       "version_major": 2,
       "version_minor": 0
      },
      "text/plain": [
       "HBox(children=(VBox(children=(Figure(camera=PerspectiveCamera(fov=45.0, position=(-1.5254697593501128, -1.2928…"
      ]
     },
     "metadata": {},
     "output_type": "display_data"
    }
   ],
   "source": [
    "# rot = 0.7485759992183523 \n",
    "rot = 0.1\n",
    "alt = 0.8010022880203016 \n",
    "az = 1.8888812762063498 \n",
    "\n",
    "thx = np.deg2rad(0.0)\n",
    "thy = np.deg2rad(1.75)\n",
    "show_coord_sys(rot, alt, az, thx, thy)"
   ]
  },
  {
   "cell_type": "code",
   "execution_count": null,
   "metadata": {},
   "outputs": [],
   "source": []
  }
 ],
 "metadata": {
  "kernelspec": {
   "display_name": "Python 3 (ipykernel)",
   "language": "python",
   "name": "python3"
  },
  "language_info": {
   "codemirror_mode": {
    "name": "ipython",
    "version": 3
   },
   "file_extension": ".py",
   "mimetype": "text/x-python",
   "name": "python",
   "nbconvert_exporter": "python",
   "pygments_lexer": "ipython3",
   "version": "3.8.12"
  }
 },
 "nbformat": 4,
 "nbformat_minor": 4
}
