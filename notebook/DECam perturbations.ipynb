{
 "cells": [
  {
   "cell_type": "code",
   "execution_count": null,
   "metadata": {
    "ExecuteTime": {
     "end_time": "2018-04-19T06:39:49.050210Z",
     "start_time": "2018-04-19T06:39:48.419404Z"
    }
   },
   "outputs": [],
   "source": [
    "import batoid\n",
    "import os\n",
    "import yaml\n",
    "import numpy as np\n",
    "from IPython.display import display\n",
    "from ipywidgets import interact, interactive_output\n",
    "import ipywidgets as widgets\n",
    "import matplotlib.pyplot as plt\n",
    "%matplotlib inline"
   ]
  },
  {
   "cell_type": "code",
   "execution_count": null,
   "metadata": {
    "ExecuteTime": {
     "end_time": "2018-04-19T06:39:49.585742Z",
     "start_time": "2018-04-19T06:39:49.051908Z"
    }
   },
   "outputs": [],
   "source": [
    "try:\n",
    "    import galsim\n",
    "except:\n",
    "    has_galsim = False\n",
    "else:\n",
    "    has_galsim = True"
   ]
  },
  {
   "cell_type": "code",
   "execution_count": null,
   "metadata": {
    "ExecuteTime": {
     "end_time": "2018-04-19T06:39:49.647586Z",
     "start_time": "2018-04-19T06:39:49.587448Z"
    }
   },
   "outputs": [],
   "source": [
    "DECAM_fn = os.path.join(batoid.datadir, \"DECam\", \"DECam.yaml\")\n",
    "config = yaml.load(open(DECAM_fn))\n",
    "fiducial_telescope = batoid.parse.parse_optic(config['opticalSystem'])"
   ]
  },
  {
   "cell_type": "code",
   "execution_count": null,
   "metadata": {
    "ExecuteTime": {
     "end_time": "2018-04-19T06:39:49.698952Z",
     "start_time": "2018-04-19T06:39:49.649603Z"
    }
   },
   "outputs": [],
   "source": [
    "def spotPlot(telescope, wavelength, theta_x, theta_y, logscale, ax):\n",
    "    xcos = np.sin(theta_x*np.pi/180)\n",
    "    ycos = np.sin(theta_y*np.pi/180)\n",
    "    zcos = -np.sqrt(1.0 - xcos**2 - ycos**2)\n",
    "    rays = batoid.circularGrid(\n",
    "        telescope.dist, telescope.pupil_size/2, telescope.pupil_size/2*telescope.pupil_obscuration, \n",
    "        xcos, ycos, zcos,\n",
    "        48, 192, wavelength*1e-9, telescope.inMedium\n",
    "    )\n",
    "\n",
    "    rs, _ = telescope.trace(rays)\n",
    "    rs = batoid.trimVignetted(rs)\n",
    "    spots = np.vstack([rs.x, rs.y])\n",
    "    spots = np.array(spots)\n",
    "    spots -= np.mean(spots, axis=1)[:,None]\n",
    "    spots *= 1e6 # meters -> microns\n",
    "\n",
    "    ax.scatter(spots[0], spots[1], s=1, alpha=0.5)\n",
    "    ax.set_xlim(-10**logscale, 10**logscale)\n",
    "    ax.set_ylim(-10**logscale, 10**logscale)\n",
    "    ax.set_title(r\"$\\theta_x = {:4.2f}\\,,\\theta_y = {:4.2f}$\".format(theta_x, theta_y))\n",
    "    ax.set_xlabel(\"microns\")\n",
    "    ax.set_ylabel(\"microns\")"
   ]
  },
  {
   "cell_type": "code",
   "execution_count": null,
   "metadata": {
    "ExecuteTime": {
     "end_time": "2018-04-19T06:39:49.727539Z",
     "start_time": "2018-04-19T06:39:49.700735Z"
    }
   },
   "outputs": [],
   "source": [
    "def wavefrontPlot(telescope, wavelength, theta_x, theta_y, ax):\n",
    "    nx = 128\n",
    "    wfplot = ax.imshow(\n",
    "        batoid.wavefront(\n",
    "            telescope, wavelength*1e-9, \n",
    "            theta_x=theta_x, theta_y=theta_y,\n",
    "            nx=nx).reshape(nx, nx),\n",
    "        extent=np.r_[-1,1,-1,1]*telescope.pupil_size/2\n",
    "    )\n",
    "    plt.colorbar(wfplot, ax=ax)"
   ]
  },
  {
   "cell_type": "code",
   "execution_count": null,
   "metadata": {
    "ExecuteTime": {
     "end_time": "2018-04-19T06:39:49.758377Z",
     "start_time": "2018-04-19T06:39:49.729446Z"
    }
   },
   "outputs": [],
   "source": [
    "def fftPSFPlot(telescope, wavelength, theta_x, theta_y, ax):\n",
    "    nx=32\n",
    "    scale, fftPSF = batoid.fftPSF(telescope, wavelength*1e-9, theta_x, theta_y, nx=nx)\n",
    "    nxout = fftPSF.shape[0]\n",
    "    fftPSF /= np.sum(fftPSF)\n",
    "    fftplot = ax.imshow(\n",
    "        fftPSF,\n",
    "        extent=np.r_[-1,1,-1,1]*scale*nxout/2*206265*10/0.2\n",
    "    )\n",
    "    ax.set_title(\"FFT PSF\")\n",
    "    plt.colorbar(fftplot, ax=ax)"
   ]
  },
  {
   "cell_type": "code",
   "execution_count": null,
   "metadata": {
    "ExecuteTime": {
     "end_time": "2018-04-19T06:39:49.831786Z",
     "start_time": "2018-04-19T06:39:49.760003Z"
    }
   },
   "outputs": [],
   "source": [
    "def huygensPSFPlot(telescope, wavelength, theta_x, theta_y, ax):\n",
    "    nx=32\n",
    "    scale = wavelength*1e-9/(telescope.pupil_size*2)\n",
    "    xcos = np.sin(theta_x*np.pi/180)\n",
    "    ycos = np.sin(theta_y*np.pi/180)\n",
    "    zcos = -np.sqrt(1.0 - xcos**2 - ycos**2)\n",
    "    orig_rays = batoid.circularGrid(\n",
    "        telescope.dist, telescope.pupil_size/2, telescope.pupil_size/2*telescope.pupil_obscuration, \n",
    "        xcos, ycos, zcos,\n",
    "        24, 48, wavelength*1e-9, telescope.inMedium\n",
    "    )\n",
    "    traced_rays, _ = telescope.trace(orig_rays)    \n",
    "    goodRays = batoid.trimVignetted(traced_rays)\n",
    "    xmean = np.mean(goodRays.x)\n",
    "    ymean = np.mean(goodRays.y)\n",
    "    L = 2*scale*nx*206265 # arcsec\n",
    "    L *= 15/0.27 # microns\n",
    "    dx = L / nx\n",
    "\n",
    "    xs = np.linspace(xmean-L/2*1e-6, xmean+L/2*1e-6, nx*2)\n",
    "    ys = np.linspace(ymean-L/2*1e-6, ymean+L/2*1e-6, nx*2)\n",
    "    xs, ys = np.meshgrid(xs, ys)\n",
    "    xs -= dx*1e-6/4\n",
    "    ys -= dx*1e-6/4\n",
    "\n",
    "    huygensPSF = batoid.huygensPSF(telescope, xs=xs, ys=ys, zs=None, rays=orig_rays, saveRays=False)\n",
    "    huygensPSF /= np.sum(huygensPSF)\n",
    "    \n",
    "    huygensplot = plt.imshow(\n",
    "        huygensPSF,\n",
    "        extent=np.r_[-1,1,-1,1]*L/2\n",
    "    )\n",
    "    ax.set_title(\"Huygens PSF\")\n",
    "    plt.colorbar(huygensplot, ax=ax)    "
   ]
  },
  {
   "cell_type": "code",
   "execution_count": null,
   "metadata": {
    "ExecuteTime": {
     "end_time": "2018-04-19T06:39:52.433967Z",
     "start_time": "2018-04-19T06:39:49.833642Z"
    },
    "scrolled": false
   },
   "outputs": [],
   "source": [
    "what = dict(\n",
    "    do_spot = widgets.Checkbox(value=True, description='Spot'),\n",
    "    do_wavefront = widgets.Checkbox(value=True, description='Wavefront'),\n",
    "    do_fftPSF = widgets.Checkbox(value=True, description='FFT PSF'),\n",
    "    do_huygensPSF = widgets.Checkbox(value=True, description='Huygens PSF')\n",
    ")\n",
    "where = dict(\n",
    "    wavelength=widgets.FloatSlider(min=300.0,max=1100.0,step=25.0,value=625.0, description=\"$\\lambda$ (nm)\"),\n",
    "    theta_x=widgets.FloatSlider(min=-1.1,max=1.1,step=0.1,value=-0.5, description=\"$\\\\theta_x (deg)$\"),\n",
    "    theta_y=widgets.FloatSlider(min=-1.1,max=1.1,step=0.1,value=0.0, description=\"$\\\\theta_y (deg)$\"),\n",
    "    logscale=widgets.FloatSlider(min=1, max=3, step=0.1, value=1, description=\"scale\")\n",
    ")\n",
    "perturb = dict(\n",
    "    optic=widgets.Dropdown(\n",
    "        options=fiducial_telescope.itemDict.keys(), \n",
    "        value='BlancoDECam.DECam'\n",
    "    ),\n",
    "    dx=widgets.FloatSlider(min=-0.2, max=0.2, step=0.05, value=0.0, description=\"dx ($mm$)\"),\n",
    "    dy=widgets.FloatSlider(min=-0.2, max=0.2, step=0.05, value=0.0, description=\"dy ($mm$)\"),\n",
    "    dz=widgets.FloatSlider(min=-100, max=100, step=1, value=0.0, description=\"dz ($\\mu m$)\"),\n",
    "    dthx=widgets.FloatSlider(min=-1, max=1, step=0.1, value=0.0, description=\"d$\\phi_x$ (arcmin)\"),\n",
    "    dthy=widgets.FloatSlider(min=-1, max=1, step=0.1, value=0.0, description=\"d$\\phi_y$ (arcmin)\"),\n",
    ")\n",
    "\n",
    "def f(do_spot, do_wavefront, do_fftPSF, do_huygensPSF,\n",
    "    wavelength, theta_x, theta_y, optic, dx, dy, dz, dthx, dthy, logscale, **kwargs):\n",
    "\n",
    "    telescope = (fiducial_telescope\n",
    "            .withGloballyShiftedOptic(optic, batoid.Vec3(dx*1e-3, dy*1e-3, dz*1e-6))\n",
    "            .withLocallyRotatedOptic(optic, batoid.RotX(dthx*np.pi/180/60)*batoid.RotY(dthy*np.pi/180/60))\n",
    "    )\n",
    "    telescope.dist = 20.0\n",
    "    telescope.pupil_size = 4.1\n",
    "    telescope.pupil_obscuration = 0.1\n",
    "    telescope.sphereRadius = 10.5\n",
    "\n",
    "    nplot = sum([do_spot, do_wavefront, do_fftPSF, do_huygensPSF])\n",
    "    \n",
    "    if nplot > 0:\n",
    "        fig, axes = plt.subplots(ncols=nplot, figsize=(4*nplot, 4), squeeze=False)\n",
    "\n",
    "        iax = 0\n",
    "        if do_spot:\n",
    "            ax = axes.ravel()[iax]\n",
    "            spotPlot(telescope, wavelength, theta_x, theta_y, logscale, ax)\n",
    "            iax += 1\n",
    "\n",
    "        if do_wavefront:\n",
    "            ax = axes.ravel()[iax]\n",
    "            wavefrontPlot(telescope, wavelength, theta_x, theta_y, ax)\n",
    "            iax += 1\n",
    "\n",
    "        if do_fftPSF:\n",
    "            ax = axes.ravel()[iax]\n",
    "            fftPSFPlot(telescope, wavelength, theta_x, theta_y, ax)\n",
    "            iax += 1\n",
    "\n",
    "        if do_huygensPSF:\n",
    "            ax = axes.ravel()[iax]\n",
    "            huygensPSFPlot(telescope, wavelength, theta_x, theta_y, ax)\n",
    "\n",
    "        fig.tight_layout()\n",
    "\n",
    "all_widgets = {}\n",
    "for d in [what, where, perturb]:\n",
    "    for k in d:\n",
    "        all_widgets[k] = d[k]\n",
    "\n",
    "output = interactive_output(f, all_widgets)\n",
    "display(widgets.VBox([widgets.HBox([\n",
    "    widgets.VBox([v for v in what.values()]), \n",
    "    widgets.VBox([v for v in where.values()]), \n",
    "    widgets.VBox([v for v in perturb.values()])]),\n",
    "    output])\n",
    ")"
   ]
  },
  {
   "cell_type": "code",
   "execution_count": null,
   "metadata": {
    "ExecuteTime": {
     "end_time": "2018-04-19T06:39:52.687945Z",
     "start_time": "2018-04-19T06:39:52.436647Z"
    },
    "scrolled": false
   },
   "outputs": [],
   "source": [
    "if has_galsim:  \n",
    "    @interact(wavelen=widgets.FloatSlider(min=300.0,max=1100.0,step=25.0,value=625.0, \n",
    "                                          description=\"$\\lambda$ (nm)\"),\n",
    "              theta_x=widgets.FloatSlider(min=-1.1,max=1.1,step=0.1,value=-0.5, \n",
    "                                          description=\"$\\\\theta_x (deg)$\"),\n",
    "              theta_y=widgets.FloatSlider(min=-1.1,max=1.1,step=0.1,value=0.0, \n",
    "                                          description=\"$\\\\theta_y (deg)$\"),\n",
    "              optic=widgets.Dropdown(\n",
    "                  options=fiducial_telescope.itemDict.keys(), \n",
    "                  value='BlancoDECam.DECam'\n",
    "              ),\n",
    "              dx=widgets.FloatSlider(min=-0.2, max=0.2, step=0.05, value=0.0, \n",
    "                                     description=\"dx ($mm$)\"),\n",
    "              dy=widgets.FloatSlider(min=-0.2, max=0.2, step=0.05, value=0.0, \n",
    "                                     description=\"dy ($mm$)\"),\n",
    "              dz=widgets.FloatSlider(min=-100, max=100, step=1, value=0.0, \n",
    "                                     description=\"dz ($\\mu m$)\"),\n",
    "              dthx=widgets.FloatSlider(min=-1, max=1, step=0.1, value=0.0, \n",
    "                                       description=\"d$\\phi_x$ (arcmin)\"),\n",
    "              dthy=widgets.FloatSlider(min=-1, max=1, step=0.1, value=0.0, \n",
    "                                       description=\"d$\\phi_y$ (arcmin)\"))\n",
    "    def zernike(wavelen, theta_x, theta_y, optic, dx, dy, dz, dthx, dthy):\n",
    "        telescope = (fiducial_telescope\n",
    "                .withGloballyShiftedOptic(optic, batoid.Vec3(dx*1e-3, dy*1e-3, dz*1e-6))\n",
    "                .withLocallyRotatedOptic(\n",
    "                        optic, \n",
    "                        batoid.RotX(dthx*np.pi/180/60)*batoid.RotY(dthy*np.pi/180/60)\n",
    "                )\n",
    "        )\n",
    "\n",
    "        telescope.dist = 20.0\n",
    "        telescope.pupil_size = 4.1\n",
    "        telescope.sphereRadius = 10.5\n",
    "\n",
    "        z = batoid.zernike(telescope, wavelen*1e-9, theta_x, theta_y, jmax=22, eps=0.1, nx=128)\n",
    "        for i in range(1, len(z)//2):\n",
    "            print(\"{:6d}   {:6.3f}      {:6d}  {:6.3f}\".format(i, z[i], i+12, z[i+12]))"
   ]
  },
  {
   "cell_type": "code",
   "execution_count": null,
   "metadata": {
    "ExecuteTime": {
     "end_time": "2018-04-19T06:45:03.359138Z",
     "start_time": "2018-04-19T06:44:58.340768Z"
    }
   },
   "outputs": [],
   "source": [
    "if has_galsim:\n",
    "    @interact(wavelen=widgets.FloatSlider(min=300.0,max=1100.0,step=25.0,value=625.0, \n",
    "                                          description=\"$\\lambda$ (nm)\"),\n",
    "              zindex=widgets.IntSlider(min=4,max=22,value=9),\n",
    "              optic=widgets.Dropdown(\n",
    "                  options=fiducial_telescope.itemDict.keys(), \n",
    "                  value='BlancoDECam.DECam'\n",
    "              ),\n",
    "              dx=widgets.FloatSlider(min=-0.2, max=0.2, step=0.05, value=0.0,\n",
    "                                     description=\"dx ($mm$)\"),\n",
    "              dy=widgets.FloatSlider(min=-0.2, max=0.2, step=0.05, value=0.0,\n",
    "                                     description=\"dy ($mm$)\"),\n",
    "              dz=widgets.FloatSlider(min=-100, max=100, step=1, value=0.0,\n",
    "                                     description=\"dz ($\\mu m$)\"),\n",
    "              dthx=widgets.FloatSlider(min=-1, max=1, step=0.1, value=0.0,\n",
    "                                       description=\"d$\\phi_x$ (arcmin)\"),\n",
    "              dthy=widgets.FloatSlider(min=-1, max=1, step=0.1, value=0.0,\n",
    "                                       description=\"d$\\phi_y$ (arcmin)\"))\n",
    "    def zFoV(wavelen, zindex, optic, dx, dy, dz, dthx, dthy):\n",
    "        telescope = (fiducial_telescope\n",
    "                     .withGloballyShiftedOptic(optic, batoid.Vec3(dx*1e-3, dy*1e-3, dz*1e-6))\n",
    "                     .withLocallyRotatedOptic(\n",
    "                             optic, \n",
    "                             batoid.RotX(dthx*np.pi/180/60)*batoid.RotY(dthy*np.pi/180/60)\n",
    "                     )\n",
    "        )\n",
    "\n",
    "        telescope.dist = 20.0\n",
    "        telescope.pupil_size = 4.1\n",
    "        telescope.sphereRadius = 10.5\n",
    "\n",
    "        thxs = np.linspace(-1.1, 1.1, 20)\n",
    "        thys = np.linspace(-1.1, 1.1, 20)\n",
    "\n",
    "        img = np.zeros((20, 20), dtype=float)\n",
    "        for ix, thx in enumerate(thxs):\n",
    "            for iy, thy in enumerate(thys):\n",
    "                if np.hypot(thx, thy) > 1.1: \n",
    "                    continue\n",
    "                z = batoid.zernike(telescope, wavelen*1e-9, thx, thy, jmax=22, eps=0.1)\n",
    "                img[ix, iy] = z[zindex]\n",
    "\n",
    "        plt.imshow(img, vmin=-0.5, vmax=0.5, cmap='Spectral_r', extent=np.r_[-1,1,-1,1]*1.7)\n",
    "        plt.title(\"$Z_{{{}}}$\".format(zindex))\n",
    "        plt.colorbar()\n",
    "        plt.show()"
   ]
  },
  {
   "cell_type": "code",
   "execution_count": null,
   "metadata": {},
   "outputs": [],
   "source": []
  }
 ],
 "metadata": {
  "anaconda-cloud": {},
  "kernelspec": {
   "display_name": "Python 3",
   "language": "python",
   "name": "python3"
  },
  "language_info": {
   "codemirror_mode": {
    "name": "ipython",
    "version": 3
   },
   "file_extension": ".py",
   "mimetype": "text/x-python",
   "name": "python",
   "nbconvert_exporter": "python",
   "pygments_lexer": "ipython3",
   "version": "3.6.2"
  },
  "widgets": {
   "state": {
    "bf032f0236b24ec8b012732196da0aeb": {
     "views": [
      {
       "cell_index": 7
      }
     ]
    },
    "e58d73c5a90d4ac2b12b81970dba2174": {
     "views": [
      {
       "cell_index": 5
      }
     ]
    }
   },
   "version": "1.2.0"
  }
 },
 "nbformat": 4,
 "nbformat_minor": 1
}
