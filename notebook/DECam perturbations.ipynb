{
 "cells": [
  {
   "cell_type": "code",
   "execution_count": null,
   "metadata": {
    "collapsed": true
   },
   "outputs": [],
   "source": [
    "import jtrace\n",
    "import os\n",
    "import numpy as np\n",
    "from ipywidgets import interact\n",
    "import ipywidgets as widgets\n",
    "import matplotlib.pyplot as plt\n",
    "%matplotlib inline"
   ]
  },
  {
   "cell_type": "code",
   "execution_count": null,
   "metadata": {
    "collapsed": true
   },
   "outputs": [],
   "source": [
    "DECAM_fn = os.path.join(jtrace.datadir, \"decam\", \"DECam.yaml\")\n",
    "fiducial_telescope = jtrace.Telescope.makeFromYAML(DECAM_fn)"
   ]
  },
  {
   "cell_type": "code",
   "execution_count": null,
   "metadata": {
    "collapsed": true
   },
   "outputs": [],
   "source": [
    "air = jtrace.Air()\n",
    "def rays(theta_x, theta_y, wavelength):\n",
    "    return jtrace.parallelRays(z=1, outer=1.9, inner=0.5, \n",
    "                               theta_x=theta_x, theta_y=theta_y, wavelength=wavelength,\n",
    "                               medium=air, nradii=40, naz=256)"
   ]
  },
  {
   "cell_type": "code",
   "execution_count": null,
   "metadata": {
    "collapsed": true
   },
   "outputs": [],
   "source": [
    "def perturb(M1_dx=0, M1_dy=0,\n",
    "            cam_dx=0, cam_dy=0, cam_dz=0):\n",
    "    telescope = fiducial_telescope\n",
    "    if not (M1_dx == M1_dy == 0):\n",
    "        telescope = telescope.withShift('M1', M1_dx, M1_dy, 0.0)\n",
    "    if not (cam_dx == cam_dy == cam_dz == 0):\n",
    "        telescope = (telescope\n",
    "                     .withShift('C1', cam_dx, cam_dy, cam_dz)\n",
    "                     .withShift('C1E', cam_dx, cam_dy, cam_dz)\n",
    "                     .withShift('C2', cam_dx, cam_dy, cam_dz)\n",
    "                     .withShift('C2E', cam_dx, cam_dy, cam_dz)\n",
    "                     .withShift('C3', cam_dx, cam_dy, cam_dz)\n",
    "                     .withShift('C3E', cam_dx, cam_dy, cam_dz)\n",
    "                     .withShift('F', cam_dx, cam_dy, cam_dz)\n",
    "                     .withShift('FE', cam_dx, cam_dy, cam_dz)\n",
    "                     .withShift('C3', cam_dx, cam_dy, cam_dz)\n",
    "                     .withShift('C3E', cam_dx, cam_dy, cam_dz)\n",
    "                     .withShift('C4', cam_dx, cam_dy, cam_dz)\n",
    "                     .withShift('C4E', cam_dx, cam_dy, cam_dz)\n",
    "                     .withShift('D', cam_dx, cam_dy, cam_dz))\n",
    "    return telescope"
   ]
  },
  {
   "cell_type": "code",
   "execution_count": null,
   "metadata": {
    "collapsed": false
   },
   "outputs": [],
   "source": [
    "@interact(wavelen=widgets.FloatSlider(min=300.0,max=1100.0,step=10.0,value=620.0),\n",
    "          theta_x=widgets.FloatSlider(min=-1.1,max=1.1,step=0.01,value=-0.5),\n",
    "          theta_y=widgets.FloatSlider(min=-1.1,max=1.1,step=0.01,value=0.0),\n",
    "          M1_dx=widgets.FloatSlider(min=-1.0, max=1.0, step=0.01, value=0.00),\n",
    "          M1_dy=widgets.FloatSlider(min=-1.0, max=1.0, step=0.01, value=0.0),\n",
    "          cam_dx=widgets.FloatSlider(min=-1.0, max=1.0, step=0.01, value=0.0),\n",
    "          cam_dy=widgets.FloatSlider(min=-1.0, max=1.0, step=0.01, value=0.0),\n",
    "          cam_dz=widgets.FloatSlider(min=-1, max=1, step=0.01, value=0.0),\n",
    "          logscale=widgets.FloatSlider(min=1, max=3, step=0.1, value=1))\n",
    "def spot(wavelen, theta_x, theta_y, M1_dx, M1_dy, cam_dx, cam_dy, cam_dz, logscale):\n",
    "    \"\"\"Display a spot diagram for LSST.\n",
    "\n",
    "    @param wavelen  Wavelength in nm\n",
    "    @param theta_x  Field angle in degrees\n",
    "    @param theta_y  Field angle in degrees\n",
    "    @param M1_dx  M1 x decenter in mm\n",
    "    @param M1_dy  M1 y decenter in mm\n",
    "    @param cam_dx   Camera x decenter in mm\n",
    "    @param cam_dy   Camera y decenter in mm\n",
    "    @param cam_dz   Camera z despace in mm\n",
    "    @param logscale Logarithmic axes zoom level\n",
    "    \"\"\"\n",
    "    telescope = perturb(M1_dx*1e-3, M1_dy*1e-3, \n",
    "                        cam_dx*1e-3, cam_dy*1e-3, cam_dz*1e-3)\n",
    "    rs = telescope.trace(rays(theta_x*np.pi/180, theta_y*np.pi/180, wavelen*1e-9))\n",
    "    w = np.logical_not(rs.isVignetted)    \n",
    "    spots = np.vstack([rs.x[w], rs.y[w]]).T\n",
    "    spots = np.array(spots)\n",
    "    spots -= np.mean(spots, axis=0)\n",
    "    spots *= 1e6 # meters -> microns\n",
    "    plt.figure(figsize=(4.5,4))\n",
    "    plt.scatter(spots[:,0], spots[:,1], s=1, alpha=0.2)\n",
    "    plt.xlim(-10**logscale, 10**logscale)\n",
    "    plt.ylim(-10**logscale, 10**logscale)\n",
    "    plt.title(r\"$\\theta_x = {:4.2f}\\,,\\theta_y = {:4.2f}$\".format(theta_x, theta_y))\n",
    "    plt.xlabel(\"microns\")\n",
    "    plt.ylabel(\"microns\")"
   ]
  },
  {
   "cell_type": "code",
   "execution_count": null,
   "metadata": {
    "collapsed": true
   },
   "outputs": [],
   "source": [
    "#  http://stackoverflow.com/a/18968498\n",
    "def planeFit(points):\n",
    "    \"\"\"\n",
    "    p, n = planeFit(points)\n",
    "\n",
    "    Given an array, points, of shape (d,...)\n",
    "    representing points in d-dimensional space,\n",
    "    fit an d-dimensional plane to the points.\n",
    "    Return a point, p, on the plane (the point-cloud centroid),\n",
    "    and the normal, n.\n",
    "    \"\"\"\n",
    "    from numpy.linalg import svd\n",
    "    points = np.reshape(points, (np.shape(points)[0], -1)) # Collapse trialing dimensions\n",
    "    ctr = points.mean(axis=1)\n",
    "    x = points - ctr[:,np.newaxis]\n",
    "    M = np.dot(x, x.T) # Could also use np.cov(x) here.\n",
    "    return ctr, svd(M)[0][:,-1]"
   ]
  },
  {
   "cell_type": "code",
   "execution_count": null,
   "metadata": {
    "collapsed": false
   },
   "outputs": [],
   "source": [
    "@interact(wavelen=widgets.FloatSlider(min=300.0,max=1100.0,step=10.0,value=620.0),\n",
    "          theta_x=widgets.FloatSlider(min=-1.1,max=1.1,step=0.01,value=-0.5),\n",
    "          theta_y=widgets.FloatSlider(min=-1.1,max=1.1,step=0.01,value=0.0),\n",
    "          M1_dx=widgets.FloatSlider(min=-1.0, max=1.0, step=0.01, value=0.00),\n",
    "          M1_dy=widgets.FloatSlider(min=-1.0, max=1.0, step=0.01, value=0.0),\n",
    "          cam_dx=widgets.FloatSlider(min=-1.0, max=1.0, step=0.01, value=0.0),\n",
    "          cam_dy=widgets.FloatSlider(min=-1.0, max=1.0, step=0.01, value=0.0),\n",
    "          cam_dz=widgets.FloatSlider(min=-1, max=1, step=0.01, value=0.0),\n",
    "          contrast=widgets.FloatSlider(min=-6, max=-4, step=0.1, value=-5.5))\n",
    "def opd(wavelen, theta_x, theta_y, M1_dx, M1_dy, cam_dx, cam_dy, cam_dz, contrast):\n",
    "    \"\"\"Display a spot diagram for DECam.\n",
    "\n",
    "    @param wavelen  Wavelength in nm\n",
    "    @param theta_x  Field angle in degrees\n",
    "    @param theta_y  Field angle in degrees\n",
    "    @param M1_dx  M1 x decenter in mm\n",
    "    @param M1_dy  M1 y decenter in mm\n",
    "    @param cam_dx   Camera x decenter in mm\n",
    "    @param cam_dy   Camera y decenter in mm\n",
    "    @param cam_dz   Camera z despace in mm\n",
    "    @param contrast Logarithmic colorbar contrast level\n",
    "    \"\"\"\n",
    "    telescope = perturb(M1_dx*1e-3, M1_dy*1e-3, \n",
    "                        cam_dx*1e-3, cam_dy*1e-3, cam_dz*1e-3)\n",
    "    rs = telescope.trace(rays(theta_x*np.pi/180, theta_y*np.pi/180, wavelen*1e-9))\n",
    "    w = np.logical_not(rs.isVignetted)\n",
    "    theta_opd = np.vstack([rs.vx[w], rs.vy[w], rs.t0[w]]).T    \n",
    "    opd = theta_opd[:,2]\n",
    "    opd[:] -= np.mean(opd)    \n",
    "    x = theta_opd[:,0]\n",
    "    y = theta_opd[:,1]\n",
    "    p, n = planeFit(theta_opd[::10,:].T)\n",
    "    const = np.dot(p, n)\n",
    "    opd[:] -= (const-n[0]*x-n[1]*y)/n[2]\n",
    "    plt.figure(figsize=(5.3,4))\n",
    "    plt.scatter(x, y, c=opd, s=5, vmin=-10**contrast, vmax=10**contrast)\n",
    "    plt.xlim(-0.25, 0.25)\n",
    "    plt.ylim(-0.25, 0.25)\n",
    "    plt.axhline(0.0, c='k')\n",
    "    plt.axvline(0.0, c='k')\n",
    "    plt.xlabel(\"vx\")\n",
    "    plt.ylabel(\"vy\")\n",
    "    plt.colorbar()"
   ]
  },
  {
   "cell_type": "code",
   "execution_count": null,
   "metadata": {
    "collapsed": true
   },
   "outputs": [],
   "source": []
  }
 ],
 "metadata": {
  "kernelspec": {
   "display_name": "Python 3",
   "language": "python",
   "name": "python3"
  },
  "language_info": {
   "codemirror_mode": {
    "name": "ipython",
    "version": 3
   },
   "file_extension": ".py",
   "mimetype": "text/x-python",
   "name": "python",
   "nbconvert_exporter": "python",
   "pygments_lexer": "ipython3",
   "version": "3.6.0"
  },
  "widgets": {
   "state": {
    "748763e12b784cca8379914068a8bc14": {
     "views": [
      {
       "cell_index": 6
      }
     ]
    },
    "d433ead1394745dbac941f0ccdf5f50a": {
     "views": [
      {
       "cell_index": 4
      }
     ]
    }
   },
   "version": "1.2.0"
  }
 },
 "nbformat": 4,
 "nbformat_minor": 2
}
