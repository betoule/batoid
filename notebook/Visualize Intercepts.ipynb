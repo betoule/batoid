{
 "cells": [
  {
   "cell_type": "code",
   "execution_count": null,
   "metadata": {
    "collapsed": false
   },
   "outputs": [],
   "source": [
    "import os\n",
    "import sys\n",
    "import numpy as np\n",
    "import matplotlib.pyplot as plt\n",
    "sys.path.append(\"/Users/josh/src/jtrace/\")\n",
    "os.chdir('../')\n",
    "import jtrace\n",
    "%matplotlib inline"
   ]
  },
  {
   "cell_type": "code",
   "execution_count": null,
   "metadata": {
    "collapsed": false
   },
   "outputs": [],
   "source": [
    "para = jtrace.Paraboloid(1, 1)\n",
    "asphere = jtrace.Asphere(1./2, -0.9, [0,0,1], 1)\n",
    "plane = jtrace.Plane(1.6)\n",
    "r1 = jtrace.Ray(-1.2,0,0,0.35,0,1)\n",
    "isec1 = para.intersect(r1)\n",
    "isec2 = asphere.intersect(r1)\n",
    "isec3 = plane.intersect(r1)"
   ]
  },
  {
   "cell_type": "code",
   "execution_count": null,
   "metadata": {
    "collapsed": true
   },
   "outputs": [],
   "source": [
    "xs = np.linspace(-1, 1, 100)\n",
    "z1s = np.array([para(x,0) for x in xs])\n",
    "z2s = np.array([asphere(x,0) for x in xs])\n",
    "z3s = np.array([plane(x,0) for x in xs])"
   ]
  },
  {
   "cell_type": "code",
   "execution_count": null,
   "metadata": {
    "collapsed": false
   },
   "outputs": [],
   "source": [
    "plt.figure(figsize=(6,5.5))\n",
    "plt.plot(xs, z1s, c='b')\n",
    "plt.plot(xs, z2s, c='r')\n",
    "plt.plot(xs, z3s, c='g')\n",
    "plt.scatter(r1.p0.x, r1.p0.z, c='k')\n",
    "plt.scatter(isec1.point.x, isec1.point.z, c='b')\n",
    "plt.scatter(isec2.point.x, isec2.point.z, c='r')\n",
    "plt.scatter(isec3.point.x, isec3.point.z, c='g')\n",
    "plt.arrow(isec1.point.x, isec1.point.z, 0.1*isec1.surfaceNormal.x, 0.1*isec1.surfaceNormal.z, color='b')\n",
    "plt.arrow(isec2.point.x, isec2.point.z, 0.1*isec2.surfaceNormal.x, 0.1*isec2.surfaceNormal.z, color='r')\n",
    "plt.arrow(isec3.point.x, isec3.point.z, 0.1*isec3.surfaceNormal.x, 0.1*isec3.surfaceNormal.z, color='g')\n",
    "plt.plot([r1(-3).x, r1(3).x], [r1(-3).z, r1(3).z], c='k')\n",
    "plt.xlim(-1.5,1.5)\n",
    "plt.ylim(-0.5,2.5)"
   ]
  },
  {
   "cell_type": "code",
   "execution_count": null,
   "metadata": {
    "collapsed": true
   },
   "outputs": [],
   "source": []
  }
 ],
 "metadata": {
  "anaconda-cloud": {},
  "kernelspec": {
   "display_name": "Python [conda root]",
   "language": "python",
   "name": "conda-root-py"
  },
  "language_info": {
   "codemirror_mode": {
    "name": "ipython",
    "version": 3
   },
   "file_extension": ".py",
   "mimetype": "text/x-python",
   "name": "python",
   "nbconvert_exporter": "python",
   "pygments_lexer": "ipython3",
   "version": "3.5.2"
  }
 },
 "nbformat": 4,
 "nbformat_minor": 1
}
