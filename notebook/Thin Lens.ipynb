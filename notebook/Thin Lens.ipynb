{
 "cells": [
  {
   "cell_type": "code",
   "execution_count": null,
   "metadata": {
    "collapsed": true
   },
   "outputs": [],
   "source": [
    "import jtrace\n",
    "import os\n",
    "import numpy as np\n",
    "import matplotlib.pyplot as plt\n",
    "from ipywidgets import interact\n",
    "import ipywidgets as widgets\n",
    "%matplotlib inline"
   ]
  },
  {
   "cell_type": "code",
   "execution_count": null,
   "metadata": {
    "collapsed": true
   },
   "outputs": [],
   "source": [
    "D = 0.1\n",
    "m0 = jtrace.ConstMedium(1.000277)  # air\n",
    "w, n = np.genfromtxt(os.path.join(jtrace.datadir, \"media\", \"silica_dispersion.txt\")).T\n",
    "w *= 1e-6\n",
    "m1 = jtrace.TableMedium(jtrace.Table(w, n, jtrace.Table.Interpolant.linear))\n",
    "wavelength = 500e-9\n",
    "n0 = m0.getN(wavelength)\n",
    "n1 = m1.getN(wavelength)\n",
    "R1 = 0.5  # convex entrance surface\n",
    "R2 = -0.5  # convex exit surface\n",
    "d = 0.01\n",
    "# Lens maker equation:\n",
    "f = 1./((n1-n0)*(1./R1 - 1./R2 + (n1-n0)*d/R1/R2))"
   ]
  },
  {
   "cell_type": "code",
   "execution_count": null,
   "metadata": {
    "collapsed": true
   },
   "outputs": [],
   "source": [
    "s1 = jtrace.Quadric(R1, 0, -d/2)\n",
    "s2 = jtrace.Quadric(R2, 0, d/2)"
   ]
  },
  {
   "cell_type": "code",
   "execution_count": null,
   "metadata": {},
   "outputs": [],
   "source": [
    "x = np.linspace(-0.05, 0.05, 100)\n",
    "plt.plot(x, [s1.sag(0, x_) for x_ in x])\n",
    "plt.plot(x, [s2.sag(0, x_) for x_ in x])\n",
    "plt.axes().set_aspect('equal', 'datalim')"
   ]
  },
  {
   "cell_type": "code",
   "execution_count": null,
   "metadata": {
    "collapsed": true
   },
   "outputs": [],
   "source": [
    "z_origin = -0.02\n",
    "def rays(theta_x, theta_y, wavelength):\n",
    "    # Point towards (0,0,0), but at an angle.  Need to determine pupil locations.\n",
    "    rs = np.linspace(0, D/2, 10)\n",
    "    # The above works if theta is 0.\n",
    "    # If theta is not zero, then need to shift the rays depending on how far away their origins are.\n",
    "    # We'll set the z-origin to be in the same plane as the focal plane.\n",
    "    dx = f * np.tan(theta_x)\n",
    "    dy = f * np.tan(theta_y)\n",
    "    rays_ = []\n",
    "    for r in rs:        \n",
    "        phis = np.linspace(0, 2*np.pi, int(np.ceil(r/D*64)), endpoint=False)\n",
    "        for phi in phis:\n",
    "            rays_.append(\n",
    "                jtrace.Ray(jtrace.Vec3(r*np.cos(phi)+dx, r*np.sin(phi)+dy, z_origin),\n",
    "                           jtrace.Vec3(-np.tan(theta_x), -np.tan(theta_y), +1).UnitVec3()/1.000277,\n",
    "                           0, wavelength))\n",
    "    return rays_"
   ]
  },
  {
   "cell_type": "code",
   "execution_count": null,
   "metadata": {},
   "outputs": [],
   "source": [
    "@interact(theta_x=widgets.FloatSlider(min=-1,max=1,step=0.01,value=0.1),\n",
    "          theta_y=widgets.FloatSlider(min=-1,max=1,step=0.01,value=0.1),\n",
    "          wavelength=widgets.FloatSlider(min=0.4,max=0.7,step=0.01,value=0.5),\n",
    "          focus=widgets.FloatSlider(min=-20, max=20, step=0.1,value=5))\n",
    "def spot(theta_x, theta_y, wavelength, focus):\n",
    "    \"\"\"Display a spot diagram for a Newtonian telescope.\n",
    "\n",
    "    @param theta_x  Field angle in degrees\n",
    "    @param theta_y  Field angle in degrees\n",
    "    @param focus    Defocus distance in mm\n",
    "    \"\"\"\n",
    "    focal_plane = jtrace.Plane(f+focus*1e-3)\n",
    "    spots = []\n",
    "    for ray in rays(theta_x*np.pi/180, theta_y*np.pi/180, wavelength*1e-6):\n",
    "        isec1 = s1.intersect(ray)\n",
    "        rray1 = isec1.refractedRay(ray, m0, m1)\n",
    "\n",
    "        isec2 = s2.intersect(rray1)\n",
    "        rray2 = isec2.refractedRay(rray1, m1, m0)\n",
    "\n",
    "        isec3 = focal_plane.intersect(rray2)\n",
    "        spots.append([isec3.x0, isec3.y0])\n",
    "    spots = np.array(spots)\n",
    "    spots -= np.mean(spots, axis=0)\n",
    "#     spots *= plate_scale*206265 # meters -> arcseconds\n",
    "    plt.figure(figsize=(4.5,4))\n",
    "    plt.scatter(spots[:,0], spots[:,1], s=1, alpha=0.5)\n",
    "#     plt.xlim(-10, 10)\n",
    "#     plt.ylim(-10, 10)\n",
    "    plt.title(r\"$\\theta_x = {:4.2f}\\,,\\theta_y = {:4.2f}\\,,\\lambda = {:4g}\\,, f={:4.2f}$\".format(theta_x, theta_y, wavelength, focus))\n",
    "    plt.xlabel(\"meters\")\n",
    "    plt.ylabel(\"meters\")\n",
    "    plt.axes().set_aspect('equal', 'datalim')"
   ]
  },
  {
   "cell_type": "code",
   "execution_count": null,
   "metadata": {
    "collapsed": true
   },
   "outputs": [],
   "source": []
  }
 ],
 "metadata": {
  "anaconda-cloud": {},
  "kernelspec": {
   "display_name": "Python [default]",
   "language": "python",
   "name": "python3"
  },
  "language_info": {
   "codemirror_mode": {
    "name": "ipython",
    "version": 3
   },
   "file_extension": ".py",
   "mimetype": "text/x-python",
   "name": "python",
   "nbconvert_exporter": "python",
   "pygments_lexer": "ipython3",
   "version": "3.5.2"
  },
  "widgets": {
   "state": {
    "4b8cb3bc1a1c494ab70b7c09c9e78d1c": {
     "views": [
      {
       "cell_index": 5
      }
     ]
    }
   },
   "version": "1.2.0"
  }
 },
 "nbformat": 4,
 "nbformat_minor": 1
}
